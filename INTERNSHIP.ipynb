{
 "cells": [
  {
   "cell_type": "markdown",
   "id": "c8a4214e",
   "metadata": {},
   "source": [
    "### Problem Definition"
   ]
  },
  {
   "cell_type": "markdown",
   "id": "6e3e8ccd",
   "metadata": {},
   "source": [
    "### Convert the Sign Alphabet to Text"
   ]
  },
  {
   "cell_type": "markdown",
   "id": "0b5cb2be",
   "metadata": {},
   "source": [
    "### Data"
   ]
  },
  {
   "cell_type": "markdown",
   "id": "4b19ed25",
   "metadata": {},
   "source": [
    "#### 1.No cases for the letters J & Z (Reason: J & Z require motion)\n",
    "#### 2.GrayScale Images\n",
    "#### 3.Pixel Values Range From 0 to 255\n",
    "#### 4.Each image contains 784 Pixels"
   ]
  },
  {
   "cell_type": "markdown",
   "id": "959d3370",
   "metadata": {},
   "source": [
    "#### Evaluation\n",
    "\n",
    "##### Accuracy\n",
    "\n",
    "#### Modelling\n",
    "\n",
    "##### CNN"
   ]
  },
  {
   "cell_type": "markdown",
   "id": "d9a19843",
   "metadata": {},
   "source": [
    "### Initial End-to-End Workflow (Start)"
   ]
  },
  {
   "cell_type": "code",
   "execution_count": 85,
   "id": "9ccb64dd",
   "metadata": {},
   "outputs": [],
   "source": [
    "import tensorflow"
   ]
  },
  {
   "cell_type": "code",
   "execution_count": 2,
   "id": "24013a71",
   "metadata": {},
   "outputs": [],
   "source": [
    "# Importing required libraries\n",
    "\n",
    "from sklearn.preprocessing import LabelBinarizer\n",
    "from tensorflow import keras\n",
    "from keras.utils import plot_model\n",
    "\n",
    "import tensorflow as tf\n",
    "import numpy as np\n",
    "import pandas as pd\n",
    "import matplotlib.pyplot as plt\n",
    "import pickle"
   ]
  },
  {
   "cell_type": "code",
   "execution_count": 3,
   "id": "dfb92f0d",
   "metadata": {},
   "outputs": [],
   "source": [
    "# loading the training data (X+y)\n",
    "train_df = pd.read_csv('sign_mnist_train.csv')"
   ]
  },
  {
   "cell_type": "code",
   "execution_count": 4,
   "id": "db18465c",
   "metadata": {},
   "outputs": [],
   "source": [
    "train_df = train_df.sample(frac=1, random_state=42) # Shuffiling the entire dataset"
   ]
  },
  {
   "cell_type": "code",
   "execution_count": 5,
   "id": "91f4c693",
   "metadata": {},
   "outputs": [],
   "source": [
    "X, y = train_df.drop('label', axis=1), train_df['label'] # Split the dataset into X, y"
   ]
  },
  {
   "cell_type": "code",
   "execution_count": 6,
   "id": "14004c6b",
   "metadata": {},
   "outputs": [
    {
     "data": {
      "text/plain": [
       "((27455, 784), (27455,))"
      ]
     },
     "execution_count": 6,
     "metadata": {},
     "output_type": "execute_result"
    }
   ],
   "source": [
    "X.shape, y.shape"
   ]
  },
  {
   "cell_type": "code",
   "execution_count": 7,
   "id": "5e32d47a",
   "metadata": {},
   "outputs": [
    {
     "data": {
      "text/plain": [
       "(array([dtype('int64')], dtype=object), dtype('int64'))"
      ]
     },
     "execution_count": 7,
     "metadata": {},
     "output_type": "execute_result"
    }
   ],
   "source": [
    "np.unique(X.dtypes), y.dtype"
   ]
  },
  {
   "cell_type": "code",
   "execution_count": 8,
   "id": "11e8b412",
   "metadata": {},
   "outputs": [],
   "source": [
    "label_binarizer = LabelBinarizer() # Binarize labels in a one-vs-all fashion (return one-hot encoded vectors)\n",
    "y = label_binarizer.fit_transform(y)"
   ]
  },
  {
   "cell_type": "code",
   "execution_count": 9,
   "id": "354b6eda",
   "metadata": {},
   "outputs": [],
   "source": [
    "X = X/255.0 # Normalizing the training data and converting the data type to float"
   ]
  },
  {
   "cell_type": "code",
   "execution_count": 10,
   "id": "18527cf2",
   "metadata": {},
   "outputs": [
    {
     "data": {
      "text/plain": [
       "array([dtype('float64')], dtype=object)"
      ]
     },
     "execution_count": 10,
     "metadata": {},
     "output_type": "execute_result"
    }
   ],
   "source": [
    "np.unique(X.dtypes)"
   ]
  },
  {
   "cell_type": "code",
   "execution_count": 11,
   "id": "cf872620",
   "metadata": {},
   "outputs": [],
   "source": [
    "# Converting the 1-D array of 784 pixels to (28, 28, 1) Image\n",
    "# (28, 28) represents the spatial dimensions of the image & 1 specifies that the image is grayscale\n",
    "X = tf.reshape(X, [-1, 28, 28, 1])"
   ]
  },
  {
   "cell_type": "code",
   "execution_count": 12,
   "id": "f19a17b4",
   "metadata": {},
   "outputs": [
    {
     "data": {
      "text/plain": [
       "(TensorShape([27455, 28, 28, 1]), (27455, 24))"
      ]
     },
     "execution_count": 12,
     "metadata": {},
     "output_type": "execute_result"
    }
   ],
   "source": [
    "X.shape, y.shape"
   ]
  },
  {
   "cell_type": "code",
   "execution_count": 13,
   "id": "213074a8",
   "metadata": {},
   "outputs": [],
   "source": [
    "# Generating a validation set\n",
    "\n",
    "X_train, X_valid = X[:25000], X[25000:]\n",
    "y_train, y_valid = y[:25000], y[25000:]"
   ]
  },
  {
   "cell_type": "code",
   "execution_count": 14,
   "id": "378f310b",
   "metadata": {},
   "outputs": [
    {
     "data": {
      "text/plain": [
       "tf.float64"
      ]
     },
     "execution_count": 14,
     "metadata": {},
     "output_type": "execute_result"
    }
   ],
   "source": [
    "X_train[0].dtype"
   ]
  },
  {
   "cell_type": "code",
   "execution_count": 15,
   "id": "7dc9b8ef",
   "metadata": {},
   "outputs": [
    {
     "data": {
      "text/plain": [
       "TensorShape([28, 28, 1])"
      ]
     },
     "execution_count": 15,
     "metadata": {},
     "output_type": "execute_result"
    }
   ],
   "source": [
    "X_train[0].shape"
   ]
  },
  {
   "cell_type": "code",
   "execution_count": 16,
   "id": "8744358e",
   "metadata": {},
   "outputs": [
    {
     "data": {
      "text/plain": [
       "(<matplotlib.image.AxesImage at 0x1bf54ef8970>,\n",
       " array([0, 0, 0, 0, 0, 0, 0, 0, 0, 0, 0, 0, 0, 0, 0, 0, 0, 0, 0, 0, 0, 0,\n",
       "        0, 1]))"
      ]
     },
     "execution_count": 16,
     "metadata": {},
     "output_type": "execute_result"
    },
    {
     "data": {
      "image/png": "[encoded data removed]",
      "text/plain": [
       "<Figure size 432x288 with 1 Axes>"
      ]
     },
     "metadata": {
      "needs_background": "light"
     },
     "output_type": "display_data"
    }
   ],
   "source": [
    "plt.imshow(X[0], cmap='gray'), y[0]"
   ]
  },
  {
   "cell_type": "code",
   "execution_count": 17,
   "id": "29434081",
   "metadata": {},
   "outputs": [],
   "source": [
    "# Defining the CNN\n",
    "model = keras.models.Sequential()\n",
    "model.add(keras.layers.Conv2D(32, (5, 5), padding='same', activation='relu', input_shape=(28, 28, 1)))\n",
    "model.add(keras.layers.MaxPooling2D(pool_size=(2, 2)))\n",
    "model.add(keras.layers.Conv2D(64, (5, 5), padding='same', activation='relu'))\n",
    "model.add(keras.layers.MaxPooling2D(pool_size=(2, 2)))\n",
    "model.add(keras.layers.Conv2D(128, (5, 5), padding='same', activation='relu'))\n",
    "model.add(keras.layers.MaxPooling2D(pool_size=(2, 2)))\n",
    "model.add(keras.layers.Flatten())\n",
    "model.add(keras.layers.Dense(128, activation='relu'))\n",
    "model.add(keras.layers.Dense(24, activation='softmax'))"
   ]
  },
  {
   "cell_type": "code",
   "execution_count": 18,
   "id": "425a948a",
   "metadata": {},
   "outputs": [
    {
     "name": "stdout",
     "output_type": "stream",
     "text": [
      "Model: \"sequential\"\n",
      "_________________________________________________________________\n",
      " Layer (type)                Output Shape              Param #   \n",
      "=================================================================\n",
      " conv2d (Conv2D)             (None, 28, 28, 32)        832       \n",
      "                                                                 \n",
      " max_pooling2d (MaxPooling2D  (None, 14, 14, 32)       0         \n",
      " )                                                               \n",
      "                                                                 \n",
      " conv2d_1 (Conv2D)           (None, 14, 14, 64)        51264     \n",
      "                                                                 \n",
      " max_pooling2d_1 (MaxPooling  (None, 7, 7, 64)         0         \n",
      " 2D)                                                             \n",
      "                                                                 \n",
      " conv2d_2 (Conv2D)           (None, 7, 7, 128)         204928    \n",
      "                                                                 \n",
      " max_pooling2d_2 (MaxPooling  (None, 3, 3, 128)        0         \n",
      " 2D)                                                             \n",
      "                                                                 \n",
      " flatten (Flatten)           (None, 1152)              0         \n",
      "                                                                 \n",
      " dense (Dense)               (None, 128)               147584    \n",
      "                                                                 \n",
      " dense_1 (Dense)             (None, 24)                3096      \n",
      "                                                                 \n",
      "=================================================================\n",
      "Total params: 407,704\n",
      "Trainable params: 407,704\n",
      "Non-trainable params: 0\n",
      "_________________________________________________________________\n"
     ]
    }
   ],
   "source": [
    "model.summary()"
   ]
  },
  {
   "cell_type": "code",
   "execution_count": 19,
   "id": "c6a36df7",
   "metadata": {},
   "outputs": [],
   "source": [
    "model.compile(loss='categorical_crossentropy', optimizer='adam', metrics=['accuracy'])"
   ]
  },
  {
   "cell_type": "code",
   "execution_count": 20,
   "id": "c36606bb",
   "metadata": {},
   "outputs": [],
   "source": [
    "save_best_cb = keras.callbacks.ModelCheckpoint('models/initial-end-to-end', save_best_only=True) # Saves the best model so far\n",
    "early_stopping_cb = keras.callbacks.EarlyStopping(patience=5) # Interupts training when there is no progress"
   ]
  },
  {
   "cell_type": "code",
   "execution_count": 21,
   "id": "3779a1ea",
   "metadata": {},
   "outputs": [
    {
     "name": "stdout",
     "output_type": "stream",
     "text": [
      "Epoch 1/20\n",
      "781/782 [============================>.] - ETA: 0s - loss: 0.7829 - accuracy: 0.7585"
     ]
    },
    {
     "name": "stderr",
     "output_type": "stream",
     "text": [
      "WARNING:absl:Found untraced functions such as _jit_compiled_convolution_op, _jit_compiled_convolution_op, _jit_compiled_convolution_op while saving (showing 3 of 3). These functions will not be directly callable after loading.\n"
     ]
    },
    {
     "name": "stdout",
     "output_type": "stream",
     "text": [
      "INFO:tensorflow:Assets written to: models\\initial-end-to-end\\assets\n"
     ]
    },
    {
     "name": "stderr",
     "output_type": "stream",
     "text": [
      "INFO:tensorflow:Assets written to: models\\initial-end-to-end\\assets\n"
     ]
    },
    {
     "name": "stdout",
     "output_type": "stream",
     "text": [
      "782/782 [==============================] - 63s 76ms/step - loss: 0.7827 - accuracy: 0.7586 - val_loss: 0.0438 - val_accuracy: 0.9919\n",
      "Epoch 2/20\n",
      "781/782 [============================>.] - ETA: 0s - loss: 0.0132 - accuracy: 0.9970"
     ]
    },
    {
     "name": "stderr",
     "output_type": "stream",
     "text": [
      "WARNING:absl:Found untraced functions such as _jit_compiled_convolution_op, _jit_compiled_convolution_op, _jit_compiled_convolution_op while saving (showing 3 of 3). These functions will not be directly callable after loading.\n"
     ]
    },
    {
     "name": "stdout",
     "output_type": "stream",
     "text": [
      "INFO:tensorflow:Assets written to: models\\initial-end-to-end\\assets\n"
     ]
    },
    {
     "name": "stderr",
     "output_type": "stream",
     "text": [
      "INFO:tensorflow:Assets written to: models\\initial-end-to-end\\assets\n"
     ]
    },
    {
     "name": "stdout",
     "output_type": "stream",
     "text": [
      "782/782 [==============================] - 47s 60ms/step - loss: 0.0132 - accuracy: 0.9970 - val_loss: 6.6028e-04 - val_accuracy: 1.0000\n",
      "Epoch 3/20\n",
      "782/782 [==============================] - 47s 60ms/step - loss: 0.0206 - accuracy: 0.9944 - val_loss: 0.3001 - val_accuracy: 0.8990\n",
      "Epoch 4/20\n",
      "781/782 [============================>.] - ETA: 0s - loss: 0.0246 - accuracy: 0.9925"
     ]
    },
    {
     "name": "stderr",
     "output_type": "stream",
     "text": [
      "WARNING:absl:Found untraced functions such as _jit_compiled_convolution_op, _jit_compiled_convolution_op, _jit_compiled_convolution_op while saving (showing 3 of 3). These functions will not be directly callable after loading.\n"
     ]
    },
    {
     "name": "stdout",
     "output_type": "stream",
     "text": [
      "INFO:tensorflow:Assets written to: models\\initial-end-to-end\\assets\n"
     ]
    },
    {
     "name": "stderr",
     "output_type": "stream",
     "text": [
      "INFO:tensorflow:Assets written to: models\\initial-end-to-end\\assets\n"
     ]
    },
    {
     "name": "stdout",
     "output_type": "stream",
     "text": [
      "782/782 [==============================] - 49s 62ms/step - loss: 0.0246 - accuracy: 0.9925 - val_loss: 1.8522e-04 - val_accuracy: 1.0000\n",
      "Epoch 5/20\n",
      "781/782 [============================>.] - ETA: 0s - loss: 1.0612e-04 - accuracy: 1.0000"
     ]
    },
    {
     "name": "stderr",
     "output_type": "stream",
     "text": [
      "WARNING:absl:Found untraced functions such as _jit_compiled_convolution_op, _jit_compiled_convolution_op, _jit_compiled_convolution_op while saving (showing 3 of 3). These functions will not be directly callable after loading.\n"
     ]
    },
    {
     "name": "stdout",
     "output_type": "stream",
     "text": [
      "INFO:tensorflow:Assets written to: models\\initial-end-to-end\\assets\n"
     ]
    },
    {
     "name": "stderr",
     "output_type": "stream",
     "text": [
      "INFO:tensorflow:Assets written to: models\\initial-end-to-end\\assets\n"
     ]
    },
    {
     "name": "stdout",
     "output_type": "stream",
     "text": [
      "782/782 [==============================] - 48s 61ms/step - loss: 1.0609e-04 - accuracy: 1.0000 - val_loss: 7.6026e-05 - val_accuracy: 1.0000\n",
      "Epoch 6/20\n",
      "781/782 [============================>.] - ETA: 0s - loss: 4.8763e-05 - accuracy: 1.0000"
     ]
    },
    {
     "name": "stderr",
     "output_type": "stream",
     "text": [
      "WARNING:absl:Found untraced functions such as _jit_compiled_convolution_op, _jit_compiled_convolution_op, _jit_compiled_convolution_op while saving (showing 3 of 3). These functions will not be directly callable after loading.\n"
     ]
    },
    {
     "name": "stdout",
     "output_type": "stream",
     "text": [
      "INFO:tensorflow:Assets written to: models\\initial-end-to-end\\assets\n"
     ]
    },
    {
     "name": "stderr",
     "output_type": "stream",
     "text": [
      "INFO:tensorflow:Assets written to: models\\initial-end-to-end\\assets\n"
     ]
    },
    {
     "name": "stdout",
     "output_type": "stream",
     "text": [
      "782/782 [==============================] - 48s 62ms/step - loss: 4.8757e-05 - accuracy: 1.0000 - val_loss: 4.1444e-05 - val_accuracy: 1.0000\n",
      "Epoch 7/20\n",
      "781/782 [============================>.] - ETA: 0s - loss: 2.7491e-05 - accuracy: 1.0000"
     ]
    },
    {
     "name": "stderr",
     "output_type": "stream",
     "text": [
      "WARNING:absl:Found untraced functions such as _jit_compiled_convolution_op, _jit_compiled_convolution_op, _jit_compiled_convolution_op while saving (showing 3 of 3). These functions will not be directly callable after loading.\n"
     ]
    },
    {
     "name": "stdout",
     "output_type": "stream",
     "text": [
      "INFO:tensorflow:Assets written to: models\\initial-end-to-end\\assets\n"
     ]
    },
    {
     "name": "stderr",
     "output_type": "stream",
     "text": [
      "INFO:tensorflow:Assets written to: models\\initial-end-to-end\\assets\n"
     ]
    },
    {
     "name": "stdout",
     "output_type": "stream",
     "text": [
      "782/782 [==============================] - 48s 61ms/step - loss: 2.7511e-05 - accuracy: 1.0000 - val_loss: 2.5013e-05 - val_accuracy: 1.0000\n",
      "Epoch 8/20\n",
      "781/782 [============================>.] - ETA: 0s - loss: 1.6806e-05 - accuracy: 1.0000"
     ]
    },
    {
     "name": "stderr",
     "output_type": "stream",
     "text": [
      "WARNING:absl:Found untraced functions such as _jit_compiled_convolution_op, _jit_compiled_convolution_op, _jit_compiled_convolution_op while saving (showing 3 of 3). These functions will not be directly callable after loading.\n"
     ]
    },
    {
     "name": "stdout",
     "output_type": "stream",
     "text": [
      "INFO:tensorflow:Assets written to: models\\initial-end-to-end\\assets\n"
     ]
    },
    {
     "name": "stderr",
     "output_type": "stream",
     "text": [
      "INFO:tensorflow:Assets written to: models\\initial-end-to-end\\assets\n"
     ]
    },
    {
     "name": "stdout",
     "output_type": "stream",
     "text": [
      "782/782 [==============================] - 46s 59ms/step - loss: 1.6819e-05 - accuracy: 1.0000 - val_loss: 1.5862e-05 - val_accuracy: 1.0000\n",
      "Epoch 9/20\n",
      "781/782 [============================>.] - ETA: 0s - loss: 1.0616e-05 - accuracy: 1.0000"
     ]
    },
    {
     "name": "stderr",
     "output_type": "stream",
     "text": [
      "WARNING:absl:Found untraced functions such as _jit_compiled_convolution_op, _jit_compiled_convolution_op, _jit_compiled_convolution_op while saving (showing 3 of 3). These functions will not be directly callable after loading.\n"
     ]
    },
    {
     "name": "stdout",
     "output_type": "stream",
     "text": [
      "INFO:tensorflow:Assets written to: models\\initial-end-to-end\\assets\n"
     ]
    },
    {
     "name": "stderr",
     "output_type": "stream",
     "text": [
      "INFO:tensorflow:Assets written to: models\\initial-end-to-end\\assets\n"
     ]
    },
    {
     "name": "stdout",
     "output_type": "stream",
     "text": [
      "782/782 [==============================] - 48s 62ms/step - loss: 1.0634e-05 - accuracy: 1.0000 - val_loss: 1.1061e-05 - val_accuracy: 1.0000\n",
      "Epoch 10/20\n",
      "781/782 [============================>.] - ETA: 0s - loss: 6.9919e-06 - accuracy: 1.0000"
     ]
    },
    {
     "name": "stderr",
     "output_type": "stream",
     "text": [
      "WARNING:absl:Found untraced functions such as _jit_compiled_convolution_op, _jit_compiled_convolution_op, _jit_compiled_convolution_op while saving (showing 3 of 3). These functions will not be directly callable after loading.\n"
     ]
    },
    {
     "name": "stdout",
     "output_type": "stream",
     "text": [
      "INFO:tensorflow:Assets written to: models\\initial-end-to-end\\assets\n"
     ]
    },
    {
     "name": "stderr",
     "output_type": "stream",
     "text": [
      "INFO:tensorflow:Assets written to: models\\initial-end-to-end\\assets\n"
     ]
    },
    {
     "name": "stdout",
     "output_type": "stream",
     "text": [
      "782/782 [==============================] - 44s 57ms/step - loss: 6.9909e-06 - accuracy: 1.0000 - val_loss: 7.3712e-06 - val_accuracy: 1.0000\n",
      "Epoch 11/20\n",
      "781/782 [============================>.] - ETA: 0s - loss: 4.6241e-06 - accuracy: 1.0000"
     ]
    },
    {
     "name": "stderr",
     "output_type": "stream",
     "text": [
      "WARNING:absl:Found untraced functions such as _jit_compiled_convolution_op, _jit_compiled_convolution_op, _jit_compiled_convolution_op while saving (showing 3 of 3). These functions will not be directly callable after loading.\n"
     ]
    },
    {
     "name": "stdout",
     "output_type": "stream",
     "text": [
      "INFO:tensorflow:Assets written to: models\\initial-end-to-end\\assets\n"
     ]
    },
    {
     "name": "stderr",
     "output_type": "stream",
     "text": [
      "INFO:tensorflow:Assets written to: models\\initial-end-to-end\\assets\n"
     ]
    },
    {
     "name": "stdout",
     "output_type": "stream",
     "text": [
      "782/782 [==============================] - 47s 60ms/step - loss: 4.6228e-06 - accuracy: 1.0000 - val_loss: 4.8711e-06 - val_accuracy: 1.0000\n",
      "Epoch 12/20\n",
      "781/782 [============================>.] - ETA: 0s - loss: 3.1008e-06 - accuracy: 1.0000"
     ]
    },
    {
     "name": "stderr",
     "output_type": "stream",
     "text": [
      "WARNING:absl:Found untraced functions such as _jit_compiled_convolution_op, _jit_compiled_convolution_op, _jit_compiled_convolution_op while saving (showing 3 of 3). These functions will not be directly callable after loading.\n"
     ]
    },
    {
     "name": "stdout",
     "output_type": "stream",
     "text": [
      "INFO:tensorflow:Assets written to: models\\initial-end-to-end\\assets\n"
     ]
    },
    {
     "name": "stderr",
     "output_type": "stream",
     "text": [
      "INFO:tensorflow:Assets written to: models\\initial-end-to-end\\assets\n"
     ]
    },
    {
     "name": "stdout",
     "output_type": "stream",
     "text": [
      "782/782 [==============================] - 47s 60ms/step - loss: 3.1003e-06 - accuracy: 1.0000 - val_loss: 3.1328e-06 - val_accuracy: 1.0000\n",
      "Epoch 13/20\n",
      "781/782 [============================>.] - ETA: 0s - loss: 2.0743e-06 - accuracy: 1.0000"
     ]
    },
    {
     "name": "stderr",
     "output_type": "stream",
     "text": [
      "WARNING:absl:Found untraced functions such as _jit_compiled_convolution_op, _jit_compiled_convolution_op, _jit_compiled_convolution_op while saving (showing 3 of 3). These functions will not be directly callable after loading.\n"
     ]
    },
    {
     "name": "stdout",
     "output_type": "stream",
     "text": [
      "INFO:tensorflow:Assets written to: models\\initial-end-to-end\\assets\n"
     ]
    },
    {
     "name": "stderr",
     "output_type": "stream",
     "text": [
      "INFO:tensorflow:Assets written to: models\\initial-end-to-end\\assets\n"
     ]
    },
    {
     "name": "stdout",
     "output_type": "stream",
     "text": [
      "782/782 [==============================] - 45s 57ms/step - loss: 2.0736e-06 - accuracy: 1.0000 - val_loss: 2.2050e-06 - val_accuracy: 1.0000\n",
      "Epoch 14/20\n",
      "781/782 [============================>.] - ETA: 0s - loss: 1.3922e-06 - accuracy: 1.0000"
     ]
    },
    {
     "name": "stderr",
     "output_type": "stream",
     "text": [
      "WARNING:absl:Found untraced functions such as _jit_compiled_convolution_op, _jit_compiled_convolution_op, _jit_compiled_convolution_op while saving (showing 3 of 3). These functions will not be directly callable after loading.\n"
     ]
    },
    {
     "name": "stdout",
     "output_type": "stream",
     "text": [
      "INFO:tensorflow:Assets written to: models\\initial-end-to-end\\assets\n"
     ]
    },
    {
     "name": "stderr",
     "output_type": "stream",
     "text": [
      "INFO:tensorflow:Assets written to: models\\initial-end-to-end\\assets\n"
     ]
    },
    {
     "name": "stdout",
     "output_type": "stream",
     "text": [
      "782/782 [==============================] - 47s 60ms/step - loss: 1.3927e-06 - accuracy: 1.0000 - val_loss: 1.5525e-06 - val_accuracy: 1.0000\n",
      "Epoch 15/20\n",
      "781/782 [============================>.] - ETA: 0s - loss: 9.3380e-07 - accuracy: 1.0000"
     ]
    },
    {
     "name": "stderr",
     "output_type": "stream",
     "text": [
      "WARNING:absl:Found untraced functions such as _jit_compiled_convolution_op, _jit_compiled_convolution_op, _jit_compiled_convolution_op while saving (showing 3 of 3). These functions will not be directly callable after loading.\n"
     ]
    },
    {
     "name": "stdout",
     "output_type": "stream",
     "text": [
      "INFO:tensorflow:Assets written to: models\\initial-end-to-end\\assets\n"
     ]
    },
    {
     "name": "stderr",
     "output_type": "stream",
     "text": [
      "INFO:tensorflow:Assets written to: models\\initial-end-to-end\\assets\n"
     ]
    },
    {
     "name": "stdout",
     "output_type": "stream",
     "text": [
      "782/782 [==============================] - 59s 76ms/step - loss: 9.3357e-07 - accuracy: 1.0000 - val_loss: 1.0401e-06 - val_accuracy: 1.0000\n",
      "Epoch 16/20\n",
      "781/782 [============================>.] - ETA: 0s - loss: 6.3115e-07 - accuracy: 1.0000"
     ]
    },
    {
     "name": "stderr",
     "output_type": "stream",
     "text": [
      "WARNING:absl:Found untraced functions such as _jit_compiled_convolution_op, _jit_compiled_convolution_op, _jit_compiled_convolution_op while saving (showing 3 of 3). These functions will not be directly callable after loading.\n"
     ]
    },
    {
     "name": "stdout",
     "output_type": "stream",
     "text": [
      "INFO:tensorflow:Assets written to: models\\initial-end-to-end\\assets\n"
     ]
    },
    {
     "name": "stderr",
     "output_type": "stream",
     "text": [
      "INFO:tensorflow:Assets written to: models\\initial-end-to-end\\assets\n"
     ]
    },
    {
     "name": "stdout",
     "output_type": "stream",
     "text": [
      "782/782 [==============================] - 49s 63ms/step - loss: 6.3115e-07 - accuracy: 1.0000 - val_loss: 7.0616e-07 - val_accuracy: 1.0000\n",
      "Epoch 17/20\n",
      "781/782 [============================>.] - ETA: 0s - loss: 4.1507e-07 - accuracy: 1.0000"
     ]
    },
    {
     "name": "stderr",
     "output_type": "stream",
     "text": [
      "WARNING:absl:Found untraced functions such as _jit_compiled_convolution_op, _jit_compiled_convolution_op, _jit_compiled_convolution_op while saving (showing 3 of 3). These functions will not be directly callable after loading.\n"
     ]
    },
    {
     "name": "stdout",
     "output_type": "stream",
     "text": [
      "INFO:tensorflow:Assets written to: models\\initial-end-to-end\\assets\n"
     ]
    },
    {
     "name": "stderr",
     "output_type": "stream",
     "text": [
      "INFO:tensorflow:Assets written to: models\\initial-end-to-end\\assets\n"
     ]
    },
    {
     "name": "stdout",
     "output_type": "stream",
     "text": [
      "782/782 [==============================] - 49s 62ms/step - loss: 4.1498e-07 - accuracy: 1.0000 - val_loss: 4.9611e-07 - val_accuracy: 1.0000\n",
      "Epoch 18/20\n",
      "781/782 [============================>.] - ETA: 0s - loss: 2.7391e-07 - accuracy: 1.0000"
     ]
    },
    {
     "name": "stderr",
     "output_type": "stream",
     "text": [
      "WARNING:absl:Found untraced functions such as _jit_compiled_convolution_op, _jit_compiled_convolution_op, _jit_compiled_convolution_op while saving (showing 3 of 3). These functions will not be directly callable after loading.\n"
     ]
    },
    {
     "name": "stdout",
     "output_type": "stream",
     "text": [
      "INFO:tensorflow:Assets written to: models\\initial-end-to-end\\assets\n"
     ]
    },
    {
     "name": "stderr",
     "output_type": "stream",
     "text": [
      "INFO:tensorflow:Assets written to: models\\initial-end-to-end\\assets\n"
     ]
    },
    {
     "name": "stdout",
     "output_type": "stream",
     "text": [
      "782/782 [==============================] - 48s 61ms/step - loss: 2.7383e-07 - accuracy: 1.0000 - val_loss: 3.2956e-07 - val_accuracy: 1.0000\n",
      "Epoch 19/20\n",
      "781/782 [============================>.] - ETA: 0s - loss: 1.8455e-07 - accuracy: 1.0000"
     ]
    },
    {
     "name": "stderr",
     "output_type": "stream",
     "text": [
      "WARNING:absl:Found untraced functions such as _jit_compiled_convolution_op, _jit_compiled_convolution_op, _jit_compiled_convolution_op while saving (showing 3 of 3). These functions will not be directly callable after loading.\n"
     ]
    },
    {
     "name": "stdout",
     "output_type": "stream",
     "text": [
      "INFO:tensorflow:Assets written to: models\\initial-end-to-end\\assets\n"
     ]
    },
    {
     "name": "stderr",
     "output_type": "stream",
     "text": [
      "INFO:tensorflow:Assets written to: models\\initial-end-to-end\\assets\n"
     ]
    },
    {
     "name": "stdout",
     "output_type": "stream",
     "text": [
      "782/782 [==============================] - 49s 62ms/step - loss: 1.8481e-07 - accuracy: 1.0000 - val_loss: 2.3419e-07 - val_accuracy: 1.0000\n",
      "Epoch 20/20\n",
      "781/782 [============================>.] - ETA: 0s - loss: 1.2207e-07 - accuracy: 1.0000"
     ]
    },
    {
     "name": "stderr",
     "output_type": "stream",
     "text": [
      "WARNING:absl:Found untraced functions such as _jit_compiled_convolution_op, _jit_compiled_convolution_op, _jit_compiled_convolution_op while saving (showing 3 of 3). These functions will not be directly callable after loading.\n"
     ]
    },
    {
     "name": "stdout",
     "output_type": "stream",
     "text": [
      "INFO:tensorflow:Assets written to: models\\initial-end-to-end\\assets\n"
     ]
    },
    {
     "name": "stderr",
     "output_type": "stream",
     "text": [
      "INFO:tensorflow:Assets written to: models\\initial-end-to-end\\assets\n"
     ]
    },
    {
     "name": "stdout",
     "output_type": "stream",
     "text": [
      "782/782 [==============================] - 49s 63ms/step - loss: 1.2205e-07 - accuracy: 1.0000 - val_loss: 1.5184e-07 - val_accuracy: 1.0000\n"
     ]
    }
   ],
   "source": [
    "# The model is same is 'models/initial-end-to-end'\n",
    "# The history object is 'models/initial-end-to-end-history'\n",
    "\n",
    "history = model.fit(X_train, y_train, epochs=20, validation_data=(X_valid, y_valid), callbacks=[save_best_cb, early_stopping_cb])"
   ]
  },
  {
   "cell_type": "code",
   "execution_count": 22,
   "id": "7d3afb85",
   "metadata": {},
   "outputs": [
    {
     "data": {
      "text/plain": [
       "{'loss': [0.7826583385467529,\n",
       "  0.013166194781661034,\n",
       "  0.020567787811160088,\n",
       "  0.024578383192420006,\n",
       "  0.00010609371383907273,\n",
       "  4.875666490988806e-05,\n",
       "  2.751093234110158e-05,\n",
       "  1.6819005395518616e-05,\n",
       "  1.0633642887114547e-05,\n",
       "  6.990883321122965e-06,\n",
       "  4.622821961675072e-06,\n",
       "  3.1003078220237512e-06,\n",
       "  2.0736115402542055e-06,\n",
       "  1.3927041209171875e-06,\n",
       "  9.335731192550156e-07,\n",
       "  6.311540232672996e-07,\n",
       "  4.1497952452118625e-07,\n",
       "  2.738276236868842e-07,\n",
       "  1.8481206609521905e-07,\n",
       "  1.220462593209959e-07],\n",
       " 'accuracy': [0.7585999965667725,\n",
       "  0.9970399737358093,\n",
       "  0.9944400191307068,\n",
       "  0.9924799799919128,\n",
       "  1.0,\n",
       "  1.0,\n",
       "  1.0,\n",
       "  1.0,\n",
       "  1.0,\n",
       "  1.0,\n",
       "  1.0,\n",
       "  1.0,\n",
       "  1.0,\n",
       "  1.0,\n",
       "  1.0,\n",
       "  1.0,\n",
       "  1.0,\n",
       "  1.0,\n",
       "  1.0,\n",
       "  1.0],\n",
       " 'val_loss': [0.04375440627336502,\n",
       "  0.0006602781359106302,\n",
       "  0.30007559061050415,\n",
       "  0.00018521881429478526,\n",
       "  7.602609548484907e-05,\n",
       "  4.144422200624831e-05,\n",
       "  2.501287053746637e-05,\n",
       "  1.586182406754233e-05,\n",
       "  1.1060787073802203e-05,\n",
       "  7.371163519565016e-06,\n",
       "  4.871099008596502e-06,\n",
       "  3.1328181648859754e-06,\n",
       "  2.205030114055262e-06,\n",
       "  1.5524840364378178e-06,\n",
       "  1.040080860548187e-06,\n",
       "  7.061631208671315e-07,\n",
       "  4.961086119692482e-07,\n",
       "  3.2955691153802036e-07,\n",
       "  2.3419109140832006e-07,\n",
       "  1.518385914778264e-07],\n",
       " 'val_accuracy': [0.9918533563613892,\n",
       "  1.0,\n",
       "  0.8989816904067993,\n",
       "  1.0,\n",
       "  1.0,\n",
       "  1.0,\n",
       "  1.0,\n",
       "  1.0,\n",
       "  1.0,\n",
       "  1.0,\n",
       "  1.0,\n",
       "  1.0,\n",
       "  1.0,\n",
       "  1.0,\n",
       "  1.0,\n",
       "  1.0,\n",
       "  1.0,\n",
       "  1.0,\n",
       "  1.0,\n",
       "  1.0]}"
      ]
     },
     "execution_count": 22,
     "metadata": {},
     "output_type": "execute_result"
    }
   ],
   "source": [
    "history.history # Contains the training related information for each epoch"
   ]
  },
  {
   "cell_type": "code",
   "execution_count": 23,
   "id": "571a21a0",
   "metadata": {},
   "outputs": [],
   "source": [
    "# Saving the history object\n",
    "\n",
    "with open('models/intial-end-to-end-history', 'wb') as history_file:\n",
    "    pickle.dump(history.history, history_file)"
   ]
  },
  {
   "cell_type": "code",
   "execution_count": 24,
   "id": "5a895fe9",
   "metadata": {},
   "outputs": [
    {
     "data": {
      "text/plain": [
       "{'loss': [0.7826583385467529,\n",
       "  0.013166194781661034,\n",
       "  0.020567787811160088,\n",
       "  0.024578383192420006,\n",
       "  0.00010609371383907273,\n",
       "  4.875666490988806e-05,\n",
       "  2.751093234110158e-05,\n",
       "  1.6819005395518616e-05,\n",
       "  1.0633642887114547e-05,\n",
       "  6.990883321122965e-06,\n",
       "  4.622821961675072e-06,\n",
       "  3.1003078220237512e-06,\n",
       "  2.0736115402542055e-06,\n",
       "  1.3927041209171875e-06,\n",
       "  9.335731192550156e-07,\n",
       "  6.311540232672996e-07,\n",
       "  4.1497952452118625e-07,\n",
       "  2.738276236868842e-07,\n",
       "  1.8481206609521905e-07,\n",
       "  1.220462593209959e-07],\n",
       " 'accuracy': [0.7585999965667725,\n",
       "  0.9970399737358093,\n",
       "  0.9944400191307068,\n",
       "  0.9924799799919128,\n",
       "  1.0,\n",
       "  1.0,\n",
       "  1.0,\n",
       "  1.0,\n",
       "  1.0,\n",
       "  1.0,\n",
       "  1.0,\n",
       "  1.0,\n",
       "  1.0,\n",
       "  1.0,\n",
       "  1.0,\n",
       "  1.0,\n",
       "  1.0,\n",
       "  1.0,\n",
       "  1.0,\n",
       "  1.0],\n",
       " 'val_loss': [0.04375440627336502,\n",
       "  0.0006602781359106302,\n",
       "  0.30007559061050415,\n",
       "  0.00018521881429478526,\n",
       "  7.602609548484907e-05,\n",
       "  4.144422200624831e-05,\n",
       "  2.501287053746637e-05,\n",
       "  1.586182406754233e-05,\n",
       "  1.1060787073802203e-05,\n",
       "  7.371163519565016e-06,\n",
       "  4.871099008596502e-06,\n",
       "  3.1328181648859754e-06,\n",
       "  2.205030114055262e-06,\n",
       "  1.5524840364378178e-06,\n",
       "  1.040080860548187e-06,\n",
       "  7.061631208671315e-07,\n",
       "  4.961086119692482e-07,\n",
       "  3.2955691153802036e-07,\n",
       "  2.3419109140832006e-07,\n",
       "  1.518385914778264e-07],\n",
       " 'val_accuracy': [0.9918533563613892,\n",
       "  1.0,\n",
       "  0.8989816904067993,\n",
       "  1.0,\n",
       "  1.0,\n",
       "  1.0,\n",
       "  1.0,\n",
       "  1.0,\n",
       "  1.0,\n",
       "  1.0,\n",
       "  1.0,\n",
       "  1.0,\n",
       "  1.0,\n",
       "  1.0,\n",
       "  1.0,\n",
       "  1.0,\n",
       "  1.0,\n",
       "  1.0,\n",
       "  1.0,\n",
       "  1.0]}"
      ]
     },
     "execution_count": 24,
     "metadata": {},
     "output_type": "execute_result"
    }
   ],
   "source": [
    "h = np.load('models/intial-end-to-end-history', allow_pickle=True)\n",
    "h"
   ]
  },
  {
   "cell_type": "code",
   "execution_count": 25,
   "id": "1ce748fc",
   "metadata": {},
   "outputs": [],
   "source": [
    "best_model = keras.models.load_model('models/initial-end-to-end')"
   ]
  },
  {
   "cell_type": "code",
   "execution_count": 26,
   "id": "3ffe044f",
   "metadata": {},
   "outputs": [
    {
     "data": {
      "text/plain": [
       "<matplotlib.legend.Legend at 0x1bf563774f0>"
      ]
     },
     "execution_count": 26,
     "metadata": {},
     "output_type": "execute_result"
    },
    {
     "data": {
      "image/png": "[encoded data removed]",
      "text/plain": [
       "<Figure size 720x360 with 1 Axes>"
      ]
     },
     "metadata": {
      "needs_background": "light"
     },
     "output_type": "display_data"
    }
   ],
   "source": [
    "fig, ax = plt.subplots(figsize=(10, 5))\n",
    "n_epochs = len(h['loss'])\n",
    "ax.plot(range(1, n_epochs+1), h['loss'], color='b', label='train_loss')\n",
    "ax.plot(range(1, n_epochs+1), h['val_loss'], color='c', label='val_loss')\n",
    "ax.plot(range(1, n_epochs+1), h['accuracy'], color='b', label='train_accuracy', linestyle='--')\n",
    "ax.plot(range(1, n_epochs+1), h['val_accuracy'], color='c', label='val_accuracy', linestyle='--')\n",
    "ax.set_xticks(range(1, n_epochs+1))\n",
    "ax.legend()"
   ]
  },
  {
   "cell_type": "code",
   "execution_count": 27,
   "id": "8dd9b9bf",
   "metadata": {},
   "outputs": [
    {
     "data": {
      "text/plain": [
       "<matplotlib.legend.Legend at 0x1bf55f43400>"
      ]
     },
     "execution_count": 27,
     "metadata": {},
     "output_type": "execute_result"
    },
    {
     "data": {
      "image/png": "[encoded data removed]",
      "text/plain": [
       "<Figure size 720x360 with 1 Axes>"
      ]
     },
     "metadata": {
      "needs_background": "light"
     },
     "output_type": "display_data"
    }
   ],
   "source": [
    "# Training Loss Correction\n",
    "\n",
    "fig, ax = plt.subplots(figsize=(10, 5))\n",
    "n_epochs = len(h['loss'])\n",
    "\n",
    "# Shift training loss by 0.5 as training loss is measured during the epoch and validation loss is measured after the epoch\n",
    "\n",
    "x_loss = np.arange(n_epochs+1)-0.5\n",
    "ax.plot(x_loss[x_loss >= 0], h['loss'], color='b', label='train_loss')\n",
    "ax.plot(range(1, n_epochs+1), h['val_loss'], color='r', label='val_loss')\n",
    "ax.plot(range(1, n_epochs+1), h['accuracy'], color='b', label='train_accuracy', linestyle='--')\n",
    "ax.plot(range(1, n_epochs+1), h['val_accuracy'], color='r', label='val_accuracy', linestyle='--')\n",
    "ax.set_xlim(0, n_epochs)\n",
    "ax.set_xticks(range(1, n_epochs+1))\n",
    "ax.legend()"
   ]
  },
  {
   "cell_type": "code",
   "execution_count": 28,
   "id": "c47e2417",
   "metadata": {},
   "outputs": [],
   "source": [
    "# Defining a function the get the training and validation plots representing the accuracy and loss at each epoch\n",
    "\n",
    "def get_train_val_plots(h, yticks=None, figsize=(10, 5)):\n",
    "    # h: Any dictionary like the history.history\n",
    "    \n",
    "    fig, ax = plt.subplots(figsize=figsize)\n",
    "    n_epochs = len(h['loss'])\n",
    "    x_loss = np.arange(n_epochs+1)-0.5\n",
    "    \n",
    "    ax.plot(x_loss[x_loss >= 0], h['loss'], color='b', label='train_loss')\n",
    "    ax.plot(range(1, n_epochs+1), h['val_loss'], color='r', label='val_loss')\n",
    "    ax.plot(range(1, n_epochs+1), h['accuracy'], color='b', label='train_accuracy', linestyle='--')\n",
    "    ax.plot(range(1, n_epochs+1), h['val_accuracy'], color='r', label='val_accuracy', linestyle='--')\n",
    "    ax.set_xlim(0, n_epochs)\n",
    "    ax.set_xticks(range(1, n_epochs+1))\n",
    "    if yticks is not None:\n",
    "        ax.set_yticks(yticks)\n",
    "    ax.legend()"
   ]
  },
  {
   "cell_type": "code",
   "execution_count": 29,
   "id": "64841b98",
   "metadata": {},
   "outputs": [
    {
     "data": {
      "image/png": "[encoded data removed]",
      "text/plain": [
       "<Figure size 720x360 with 1 Axes>"
      ]
     },
     "metadata": {
      "needs_background": "light"
     },
     "output_type": "display_data"
    }
   ],
   "source": [
    "get_train_val_plots(h)"
   ]
  },
  {
   "cell_type": "code",
   "execution_count": 30,
   "id": "83c526a6",
   "metadata": {},
   "outputs": [],
   "source": [
    "test_df = pd.read_csv('sign_mnist_test.csv') # Load the test data"
   ]
  },
  {
   "cell_type": "code",
   "execution_count": 31,
   "id": "0d5b2d85",
   "metadata": {},
   "outputs": [],
   "source": [
    "X_test, y_test = test_df.drop('label', axis=1), test_df['label']\n"
   ]
  },
  {
   "cell_type": "code",
   "execution_count": 32,
   "id": "8f1440d6",
   "metadata": {},
   "outputs": [],
   "source": [
    "X_test = tf.reshape(X_test, [-1, 28, 28, 1])\n"
   ]
  },
  {
   "cell_type": "code",
   "execution_count": 33,
   "id": "6cdf2e1b",
   "metadata": {},
   "outputs": [
    {
     "data": {
      "text/plain": [
       "0        6\n",
       "1        5\n",
       "2       10\n",
       "3        0\n",
       "4        3\n",
       "        ..\n",
       "7167     1\n",
       "7168    12\n",
       "7169     2\n",
       "7170     4\n",
       "7171     2\n",
       "Name: label, Length: 7172, dtype: int64"
      ]
     },
     "execution_count": 33,
     "metadata": {},
     "output_type": "execute_result"
    }
   ],
   "source": [
    "y_test"
   ]
  },
  {
   "cell_type": "code",
   "execution_count": 34,
   "id": "eb684394",
   "metadata": {},
   "outputs": [],
   "source": [
    "y_test = label_binarizer.transform(y_test)"
   ]
  },
  {
   "cell_type": "code",
   "execution_count": 35,
   "id": "16bcd857",
   "metadata": {},
   "outputs": [
    {
     "name": "stdout",
     "output_type": "stream",
     "text": [
      "[[0 0 0 ... 0 0 0]\n",
      " [0 0 0 ... 0 0 0]\n",
      " [0 0 0 ... 0 0 0]\n",
      " ...\n",
      " [0 0 1 ... 0 0 0]\n",
      " [0 0 0 ... 0 0 0]\n",
      " [0 0 1 ... 0 0 0]]\n"
     ]
    }
   ],
   "source": [
    "print(y_test)"
   ]
  },
  {
   "cell_type": "code",
   "execution_count": 36,
   "id": "2f64d441",
   "metadata": {
    "scrolled": true
   },
   "outputs": [
    {
     "name": "stdout",
     "output_type": "stream",
     "text": [
      "225/225 [==============================] - 4s 15ms/step - loss: 127.3839 - accuracy: 0.9110\n"
     ]
    },
    {
     "data": {
      "text/plain": [
       "[127.3839340209961, 0.9110429286956787]"
      ]
     },
     "execution_count": 36,
     "metadata": {},
     "output_type": "execute_result"
    }
   ],
   "source": [
    "best_model.evaluate(X_test, y_test)"
   ]
  },
  {
   "cell_type": "markdown",
   "id": "5232a288",
   "metadata": {},
   "source": [
    "### Accuracy:91%"
   ]
  },
  {
   "cell_type": "code",
   "execution_count": 37,
   "id": "530a6376",
   "metadata": {},
   "outputs": [],
   "source": [
    "# Preprocesses the input and evaluates the model\n",
    "\n",
    "def evaluate_model(model, X_test, y_test, label_binarizer):\n",
    "    X_test_reshape = tf.reshape(X_test, [-1, 28, 28, 1])\n",
    "    y_test_labels = label_binarizer.transform(y_test)\n",
    "    results = model.evaluate(X_test_reshape, y_test_labels)\n",
    "    print(f'Loss: {results[0]:.3f} Accuracy: {results[1]:.3f}')"
   ]
  },
  {
   "cell_type": "code",
   "execution_count": 38,
   "id": "54e6dfc2",
   "metadata": {},
   "outputs": [
    {
     "name": "stdout",
     "output_type": "stream",
     "text": [
      "225/225 [==============================] - 3s 14ms/step - loss: 127.3839 - accuracy: 0.9110\n",
      "Loss: 127.384 Accuracy: 0.911\n"
     ]
    }
   ],
   "source": [
    "results = evaluate_model(best_model, test_df.drop('label', axis=1), test_df['label'], label_binarizer)"
   ]
  },
  {
   "cell_type": "markdown",
   "id": "fded6afd",
   "metadata": {},
   "source": [
    "### Converting Images to a Sentence:"
   ]
  },
  {
   "cell_type": "code",
   "execution_count": 39,
   "id": "9177ef05",
   "metadata": {},
   "outputs": [],
   "source": [
    "test_df = pd.read_csv('sign_mnist_test.csv') # Load the test data"
   ]
  },
  {
   "cell_type": "code",
   "execution_count": 40,
   "id": "887e9725",
   "metadata": {},
   "outputs": [],
   "source": [
    "X_test, y_test = test_df.drop('label', axis=1), test_df['label']"
   ]
  },
  {
   "cell_type": "code",
   "execution_count": 41,
   "id": "ede71855",
   "metadata": {},
   "outputs": [],
   "source": [
    "X_test = tf.reshape(X_test, [-1, 28, 28, 1])"
   ]
  },
  {
   "cell_type": "code",
   "execution_count": 42,
   "id": "492e7de7",
   "metadata": {},
   "outputs": [],
   "source": [
    "d = {chr(ord('a') + i):i for i in range(26)}\n",
    "d_rev = {i:chr(ord('a') + i) for i in range(26)}\n",
    "d[' '] = d_rev[' '] = ' '"
   ]
  },
  {
   "cell_type": "code",
   "execution_count": 43,
   "id": "0182765b",
   "metadata": {},
   "outputs": [
    {
     "name": "stdout",
     "output_type": "stream",
     "text": [
      "18 8 6 13   11 0 13 6 20 0 6 4 "
     ]
    }
   ],
   "source": [
    "sentence = 'sign language'\n",
    "\n",
    "for i in sentence:\n",
    "    print(d[i], end=' ')"
   ]
  },
  {
   "cell_type": "code",
   "execution_count": 44,
   "id": "38a7699e",
   "metadata": {},
   "outputs": [
    {
     "name": "stdout",
     "output_type": "stream",
     "text": [
      "1/1 [==============================] - 0s 410ms/step\n"
     ]
    },
    {
     "data": {
      "text/plain": [
       "array([[0., 0., 0., 0., 0., 0., 1., 0., 0., 0., 0., 0., 0., 0., 0., 0.,\n",
       "        0., 0., 0., 0., 0., 0., 0., 0.]], dtype=float32)"
      ]
     },
     "execution_count": 44,
     "metadata": {},
     "output_type": "execute_result"
    }
   ],
   "source": [
    "best_model.predict(tf.reshape(X_test[0], [-1, 28, 28, 1]))\n"
   ]
  },
  {
   "cell_type": "code",
   "execution_count": 45,
   "id": "c3a12bea",
   "metadata": {},
   "outputs": [
    {
     "name": "stdout",
     "output_type": "stream",
     "text": [
      "1/1 [==============================] - 0s 41ms/step\n",
      "1/1 [==============================] - 0s 43ms/step\n",
      "1/1 [==============================] - 0s 36ms/step\n",
      "1/1 [==============================] - 0s 50ms/step\n",
      "1/1 [==============================] - 0s 35ms/step\n",
      "1/1 [==============================] - 0s 37ms/step\n",
      "1/1 [==============================] - 0s 50ms/step\n",
      "1/1 [==============================] - 0s 54ms/step\n",
      "1/1 [==============================] - 0s 48ms/step\n",
      "1/1 [==============================] - 0s 38ms/step\n",
      "1/1 [==============================] - 0s 31ms/step\n",
      "1/1 [==============================] - 0s 49ms/step\n",
      "sign language\n"
     ]
    }
   ],
   "source": [
    "images_taken = []\n",
    "result = ''\n",
    "\n",
    "for i in sentence:\n",
    "    if i != ' ':\n",
    "        char_index = np.random.choice(y_test[y_test==ord(i)-ord('a')].index)\n",
    "        images_taken.append(char_index)\n",
    "        y_pred = best_model.predict(tf.reshape(X_test[char_index], [-1, 28, 28, 1]))\n",
    "        result += d_rev[label_binarizer.inverse_transform(y_pred)[0]]\n",
    "    else:\n",
    "        result += ' '\n",
    "print(result)"
   ]
  },
  {
   "cell_type": "code",
   "execution_count": 46,
   "id": "372cce0c",
   "metadata": {},
   "outputs": [
    {
     "data": {
      "image/png": "[encoded data removed]",
      "text/plain": [
       "<Figure size 1440x1440 with 4 Axes>"
      ]
     },
     "metadata": {
      "needs_background": "light"
     },
     "output_type": "display_data"
    },
    {
     "data": {
      "image/png": "[encoded data removed]",
      "text/plain": [
       "<Figure size 1440x1440 with 8 Axes>"
      ]
     },
     "metadata": {
      "needs_background": "light"
     },
     "output_type": "display_data"
    }
   ],
   "source": [
    "# Visualizing the test images\n",
    "images_taken_dup = list(reversed(images_taken))\n",
    "for word in sentence.split():\n",
    "    fig, ax = plt.subplots(1, len(word), figsize=(20, 20))\n",
    "    for i in range(len(word)):\n",
    "        ax[i].imshow(X_test[images_taken_dup.pop()], cmap='gray')\n",
    "        ax[i].set_title(word[i])"
   ]
  },
  {
   "cell_type": "code",
   "execution_count": 47,
   "id": "7d034b7b",
   "metadata": {},
   "outputs": [],
   "source": [
    "def test_on_sentence(model, sentence, X_test, y_test, label_binarizer, figsize=(20, 20)):\n",
    "    # Random images are taken from X_test along with the corresponding labels in y_test\n",
    "    # based on the letters in the sentence.\n",
    "    # These images are fed to the model and its output is printed\n",
    "    \n",
    "    sentence = sentence.lower()\n",
    "    \n",
    "    d = {chr(ord('a') + i):i for i in range(26)}\n",
    "    d_rev = {i:chr(ord('a') + i) for i in range(26)}\n",
    "    d[' '] = d_rev[' '] = ' '\n",
    "    \n",
    "    \n",
    "    images_taken = []\n",
    "    result = ''\n",
    "    \n",
    "    X_test_reshape = tf.reshape(X_test, [-1, 28, 28, 1])\n",
    "    \n",
    "\n",
    "    for i in sentence:\n",
    "        if i != ' ':\n",
    "            char_index = np.random.choice(y_test[y_test==ord(i)-ord('a')].index)\n",
    "            images_taken.append(char_index)\n",
    "            y_pred = model.predict(tf.reshape(X_test_reshape[char_index], [1, 28, 28, 1]))\n",
    "            result += d_rev[label_binarizer.inverse_transform(y_pred)[0]]\n",
    "        else:\n",
    "            result += ' '\n",
    "            \n",
    "    print(f'The actual sentence is \"{sentence}\"')\n",
    "    print(f'The predicted sentence is \"{result}\"')\n",
    "        \n",
    "    images_taken.reverse()\n",
    "    for word in sentence.split():\n",
    "        fig, ax = plt.subplots(1, len(word), figsize=figsize)\n",
    "        for i in range(len(word)):\n",
    "            ax[i].imshow(X_test_reshape[images_taken.pop()], cmap='gray')\n",
    "            ax[i].set_title(word[i])"
   ]
  },
  {
   "cell_type": "code",
   "execution_count": 48,
   "id": "bac5b861",
   "metadata": {
    "scrolled": true
   },
   "outputs": [
    {
     "name": "stdout",
     "output_type": "stream",
     "text": [
      "1/1 [==============================] - 0s 33ms/step\n",
      "1/1 [==============================] - 0s 32ms/step\n",
      "1/1 [==============================] - 0s 47ms/step\n",
      "1/1 [==============================] - 0s 48ms/step\n",
      "1/1 [==============================] - 0s 46ms/step\n",
      "1/1 [==============================] - 0s 49ms/step\n",
      "1/1 [==============================] - 0s 48ms/step\n",
      "1/1 [==============================] - 0s 58ms/step\n",
      "1/1 [==============================] - 0s 45ms/step\n",
      "1/1 [==============================] - 0s 47ms/step\n",
      "1/1 [==============================] - 0s 34ms/step\n",
      "1/1 [==============================] - 0s 32ms/step\n",
      "The actual sentence is \"sign language\"\n",
      "The predicted sentence is \"sign langkage\"\n"
     ]
    },
    {
     "data": {
      "image/png": "[encoded data removed]",
      "text/plain": [
       "<Figure size 1440x1440 with 4 Axes>"
      ]
     },
     "metadata": {
      "needs_background": "light"
     },
     "output_type": "display_data"
    },
    {
     "data": {
      "image/png": "[encoded data removed]",
      "text/plain": [
       "<Figure size 1440x1440 with 8 Axes>"
      ]
     },
     "metadata": {
      "needs_background": "light"
     },
     "output_type": "display_data"
    }
   ],
   "source": [
    "test_on_sentence(best_model, 'sign language', test_df.drop('label', axis=1), test_df['label'], label_binarizer)"
   ]
  },
  {
   "cell_type": "markdown",
   "id": "a6f6c83a",
   "metadata": {},
   "source": [
    "#### Initial End-to-End Workflow (End)\n",
    "#### Hyperparameter Tuning\n",
    "#### Convolution and Max Pooling Pairs\n",
    "#### Filters in the convolution layers\n",
    "#### Filter Shape\n",
    "#### Dropout\n",
    "#### Convolution and Max Pooling Pairs\n",
    "#### Before flattening\n",
    "\n",
    "#### For pair = 1 -> Output to the dense layer will be of the shape (None, 14, 14, 32)\n",
    "#### For pair = 2 -> Output to the dense layer will be of the shape (None, 7, 7, 64)\n",
    "#### For pair = 3 -> Output to the dense layer will be of the shape (None, 3, 3, 96)\n",
    "#### For pair = 4 -> Output to the dense layer will be of the shape (None, 1, 1, 128)\n",
    "#### As the output shape rapidly decreases for the pair = 4 it is better to choose among the pair = 1, 2 or 3"
   ]
  },
  {
   "cell_type": "code",
   "execution_count": 49,
   "id": "fccc7844",
   "metadata": {},
   "outputs": [],
   "source": [
    "# 20% Validation Split\n",
    "\n",
    "X_train, X_valid = X[:19500], X[19500:]\n",
    "y_train, y_valid = y[:19500], y[19500:]"
   ]
  },
  {
   "cell_type": "code",
   "execution_count": 50,
   "id": "7aa68b51",
   "metadata": {},
   "outputs": [
    {
     "name": "stdout",
     "output_type": "stream",
     "text": [
      "Epoch 1/15\n",
      "610/610 [==============================] - ETA: 0s - loss: 1.3487 - accuracy: 0.6186"
     ]
    },
    {
     "name": "stderr",
     "output_type": "stream",
     "text": [
      "WARNING:absl:Found untraced functions such as _jit_compiled_convolution_op while saving (showing 1 of 1). These functions will not be directly callable after loading.\n"
     ]
    },
    {
     "name": "stdout",
     "output_type": "stream",
     "text": [
      "INFO:tensorflow:Assets written to: models\\experiment-1-1\\assets\n"
     ]
    },
    {
     "name": "stderr",
     "output_type": "stream",
     "text": [
      "INFO:tensorflow:Assets written to: models\\experiment-1-1\\assets\n"
     ]
    },
    {
     "name": "stdout",
     "output_type": "stream",
     "text": [
      "610/610 [==============================] - 15s 23ms/step - loss: 1.3487 - accuracy: 0.6186 - val_loss: 0.4369 - val_accuracy: 0.8918\n",
      "Epoch 2/15\n",
      "607/610 [============================>.] - ETA: 0s - loss: 0.2427 - accuracy: 0.9429"
     ]
    },
    {
     "name": "stderr",
     "output_type": "stream",
     "text": [
      "WARNING:absl:Found untraced functions such as _jit_compiled_convolution_op while saving (showing 1 of 1). These functions will not be directly callable after loading.\n"
     ]
    },
    {
     "name": "stdout",
     "output_type": "stream",
     "text": [
      "INFO:tensorflow:Assets written to: models\\experiment-1-1\\assets\n"
     ]
    },
    {
     "name": "stderr",
     "output_type": "stream",
     "text": [
      "INFO:tensorflow:Assets written to: models\\experiment-1-1\\assets\n"
     ]
    },
    {
     "name": "stdout",
     "output_type": "stream",
     "text": [
      "610/610 [==============================] - 15s 24ms/step - loss: 0.2421 - accuracy: 0.9431 - val_loss: 0.1117 - val_accuracy: 0.9876\n",
      "Epoch 3/15\n",
      "609/610 [============================>.] - ETA: 0s - loss: 0.0635 - accuracy: 0.9951"
     ]
    },
    {
     "name": "stderr",
     "output_type": "stream",
     "text": [
      "WARNING:absl:Found untraced functions such as _jit_compiled_convolution_op while saving (showing 1 of 1). These functions will not be directly callable after loading.\n"
     ]
    },
    {
     "name": "stdout",
     "output_type": "stream",
     "text": [
      "INFO:tensorflow:Assets written to: models\\experiment-1-1\\assets\n"
     ]
    },
    {
     "name": "stderr",
     "output_type": "stream",
     "text": [
      "INFO:tensorflow:Assets written to: models\\experiment-1-1\\assets\n"
     ]
    },
    {
     "name": "stdout",
     "output_type": "stream",
     "text": [
      "610/610 [==============================] - 13s 21ms/step - loss: 0.0635 - accuracy: 0.9951 - val_loss: 0.0349 - val_accuracy: 0.9980\n",
      "Epoch 4/15\n",
      "609/610 [============================>.] - ETA: 0s - loss: 0.0215 - accuracy: 0.9995"
     ]
    },
    {
     "name": "stderr",
     "output_type": "stream",
     "text": [
      "WARNING:absl:Found untraced functions such as _jit_compiled_convolution_op while saving (showing 1 of 1). These functions will not be directly callable after loading.\n"
     ]
    },
    {
     "name": "stdout",
     "output_type": "stream",
     "text": [
      "INFO:tensorflow:Assets written to: models\\experiment-1-1\\assets\n"
     ]
    },
    {
     "name": "stderr",
     "output_type": "stream",
     "text": [
      "INFO:tensorflow:Assets written to: models\\experiment-1-1\\assets\n"
     ]
    },
    {
     "name": "stdout",
     "output_type": "stream",
     "text": [
      "610/610 [==============================] - 13s 21ms/step - loss: 0.0214 - accuracy: 0.9995 - val_loss: 0.0135 - val_accuracy: 1.0000\n",
      "Epoch 5/15\n",
      "608/610 [============================>.] - ETA: 0s - loss: 0.0089 - accuracy: 1.0000"
     ]
    },
    {
     "name": "stderr",
     "output_type": "stream",
     "text": [
      "WARNING:absl:Found untraced functions such as _jit_compiled_convolution_op while saving (showing 1 of 1). These functions will not be directly callable after loading.\n"
     ]
    },
    {
     "name": "stdout",
     "output_type": "stream",
     "text": [
      "INFO:tensorflow:Assets written to: models\\experiment-1-1\\assets\n"
     ]
    },
    {
     "name": "stderr",
     "output_type": "stream",
     "text": [
      "INFO:tensorflow:Assets written to: models\\experiment-1-1\\assets\n"
     ]
    },
    {
     "name": "stdout",
     "output_type": "stream",
     "text": [
      "610/610 [==============================] - 13s 22ms/step - loss: 0.0089 - accuracy: 1.0000 - val_loss: 0.0062 - val_accuracy: 1.0000\n",
      "Epoch 6/15\n",
      "610/610 [==============================] - 12s 19ms/step - loss: 0.0047 - accuracy: 0.9999 - val_loss: 0.0515 - val_accuracy: 0.9821\n",
      "Epoch 7/15\n",
      "608/610 [============================>.] - ETA: 0s - loss: 0.0066 - accuracy: 0.9989"
     ]
    },
    {
     "name": "stderr",
     "output_type": "stream",
     "text": [
      "WARNING:absl:Found untraced functions such as _jit_compiled_convolution_op while saving (showing 1 of 1). These functions will not be directly callable after loading.\n"
     ]
    },
    {
     "name": "stdout",
     "output_type": "stream",
     "text": [
      "INFO:tensorflow:Assets written to: models\\experiment-1-1\\assets\n"
     ]
    },
    {
     "name": "stderr",
     "output_type": "stream",
     "text": [
      "INFO:tensorflow:Assets written to: models\\experiment-1-1\\assets\n"
     ]
    },
    {
     "name": "stdout",
     "output_type": "stream",
     "text": [
      "610/610 [==============================] - 13s 21ms/step - loss: 0.0066 - accuracy: 0.9989 - val_loss: 0.0021 - val_accuracy: 1.0000\n",
      "Epoch 8/15\n",
      "609/610 [============================>.] - ETA: 0s - loss: 0.0015 - accuracy: 1.0000"
     ]
    },
    {
     "name": "stderr",
     "output_type": "stream",
     "text": [
      "WARNING:absl:Found untraced functions such as _jit_compiled_convolution_op while saving (showing 1 of 1). These functions will not be directly callable after loading.\n"
     ]
    },
    {
     "name": "stdout",
     "output_type": "stream",
     "text": [
      "INFO:tensorflow:Assets written to: models\\experiment-1-1\\assets\n"
     ]
    },
    {
     "name": "stderr",
     "output_type": "stream",
     "text": [
      "INFO:tensorflow:Assets written to: models\\experiment-1-1\\assets\n"
     ]
    },
    {
     "name": "stdout",
     "output_type": "stream",
     "text": [
      "610/610 [==============================] - 13s 22ms/step - loss: 0.0015 - accuracy: 1.0000 - val_loss: 0.0013 - val_accuracy: 1.0000\n",
      "Epoch 9/15\n",
      "609/610 [============================>.] - ETA: 0s - loss: 9.9616e-04 - accuracy: 1.0000"
     ]
    },
    {
     "name": "stderr",
     "output_type": "stream",
     "text": [
      "WARNING:absl:Found untraced functions such as _jit_compiled_convolution_op while saving (showing 1 of 1). These functions will not be directly callable after loading.\n"
     ]
    },
    {
     "name": "stdout",
     "output_type": "stream",
     "text": [
      "INFO:tensorflow:Assets written to: models\\experiment-1-1\\assets\n"
     ]
    },
    {
     "name": "stderr",
     "output_type": "stream",
     "text": [
      "INFO:tensorflow:Assets written to: models\\experiment-1-1\\assets\n"
     ]
    },
    {
     "name": "stdout",
     "output_type": "stream",
     "text": [
      "610/610 [==============================] - 13s 22ms/step - loss: 9.9613e-04 - accuracy: 1.0000 - val_loss: 0.0010 - val_accuracy: 1.0000\n",
      "Epoch 10/15\n",
      "610/610 [==============================] - ETA: 0s - loss: 6.5922e-04 - accuracy: 1.0000"
     ]
    },
    {
     "name": "stderr",
     "output_type": "stream",
     "text": [
      "WARNING:absl:Found untraced functions such as _jit_compiled_convolution_op while saving (showing 1 of 1). These functions will not be directly callable after loading.\n"
     ]
    },
    {
     "name": "stdout",
     "output_type": "stream",
     "text": [
      "INFO:tensorflow:Assets written to: models\\experiment-1-1\\assets\n"
     ]
    },
    {
     "name": "stderr",
     "output_type": "stream",
     "text": [
      "INFO:tensorflow:Assets written to: models\\experiment-1-1\\assets\n"
     ]
    },
    {
     "name": "stdout",
     "output_type": "stream",
     "text": [
      "610/610 [==============================] - 12s 20ms/step - loss: 6.5922e-04 - accuracy: 1.0000 - val_loss: 6.5849e-04 - val_accuracy: 1.0000\n",
      "Epoch 11/15\n",
      "608/610 [============================>.] - ETA: 0s - loss: 4.6240e-04 - accuracy: 1.0000"
     ]
    },
    {
     "name": "stderr",
     "output_type": "stream",
     "text": [
      "WARNING:absl:Found untraced functions such as _jit_compiled_convolution_op while saving (showing 1 of 1). These functions will not be directly callable after loading.\n"
     ]
    },
    {
     "name": "stdout",
     "output_type": "stream",
     "text": [
      "INFO:tensorflow:Assets written to: models\\experiment-1-1\\assets\n"
     ]
    },
    {
     "name": "stderr",
     "output_type": "stream",
     "text": [
      "INFO:tensorflow:Assets written to: models\\experiment-1-1\\assets\n"
     ]
    },
    {
     "name": "stdout",
     "output_type": "stream",
     "text": [
      "610/610 [==============================] - 14s 23ms/step - loss: 4.6211e-04 - accuracy: 1.0000 - val_loss: 4.9373e-04 - val_accuracy: 1.0000\n",
      "Epoch 12/15\n",
      "609/610 [============================>.] - ETA: 0s - loss: 3.2111e-04 - accuracy: 1.0000"
     ]
    },
    {
     "name": "stderr",
     "output_type": "stream",
     "text": [
      "WARNING:absl:Found untraced functions such as _jit_compiled_convolution_op while saving (showing 1 of 1). These functions will not be directly callable after loading.\n"
     ]
    },
    {
     "name": "stdout",
     "output_type": "stream",
     "text": [
      "INFO:tensorflow:Assets written to: models\\experiment-1-1\\assets\n"
     ]
    },
    {
     "name": "stderr",
     "output_type": "stream",
     "text": [
      "INFO:tensorflow:Assets written to: models\\experiment-1-1\\assets\n"
     ]
    },
    {
     "name": "stdout",
     "output_type": "stream",
     "text": [
      "610/610 [==============================] - 13s 22ms/step - loss: 3.2101e-04 - accuracy: 1.0000 - val_loss: 2.8055e-04 - val_accuracy: 1.0000\n",
      "Epoch 13/15\n",
      "608/610 [============================>.] - ETA: 0s - loss: 2.2604e-04 - accuracy: 1.0000"
     ]
    },
    {
     "name": "stderr",
     "output_type": "stream",
     "text": [
      "WARNING:absl:Found untraced functions such as _jit_compiled_convolution_op while saving (showing 1 of 1). These functions will not be directly callable after loading.\n"
     ]
    },
    {
     "name": "stdout",
     "output_type": "stream",
     "text": [
      "INFO:tensorflow:Assets written to: models\\experiment-1-1\\assets\n"
     ]
    },
    {
     "name": "stderr",
     "output_type": "stream",
     "text": [
      "INFO:tensorflow:Assets written to: models\\experiment-1-1\\assets\n"
     ]
    },
    {
     "name": "stdout",
     "output_type": "stream",
     "text": [
      "610/610 [==============================] - 13s 21ms/step - loss: 2.2575e-04 - accuracy: 1.0000 - val_loss: 2.3396e-04 - val_accuracy: 1.0000\n",
      "Epoch 14/15\n",
      "610/610 [==============================] - 10s 17ms/step - loss: 0.0217 - accuracy: 0.9940 - val_loss: 0.0330 - val_accuracy: 0.9894\n",
      "Epoch 15/15\n",
      "610/610 [==============================] - 11s 17ms/step - loss: 0.0048 - accuracy: 0.9989 - val_loss: 4.4164e-04 - val_accuracy: 1.0000\n",
      "Epoch 1/15\n",
      "609/610 [============================>.] - ETA: 0s - loss: 0.9217 - accuracy: 0.7249"
     ]
    },
    {
     "name": "stderr",
     "output_type": "stream",
     "text": [
      "WARNING:absl:Found untraced functions such as _jit_compiled_convolution_op, _jit_compiled_convolution_op while saving (showing 2 of 2). These functions will not be directly callable after loading.\n"
     ]
    },
    {
     "name": "stdout",
     "output_type": "stream",
     "text": [
      "INFO:tensorflow:Assets written to: models\\experiment-1-2\\assets\n"
     ]
    },
    {
     "name": "stderr",
     "output_type": "stream",
     "text": [
      "INFO:tensorflow:Assets written to: models\\experiment-1-2\\assets\n"
     ]
    },
    {
     "name": "stdout",
     "output_type": "stream",
     "text": [
      "610/610 [==============================] - 31s 51ms/step - loss: 0.9212 - accuracy: 0.7250 - val_loss: 0.1043 - val_accuracy: 0.9736\n",
      "Epoch 2/15\n",
      "610/610 [==============================] - ETA: 0s - loss: 0.0369 - accuracy: 0.9930"
     ]
    },
    {
     "name": "stderr",
     "output_type": "stream",
     "text": [
      "WARNING:absl:Found untraced functions such as _jit_compiled_convolution_op, _jit_compiled_convolution_op while saving (showing 2 of 2). These functions will not be directly callable after loading.\n"
     ]
    },
    {
     "name": "stdout",
     "output_type": "stream",
     "text": [
      "INFO:tensorflow:Assets written to: models\\experiment-1-2\\assets\n"
     ]
    },
    {
     "name": "stderr",
     "output_type": "stream",
     "text": [
      "INFO:tensorflow:Assets written to: models\\experiment-1-2\\assets\n"
     ]
    },
    {
     "name": "stdout",
     "output_type": "stream",
     "text": [
      "610/610 [==============================] - 30s 49ms/step - loss: 0.0369 - accuracy: 0.9930 - val_loss: 0.0051 - val_accuracy: 1.0000\n",
      "Epoch 3/15\n",
      "610/610 [==============================] - ETA: 0s - loss: 0.0027 - accuracy: 1.0000"
     ]
    },
    {
     "name": "stderr",
     "output_type": "stream",
     "text": [
      "WARNING:absl:Found untraced functions such as _jit_compiled_convolution_op, _jit_compiled_convolution_op while saving (showing 2 of 2). These functions will not be directly callable after loading.\n"
     ]
    },
    {
     "name": "stdout",
     "output_type": "stream",
     "text": [
      "INFO:tensorflow:Assets written to: models\\experiment-1-2\\assets\n"
     ]
    },
    {
     "name": "stderr",
     "output_type": "stream",
     "text": [
      "INFO:tensorflow:Assets written to: models\\experiment-1-2\\assets\n"
     ]
    },
    {
     "name": "stdout",
     "output_type": "stream",
     "text": [
      "610/610 [==============================] - 29s 48ms/step - loss: 0.0027 - accuracy: 1.0000 - val_loss: 0.0015 - val_accuracy: 1.0000\n",
      "Epoch 4/15\n",
      "610/610 [==============================] - ETA: 0s - loss: 0.0010 - accuracy: 1.0000"
     ]
    },
    {
     "name": "stderr",
     "output_type": "stream",
     "text": [
      "WARNING:absl:Found untraced functions such as _jit_compiled_convolution_op, _jit_compiled_convolution_op while saving (showing 2 of 2). These functions will not be directly callable after loading.\n"
     ]
    },
    {
     "name": "stdout",
     "output_type": "stream",
     "text": [
      "INFO:tensorflow:Assets written to: models\\experiment-1-2\\assets\n"
     ]
    },
    {
     "name": "stderr",
     "output_type": "stream",
     "text": [
      "INFO:tensorflow:Assets written to: models\\experiment-1-2\\assets\n"
     ]
    },
    {
     "name": "stdout",
     "output_type": "stream",
     "text": [
      "610/610 [==============================] - 29s 47ms/step - loss: 0.0010 - accuracy: 1.0000 - val_loss: 8.6293e-04 - val_accuracy: 1.0000\n",
      "Epoch 5/15\n",
      "610/610 [==============================] - ETA: 0s - loss: 5.2721e-04 - accuracy: 1.0000"
     ]
    },
    {
     "name": "stderr",
     "output_type": "stream",
     "text": [
      "WARNING:absl:Found untraced functions such as _jit_compiled_convolution_op, _jit_compiled_convolution_op while saving (showing 2 of 2). These functions will not be directly callable after loading.\n"
     ]
    },
    {
     "name": "stdout",
     "output_type": "stream",
     "text": [
      "INFO:tensorflow:Assets written to: models\\experiment-1-2\\assets\n"
     ]
    },
    {
     "name": "stderr",
     "output_type": "stream",
     "text": [
      "INFO:tensorflow:Assets written to: models\\experiment-1-2\\assets\n"
     ]
    },
    {
     "name": "stdout",
     "output_type": "stream",
     "text": [
      "610/610 [==============================] - 30s 49ms/step - loss: 5.2721e-04 - accuracy: 1.0000 - val_loss: 4.2764e-04 - val_accuracy: 1.0000\n",
      "Epoch 6/15\n",
      "610/610 [==============================] - ETA: 0s - loss: 3.3224e-04 - accuracy: 1.0000"
     ]
    },
    {
     "name": "stderr",
     "output_type": "stream",
     "text": [
      "WARNING:absl:Found untraced functions such as _jit_compiled_convolution_op, _jit_compiled_convolution_op while saving (showing 2 of 2). These functions will not be directly callable after loading.\n"
     ]
    },
    {
     "name": "stdout",
     "output_type": "stream",
     "text": [
      "INFO:tensorflow:Assets written to: models\\experiment-1-2\\assets\n"
     ]
    },
    {
     "name": "stderr",
     "output_type": "stream",
     "text": [
      "INFO:tensorflow:Assets written to: models\\experiment-1-2\\assets\n"
     ]
    },
    {
     "name": "stdout",
     "output_type": "stream",
     "text": [
      "610/610 [==============================] - 29s 48ms/step - loss: 3.3224e-04 - accuracy: 1.0000 - val_loss: 3.5652e-04 - val_accuracy: 1.0000\n",
      "Epoch 7/15\n",
      "610/610 [==============================] - ETA: 0s - loss: 1.8565e-04 - accuracy: 1.0000"
     ]
    },
    {
     "name": "stderr",
     "output_type": "stream",
     "text": [
      "WARNING:absl:Found untraced functions such as _jit_compiled_convolution_op, _jit_compiled_convolution_op while saving (showing 2 of 2). These functions will not be directly callable after loading.\n"
     ]
    },
    {
     "name": "stdout",
     "output_type": "stream",
     "text": [
      "INFO:tensorflow:Assets written to: models\\experiment-1-2\\assets\n"
     ]
    },
    {
     "name": "stderr",
     "output_type": "stream",
     "text": [
      "INFO:tensorflow:Assets written to: models\\experiment-1-2\\assets\n"
     ]
    },
    {
     "name": "stdout",
     "output_type": "stream",
     "text": [
      "610/610 [==============================] - 30s 49ms/step - loss: 1.8565e-04 - accuracy: 1.0000 - val_loss: 1.5086e-04 - val_accuracy: 1.0000\n",
      "Epoch 8/15\n",
      "609/610 [============================>.] - ETA: 0s - loss: 1.1011e-04 - accuracy: 1.0000"
     ]
    },
    {
     "name": "stderr",
     "output_type": "stream",
     "text": [
      "WARNING:absl:Found untraced functions such as _jit_compiled_convolution_op, _jit_compiled_convolution_op while saving (showing 2 of 2). These functions will not be directly callable after loading.\n"
     ]
    },
    {
     "name": "stdout",
     "output_type": "stream",
     "text": [
      "INFO:tensorflow:Assets written to: models\\experiment-1-2\\assets\n"
     ]
    },
    {
     "name": "stderr",
     "output_type": "stream",
     "text": [
      "INFO:tensorflow:Assets written to: models\\experiment-1-2\\assets\n"
     ]
    },
    {
     "name": "stdout",
     "output_type": "stream",
     "text": [
      "610/610 [==============================] - 28s 46ms/step - loss: 1.1005e-04 - accuracy: 1.0000 - val_loss: 1.0030e-04 - val_accuracy: 1.0000\n",
      "Epoch 9/15\n",
      "610/610 [==============================] - ETA: 0s - loss: 7.4592e-05 - accuracy: 1.0000"
     ]
    },
    {
     "name": "stderr",
     "output_type": "stream",
     "text": [
      "WARNING:absl:Found untraced functions such as _jit_compiled_convolution_op, _jit_compiled_convolution_op while saving (showing 2 of 2). These functions will not be directly callable after loading.\n"
     ]
    },
    {
     "name": "stdout",
     "output_type": "stream",
     "text": [
      "INFO:tensorflow:Assets written to: models\\experiment-1-2\\assets\n"
     ]
    },
    {
     "name": "stderr",
     "output_type": "stream",
     "text": [
      "INFO:tensorflow:Assets written to: models\\experiment-1-2\\assets\n"
     ]
    },
    {
     "name": "stdout",
     "output_type": "stream",
     "text": [
      "610/610 [==============================] - 28s 46ms/step - loss: 7.4592e-05 - accuracy: 1.0000 - val_loss: 7.2461e-05 - val_accuracy: 1.0000\n",
      "Epoch 10/15\n",
      "609/610 [============================>.] - ETA: 0s - loss: 4.8768e-05 - accuracy: 1.0000"
     ]
    },
    {
     "name": "stderr",
     "output_type": "stream",
     "text": [
      "WARNING:absl:Found untraced functions such as _jit_compiled_convolution_op, _jit_compiled_convolution_op while saving (showing 2 of 2). These functions will not be directly callable after loading.\n"
     ]
    },
    {
     "name": "stdout",
     "output_type": "stream",
     "text": [
      "INFO:tensorflow:Assets written to: models\\experiment-1-2\\assets\n"
     ]
    },
    {
     "name": "stderr",
     "output_type": "stream",
     "text": [
      "INFO:tensorflow:Assets written to: models\\experiment-1-2\\assets\n"
     ]
    },
    {
     "name": "stdout",
     "output_type": "stream",
     "text": [
      "610/610 [==============================] - 28s 47ms/step - loss: 4.8756e-05 - accuracy: 1.0000 - val_loss: 4.8130e-05 - val_accuracy: 1.0000\n",
      "Epoch 11/15\n",
      "609/610 [============================>.] - ETA: 0s - loss: 3.2430e-05 - accuracy: 1.0000"
     ]
    },
    {
     "name": "stderr",
     "output_type": "stream",
     "text": [
      "WARNING:absl:Found untraced functions such as _jit_compiled_convolution_op, _jit_compiled_convolution_op while saving (showing 2 of 2). These functions will not be directly callable after loading.\n"
     ]
    },
    {
     "name": "stdout",
     "output_type": "stream",
     "text": [
      "INFO:tensorflow:Assets written to: models\\experiment-1-2\\assets\n"
     ]
    },
    {
     "name": "stderr",
     "output_type": "stream",
     "text": [
      "INFO:tensorflow:Assets written to: models\\experiment-1-2\\assets\n"
     ]
    },
    {
     "name": "stdout",
     "output_type": "stream",
     "text": [
      "610/610 [==============================] - 28s 47ms/step - loss: 3.2421e-05 - accuracy: 1.0000 - val_loss: 3.2053e-05 - val_accuracy: 1.0000\n",
      "Epoch 12/15\n",
      "610/610 [==============================] - ETA: 0s - loss: 2.3355e-05 - accuracy: 1.0000"
     ]
    },
    {
     "name": "stderr",
     "output_type": "stream",
     "text": [
      "WARNING:absl:Found untraced functions such as _jit_compiled_convolution_op, _jit_compiled_convolution_op while saving (showing 2 of 2). These functions will not be directly callable after loading.\n"
     ]
    },
    {
     "name": "stdout",
     "output_type": "stream",
     "text": [
      "INFO:tensorflow:Assets written to: models\\experiment-1-2\\assets\n"
     ]
    },
    {
     "name": "stderr",
     "output_type": "stream",
     "text": [
      "INFO:tensorflow:Assets written to: models\\experiment-1-2\\assets\n"
     ]
    },
    {
     "name": "stdout",
     "output_type": "stream",
     "text": [
      "610/610 [==============================] - 29s 47ms/step - loss: 2.3355e-05 - accuracy: 1.0000 - val_loss: 2.2819e-05 - val_accuracy: 1.0000\n",
      "Epoch 13/15\n",
      "610/610 [==============================] - ETA: 0s - loss: 1.6983e-05 - accuracy: 1.0000"
     ]
    },
    {
     "name": "stderr",
     "output_type": "stream",
     "text": [
      "WARNING:absl:Found untraced functions such as _jit_compiled_convolution_op, _jit_compiled_convolution_op while saving (showing 2 of 2). These functions will not be directly callable after loading.\n"
     ]
    },
    {
     "name": "stdout",
     "output_type": "stream",
     "text": [
      "INFO:tensorflow:Assets written to: models\\experiment-1-2\\assets\n"
     ]
    },
    {
     "name": "stderr",
     "output_type": "stream",
     "text": [
      "INFO:tensorflow:Assets written to: models\\experiment-1-2\\assets\n"
     ]
    },
    {
     "name": "stdout",
     "output_type": "stream",
     "text": [
      "610/610 [==============================] - 29s 48ms/step - loss: 1.6983e-05 - accuracy: 1.0000 - val_loss: 1.6075e-05 - val_accuracy: 1.0000\n",
      "Epoch 14/15\n",
      "609/610 [============================>.] - ETA: 0s - loss: 1.0696e-05 - accuracy: 1.0000"
     ]
    },
    {
     "name": "stderr",
     "output_type": "stream",
     "text": [
      "WARNING:absl:Found untraced functions such as _jit_compiled_convolution_op, _jit_compiled_convolution_op while saving (showing 2 of 2). These functions will not be directly callable after loading.\n"
     ]
    },
    {
     "name": "stdout",
     "output_type": "stream",
     "text": [
      "INFO:tensorflow:Assets written to: models\\experiment-1-2\\assets\n"
     ]
    },
    {
     "name": "stderr",
     "output_type": "stream",
     "text": [
      "INFO:tensorflow:Assets written to: models\\experiment-1-2\\assets\n"
     ]
    },
    {
     "name": "stdout",
     "output_type": "stream",
     "text": [
      "610/610 [==============================] - 28s 46ms/step - loss: 1.0691e-05 - accuracy: 1.0000 - val_loss: 1.4036e-05 - val_accuracy: 1.0000\n",
      "Epoch 15/15\n",
      "610/610 [==============================] - ETA: 0s - loss: 7.4066e-06 - accuracy: 1.0000"
     ]
    },
    {
     "name": "stderr",
     "output_type": "stream",
     "text": [
      "WARNING:absl:Found untraced functions such as _jit_compiled_convolution_op, _jit_compiled_convolution_op while saving (showing 2 of 2). These functions will not be directly callable after loading.\n"
     ]
    },
    {
     "name": "stdout",
     "output_type": "stream",
     "text": [
      "INFO:tensorflow:Assets written to: models\\experiment-1-2\\assets\n"
     ]
    },
    {
     "name": "stderr",
     "output_type": "stream",
     "text": [
      "INFO:tensorflow:Assets written to: models\\experiment-1-2\\assets\n"
     ]
    },
    {
     "name": "stdout",
     "output_type": "stream",
     "text": [
      "610/610 [==============================] - 28s 46ms/step - loss: 7.4066e-06 - accuracy: 1.0000 - val_loss: 8.1644e-06 - val_accuracy: 1.0000\n",
      "Epoch 1/15\n",
      "609/610 [============================>.] - ETA: 0s - loss: 0.9322 - accuracy: 0.7125"
     ]
    },
    {
     "name": "stderr",
     "output_type": "stream",
     "text": [
      "WARNING:absl:Found untraced functions such as _jit_compiled_convolution_op, _jit_compiled_convolution_op, _jit_compiled_convolution_op while saving (showing 3 of 3). These functions will not be directly callable after loading.\n"
     ]
    },
    {
     "name": "stdout",
     "output_type": "stream",
     "text": [
      "INFO:tensorflow:Assets written to: models\\experiment-1-3\\assets\n"
     ]
    },
    {
     "name": "stderr",
     "output_type": "stream",
     "text": [
      "INFO:tensorflow:Assets written to: models\\experiment-1-3\\assets\n"
     ]
    },
    {
     "name": "stdout",
     "output_type": "stream",
     "text": [
      "610/610 [==============================] - 39s 62ms/step - loss: 0.9316 - accuracy: 0.7127 - val_loss: 0.0522 - val_accuracy: 0.9878\n",
      "Epoch 2/15\n",
      "609/610 [============================>.] - ETA: 0s - loss: 0.0176 - accuracy: 0.9970"
     ]
    },
    {
     "name": "stderr",
     "output_type": "stream",
     "text": [
      "WARNING:absl:Found untraced functions such as _jit_compiled_convolution_op, _jit_compiled_convolution_op, _jit_compiled_convolution_op while saving (showing 3 of 3). These functions will not be directly callable after loading.\n"
     ]
    },
    {
     "name": "stdout",
     "output_type": "stream",
     "text": [
      "INFO:tensorflow:Assets written to: models\\experiment-1-3\\assets\n"
     ]
    },
    {
     "name": "stderr",
     "output_type": "stream",
     "text": [
      "INFO:tensorflow:Assets written to: models\\experiment-1-3\\assets\n"
     ]
    },
    {
     "name": "stdout",
     "output_type": "stream",
     "text": [
      "610/610 [==============================] - 38s 62ms/step - loss: 0.0176 - accuracy: 0.9970 - val_loss: 0.0022 - val_accuracy: 1.0000\n",
      "Epoch 3/15\n",
      "609/610 [============================>.] - ETA: 0s - loss: 9.0355e-04 - accuracy: 1.0000"
     ]
    },
    {
     "name": "stderr",
     "output_type": "stream",
     "text": [
      "WARNING:absl:Found untraced functions such as _jit_compiled_convolution_op, _jit_compiled_convolution_op, _jit_compiled_convolution_op while saving (showing 3 of 3). These functions will not be directly callable after loading.\n"
     ]
    },
    {
     "name": "stdout",
     "output_type": "stream",
     "text": [
      "INFO:tensorflow:Assets written to: models\\experiment-1-3\\assets\n"
     ]
    },
    {
     "name": "stderr",
     "output_type": "stream",
     "text": [
      "INFO:tensorflow:Assets written to: models\\experiment-1-3\\assets\n"
     ]
    },
    {
     "name": "stdout",
     "output_type": "stream",
     "text": [
      "610/610 [==============================] - 37s 60ms/step - loss: 9.0302e-04 - accuracy: 1.0000 - val_loss: 6.3681e-04 - val_accuracy: 1.0000\n",
      "Epoch 4/15\n",
      "609/610 [============================>.] - ETA: 0s - loss: 4.2219e-04 - accuracy: 1.0000"
     ]
    },
    {
     "name": "stderr",
     "output_type": "stream",
     "text": [
      "WARNING:absl:Found untraced functions such as _jit_compiled_convolution_op, _jit_compiled_convolution_op, _jit_compiled_convolution_op while saving (showing 3 of 3). These functions will not be directly callable after loading.\n"
     ]
    },
    {
     "name": "stdout",
     "output_type": "stream",
     "text": [
      "INFO:tensorflow:Assets written to: models\\experiment-1-3\\assets\n"
     ]
    },
    {
     "name": "stderr",
     "output_type": "stream",
     "text": [
      "INFO:tensorflow:Assets written to: models\\experiment-1-3\\assets\n"
     ]
    },
    {
     "name": "stdout",
     "output_type": "stream",
     "text": [
      "610/610 [==============================] - 35s 58ms/step - loss: 4.2214e-04 - accuracy: 1.0000 - val_loss: 2.8244e-04 - val_accuracy: 1.0000\n",
      "Epoch 5/15\n",
      "609/610 [============================>.] - ETA: 0s - loss: 1.8762e-04 - accuracy: 1.0000"
     ]
    },
    {
     "name": "stderr",
     "output_type": "stream",
     "text": [
      "WARNING:absl:Found untraced functions such as _jit_compiled_convolution_op, _jit_compiled_convolution_op, _jit_compiled_convolution_op while saving (showing 3 of 3). These functions will not be directly callable after loading.\n"
     ]
    },
    {
     "name": "stdout",
     "output_type": "stream",
     "text": [
      "INFO:tensorflow:Assets written to: models\\experiment-1-3\\assets\n"
     ]
    },
    {
     "name": "stderr",
     "output_type": "stream",
     "text": [
      "INFO:tensorflow:Assets written to: models\\experiment-1-3\\assets\n"
     ]
    },
    {
     "name": "stdout",
     "output_type": "stream",
     "text": [
      "610/610 [==============================] - 38s 62ms/step - loss: 1.8779e-04 - accuracy: 1.0000 - val_loss: 1.6363e-04 - val_accuracy: 1.0000\n",
      "Epoch 6/15\n",
      "609/610 [============================>.] - ETA: 0s - loss: 1.1587e-04 - accuracy: 1.0000"
     ]
    },
    {
     "name": "stderr",
     "output_type": "stream",
     "text": [
      "WARNING:absl:Found untraced functions such as _jit_compiled_convolution_op, _jit_compiled_convolution_op, _jit_compiled_convolution_op while saving (showing 3 of 3). These functions will not be directly callable after loading.\n"
     ]
    },
    {
     "name": "stdout",
     "output_type": "stream",
     "text": [
      "INFO:tensorflow:Assets written to: models\\experiment-1-3\\assets\n"
     ]
    },
    {
     "name": "stderr",
     "output_type": "stream",
     "text": [
      "INFO:tensorflow:Assets written to: models\\experiment-1-3\\assets\n"
     ]
    },
    {
     "name": "stdout",
     "output_type": "stream",
     "text": [
      "610/610 [==============================] - 36s 59ms/step - loss: 1.1584e-04 - accuracy: 1.0000 - val_loss: 1.0290e-04 - val_accuracy: 1.0000\n",
      "Epoch 7/15\n",
      "609/610 [============================>.] - ETA: 0s - loss: 7.1170e-05 - accuracy: 1.0000"
     ]
    },
    {
     "name": "stderr",
     "output_type": "stream",
     "text": [
      "WARNING:absl:Found untraced functions such as _jit_compiled_convolution_op, _jit_compiled_convolution_op, _jit_compiled_convolution_op while saving (showing 3 of 3). These functions will not be directly callable after loading.\n"
     ]
    },
    {
     "name": "stdout",
     "output_type": "stream",
     "text": [
      "INFO:tensorflow:Assets written to: models\\experiment-1-3\\assets\n"
     ]
    },
    {
     "name": "stderr",
     "output_type": "stream",
     "text": [
      "INFO:tensorflow:Assets written to: models\\experiment-1-3\\assets\n"
     ]
    },
    {
     "name": "stdout",
     "output_type": "stream",
     "text": [
      "610/610 [==============================] - 36s 59ms/step - loss: 7.1233e-05 - accuracy: 1.0000 - val_loss: 7.9859e-05 - val_accuracy: 1.0000\n",
      "Epoch 8/15\n",
      "609/610 [============================>.] - ETA: 0s - loss: 4.4709e-05 - accuracy: 1.0000"
     ]
    },
    {
     "name": "stderr",
     "output_type": "stream",
     "text": [
      "WARNING:absl:Found untraced functions such as _jit_compiled_convolution_op, _jit_compiled_convolution_op, _jit_compiled_convolution_op while saving (showing 3 of 3). These functions will not be directly callable after loading.\n"
     ]
    },
    {
     "name": "stdout",
     "output_type": "stream",
     "text": [
      "INFO:tensorflow:Assets written to: models\\experiment-1-3\\assets\n"
     ]
    },
    {
     "name": "stderr",
     "output_type": "stream",
     "text": [
      "INFO:tensorflow:Assets written to: models\\experiment-1-3\\assets\n"
     ]
    },
    {
     "name": "stdout",
     "output_type": "stream",
     "text": [
      "610/610 [==============================] - 35s 57ms/step - loss: 4.4687e-05 - accuracy: 1.0000 - val_loss: 4.3007e-05 - val_accuracy: 1.0000\n",
      "Epoch 9/15\n",
      "609/610 [============================>.] - ETA: 0s - loss: 3.0821e-05 - accuracy: 1.0000"
     ]
    },
    {
     "name": "stderr",
     "output_type": "stream",
     "text": [
      "WARNING:absl:Found untraced functions such as _jit_compiled_convolution_op, _jit_compiled_convolution_op, _jit_compiled_convolution_op while saving (showing 3 of 3). These functions will not be directly callable after loading.\n"
     ]
    },
    {
     "name": "stdout",
     "output_type": "stream",
     "text": [
      "INFO:tensorflow:Assets written to: models\\experiment-1-3\\assets\n"
     ]
    },
    {
     "name": "stderr",
     "output_type": "stream",
     "text": [
      "INFO:tensorflow:Assets written to: models\\experiment-1-3\\assets\n"
     ]
    },
    {
     "name": "stdout",
     "output_type": "stream",
     "text": [
      "610/610 [==============================] - 34s 55ms/step - loss: 3.0807e-05 - accuracy: 1.0000 - val_loss: 3.2101e-05 - val_accuracy: 1.0000\n",
      "Epoch 10/15\n",
      "609/610 [============================>.] - ETA: 0s - loss: 2.0848e-05 - accuracy: 1.0000"
     ]
    },
    {
     "name": "stderr",
     "output_type": "stream",
     "text": [
      "WARNING:absl:Found untraced functions such as _jit_compiled_convolution_op, _jit_compiled_convolution_op, _jit_compiled_convolution_op while saving (showing 3 of 3). These functions will not be directly callable after loading.\n"
     ]
    },
    {
     "name": "stdout",
     "output_type": "stream",
     "text": [
      "INFO:tensorflow:Assets written to: models\\experiment-1-3\\assets\n"
     ]
    },
    {
     "name": "stderr",
     "output_type": "stream",
     "text": [
      "INFO:tensorflow:Assets written to: models\\experiment-1-3\\assets\n"
     ]
    },
    {
     "name": "stdout",
     "output_type": "stream",
     "text": [
      "610/610 [==============================] - 34s 56ms/step - loss: 2.0845e-05 - accuracy: 1.0000 - val_loss: 2.1048e-05 - val_accuracy: 1.0000\n",
      "Epoch 11/15\n",
      "609/610 [============================>.] - ETA: 0s - loss: 1.3129e-05 - accuracy: 1.0000"
     ]
    },
    {
     "name": "stderr",
     "output_type": "stream",
     "text": [
      "WARNING:absl:Found untraced functions such as _jit_compiled_convolution_op, _jit_compiled_convolution_op, _jit_compiled_convolution_op while saving (showing 3 of 3). These functions will not be directly callable after loading.\n"
     ]
    },
    {
     "name": "stdout",
     "output_type": "stream",
     "text": [
      "INFO:tensorflow:Assets written to: models\\experiment-1-3\\assets\n"
     ]
    },
    {
     "name": "stderr",
     "output_type": "stream",
     "text": [
      "INFO:tensorflow:Assets written to: models\\experiment-1-3\\assets\n"
     ]
    },
    {
     "name": "stdout",
     "output_type": "stream",
     "text": [
      "610/610 [==============================] - 35s 57ms/step - loss: 1.3125e-05 - accuracy: 1.0000 - val_loss: 1.4204e-05 - val_accuracy: 1.0000\n",
      "Epoch 12/15\n",
      "610/610 [==============================] - ETA: 0s - loss: 9.1519e-06 - accuracy: 1.0000"
     ]
    },
    {
     "name": "stderr",
     "output_type": "stream",
     "text": [
      "WARNING:absl:Found untraced functions such as _jit_compiled_convolution_op, _jit_compiled_convolution_op, _jit_compiled_convolution_op while saving (showing 3 of 3). These functions will not be directly callable after loading.\n"
     ]
    },
    {
     "name": "stdout",
     "output_type": "stream",
     "text": [
      "INFO:tensorflow:Assets written to: models\\experiment-1-3\\assets\n"
     ]
    },
    {
     "name": "stderr",
     "output_type": "stream",
     "text": [
      "INFO:tensorflow:Assets written to: models\\experiment-1-3\\assets\n"
     ]
    },
    {
     "name": "stdout",
     "output_type": "stream",
     "text": [
      "610/610 [==============================] - 34s 56ms/step - loss: 9.1519e-06 - accuracy: 1.0000 - val_loss: 9.9360e-06 - val_accuracy: 1.0000\n",
      "Epoch 13/15\n",
      "610/610 [==============================] - ETA: 0s - loss: 6.3325e-06 - accuracy: 1.0000"
     ]
    },
    {
     "name": "stderr",
     "output_type": "stream",
     "text": [
      "WARNING:absl:Found untraced functions such as _jit_compiled_convolution_op, _jit_compiled_convolution_op, _jit_compiled_convolution_op while saving (showing 3 of 3). These functions will not be directly callable after loading.\n"
     ]
    },
    {
     "name": "stdout",
     "output_type": "stream",
     "text": [
      "INFO:tensorflow:Assets written to: models\\experiment-1-3\\assets\n"
     ]
    },
    {
     "name": "stderr",
     "output_type": "stream",
     "text": [
      "INFO:tensorflow:Assets written to: models\\experiment-1-3\\assets\n"
     ]
    },
    {
     "name": "stdout",
     "output_type": "stream",
     "text": [
      "610/610 [==============================] - 35s 58ms/step - loss: 6.3325e-06 - accuracy: 1.0000 - val_loss: 6.9345e-06 - val_accuracy: 1.0000\n",
      "Epoch 14/15\n",
      "609/610 [============================>.] - ETA: 0s - loss: 4.2549e-06 - accuracy: 1.0000"
     ]
    },
    {
     "name": "stderr",
     "output_type": "stream",
     "text": [
      "WARNING:absl:Found untraced functions such as _jit_compiled_convolution_op, _jit_compiled_convolution_op, _jit_compiled_convolution_op while saving (showing 3 of 3). These functions will not be directly callable after loading.\n"
     ]
    },
    {
     "name": "stdout",
     "output_type": "stream",
     "text": [
      "INFO:tensorflow:Assets written to: models\\experiment-1-3\\assets\n"
     ]
    },
    {
     "name": "stderr",
     "output_type": "stream",
     "text": [
      "INFO:tensorflow:Assets written to: models\\experiment-1-3\\assets\n"
     ]
    },
    {
     "name": "stdout",
     "output_type": "stream",
     "text": [
      "610/610 [==============================] - 35s 58ms/step - loss: 4.2536e-06 - accuracy: 1.0000 - val_loss: 4.9866e-06 - val_accuracy: 1.0000\n",
      "Epoch 15/15\n",
      "610/610 [==============================] - 33s 54ms/step - loss: 3.1277e-06 - accuracy: 1.0000 - val_loss: 1.6709e-04 - val_accuracy: 1.0000\n"
     ]
    }
   ],
   "source": [
    "# Models\n",
    "# 'models/experiment-1-1'\n",
    "# 'models/experiment-1-2'\n",
    "# 'models/experiment-1-3'\n",
    "\n",
    "# History objects\n",
    "# 'models/experiment-1-1-history'\n",
    "# 'models/experiment-1-2-history'\n",
    "# 'models/experiment-1-3-history'\n",
    "\n",
    "n_pairs = 3\n",
    "models_pairs = [keras.models.Sequential() for i in range(n_pairs)]\n",
    "early_stopping_cb = keras.callbacks.EarlyStopping(patience=5)\n",
    "\n",
    "for n in range(1, n_pairs+1):\n",
    "    models_pairs[n-1].add(keras.layers.Conv2D(32, (5, 5), padding='same', activation='relu', input_shape=(28, 28, 1)))\n",
    "    models_pairs[n-1].add(keras.layers.MaxPooling2D(pool_size=(2, 2)))\n",
    "    for i in range(1, n):\n",
    "        models_pairs[n-1].add(keras.layers.Conv2D(32*(i+1), (5, 5), padding='same', activation='relu'))\n",
    "        models_pairs[n-1].add(keras.layers.MaxPooling2D(pool_size=(2, 2)))\n",
    "    models_pairs[n-1].add(keras.layers.Flatten())\n",
    "    models_pairs[n-1].add(keras.layers.Dense(128, activation='relu'))\n",
    "    models_pairs[n-1].add(keras.layers.Dense(24, activation='softmax'))\n",
    "    models_pairs[n-1].compile(loss='categorical_crossentropy', optimizer='adam', metrics=['accuracy'])\n",
    "    save_best_cb = keras.callbacks.ModelCheckpoint(f'models/experiment-1-{n}', save_best_only=True)\n",
    "    history = models_pairs[n-1].fit(X_train, y_train, epochs=15, validation_data=(X_valid, y_valid), callbacks=[save_best_cb, early_stopping_cb])\n",
    "    with open(f'models/experiment-1-{n}-history', 'wb') as history_file:\n",
    "        pickle.dump(history.history, history_file)"
   ]
  },
  {
   "cell_type": "code",
   "execution_count": 53,
   "id": "7342fdc6",
   "metadata": {},
   "outputs": [
    {
     "name": "stdout",
     "output_type": "stream",
     "text": [
      "Model: \"sequential_1\"\n",
      "_________________________________________________________________\n",
      " Layer (type)                Output Shape              Param #   \n",
      "=================================================================\n",
      " conv2d_3 (Conv2D)           (None, 28, 28, 32)        832       \n",
      "                                                                 \n",
      " max_pooling2d_3 (MaxPooling  (None, 14, 14, 32)       0         \n",
      " 2D)                                                             \n",
      "                                                                 \n",
      " flatten_1 (Flatten)         (None, 6272)              0         \n",
      "                                                                 \n",
      " dense_2 (Dense)             (None, 128)               802944    \n",
      "                                                                 \n",
      " dense_3 (Dense)             (None, 24)                3096      \n",
      "                                                                 \n",
      "=================================================================\n",
      "Total params: 806,872\n",
      "Trainable params: 806,872\n",
      "Non-trainable params: 0\n",
      "_________________________________________________________________\n"
     ]
    }
   ],
   "source": [
    "models_pairs[0].summary()"
   ]
  },
  {
   "cell_type": "code",
   "execution_count": 54,
   "id": "d8632855",
   "metadata": {},
   "outputs": [
    {
     "name": "stdout",
     "output_type": "stream",
     "text": [
      "Model: \"sequential_2\"\n",
      "_________________________________________________________________\n",
      " Layer (type)                Output Shape              Param #   \n",
      "=================================================================\n",
      " conv2d_4 (Conv2D)           (None, 28, 28, 32)        832       \n",
      "                                                                 \n",
      " max_pooling2d_4 (MaxPooling  (None, 14, 14, 32)       0         \n",
      " 2D)                                                             \n",
      "                                                                 \n",
      " conv2d_5 (Conv2D)           (None, 14, 14, 64)        51264     \n",
      "                                                                 \n",
      " max_pooling2d_5 (MaxPooling  (None, 7, 7, 64)         0         \n",
      " 2D)                                                             \n",
      "                                                                 \n",
      " flatten_2 (Flatten)         (None, 3136)              0         \n",
      "                                                                 \n",
      " dense_4 (Dense)             (None, 128)               401536    \n",
      "                                                                 \n",
      " dense_5 (Dense)             (None, 24)                3096      \n",
      "                                                                 \n",
      "=================================================================\n",
      "Total params: 456,728\n",
      "Trainable params: 456,728\n",
      "Non-trainable params: 0\n",
      "_________________________________________________________________\n"
     ]
    }
   ],
   "source": [
    "models_pairs[1].summary()"
   ]
  },
  {
   "cell_type": "code",
   "execution_count": 55,
   "id": "6a11791d",
   "metadata": {},
   "outputs": [
    {
     "name": "stdout",
     "output_type": "stream",
     "text": [
      "Model: \"sequential_3\"\n",
      "_________________________________________________________________\n",
      " Layer (type)                Output Shape              Param #   \n",
      "=================================================================\n",
      " conv2d_6 (Conv2D)           (None, 28, 28, 32)        832       \n",
      "                                                                 \n",
      " max_pooling2d_6 (MaxPooling  (None, 14, 14, 32)       0         \n",
      " 2D)                                                             \n",
      "                                                                 \n",
      " conv2d_7 (Conv2D)           (None, 14, 14, 64)        51264     \n",
      "                                                                 \n",
      " max_pooling2d_7 (MaxPooling  (None, 7, 7, 64)         0         \n",
      " 2D)                                                             \n",
      "                                                                 \n",
      " conv2d_8 (Conv2D)           (None, 7, 7, 96)          153696    \n",
      "                                                                 \n",
      " max_pooling2d_8 (MaxPooling  (None, 3, 3, 96)         0         \n",
      " 2D)                                                             \n",
      "                                                                 \n",
      " flatten_3 (Flatten)         (None, 864)               0         \n",
      "                                                                 \n",
      " dense_6 (Dense)             (None, 128)               110720    \n",
      "                                                                 \n",
      " dense_7 (Dense)             (None, 24)                3096      \n",
      "                                                                 \n",
      "=================================================================\n",
      "Total params: 319,608\n",
      "Trainable params: 319,608\n",
      "Non-trainable params: 0\n",
      "_________________________________________________________________\n"
     ]
    }
   ],
   "source": [
    "models_pairs[2].summary()"
   ]
  },
  {
   "cell_type": "code",
   "execution_count": 56,
   "id": "0eb929a5",
   "metadata": {},
   "outputs": [
    {
     "name": "stdout",
     "output_type": "stream",
     "text": [
      "249/249 [==============================] - 3s 10ms/step - loss: 2.3396e-04 - accuracy: 1.0000\n",
      "249/249 [==============================] - 2s 9ms/step - loss: 8.1644e-06 - accuracy: 1.0000\n",
      "249/249 [==============================] - 3s 11ms/step - loss: 4.9866e-06 - accuracy: 1.0000\n"
     ]
    }
   ],
   "source": [
    "for index in range(n_pairs):\n",
    "    model = keras.models.load_model(f'models/experiment-1-{index+1}')\n",
    "    model.evaluate(X_valid, y_valid)"
   ]
  },
  {
   "cell_type": "code",
   "execution_count": 57,
   "id": "dc25fb43",
   "metadata": {},
   "outputs": [],
   "source": [
    "h_1_1 = np.load('models/experiment-1-1-history', allow_pickle=True)\n",
    "h_1_2 = np.load('models/experiment-1-2-history', allow_pickle=True)\n",
    "h_1_3 = np.load('models/experiment-1-3-history', allow_pickle=True)"
   ]
  },
  {
   "cell_type": "code",
   "execution_count": 58,
   "id": "6cbf80ac",
   "metadata": {},
   "outputs": [
    {
     "data": {
      "image/png": "[encoded data removed]",
      "text/plain": [
       "<Figure size 720x360 with 1 Axes>"
      ]
     },
     "metadata": {
      "needs_background": "light"
     },
     "output_type": "display_data"
    }
   ],
   "source": [
    "get_train_val_plots(h_1_1, yticks=np.arange(0, 1.2, 0.1))"
   ]
  },
  {
   "cell_type": "code",
   "execution_count": 59,
   "id": "31a8a4b1",
   "metadata": {},
   "outputs": [
    {
     "data": {
      "image/png": "[encoded data removed]",
      "text/plain": [
       "<Figure size 720x360 with 1 Axes>"
      ]
     },
     "metadata": {
      "needs_background": "light"
     },
     "output_type": "display_data"
    }
   ],
   "source": [
    "get_train_val_plots(h_1_2, yticks=np.arange(0, 1.2, 0.1))"
   ]
  },
  {
   "cell_type": "code",
   "execution_count": 60,
   "id": "734b82f2",
   "metadata": {
    "scrolled": true
   },
   "outputs": [
    {
     "data": {
      "image/png": "[encoded data removed]",
      "text/plain": [
       "<Figure size 720x360 with 1 Axes>"
      ]
     },
     "metadata": {
      "needs_background": "light"
     },
     "output_type": "display_data"
    }
   ],
   "source": [
    "get_train_val_plots(h_1_3, yticks=np.arange(0, 1.2, 0.1))"
   ]
  },
  {
   "cell_type": "markdown",
   "id": "8ff5e6f1",
   "metadata": {},
   "source": [
    "#### Model 3 has the least loss on the validation data\n",
    "#### Filters\n",
    "#### Our Models now contains 3 pairs of Convolution and Pooling layers\n",
    "#### Number of filters maps can be\n",
    "#### 8 - 16 - 32\n",
    "#### 16 - 32 - 64\n",
    "#### 24 - 48 - 96"
   ]
  },
  {
   "cell_type": "code",
   "execution_count": 61,
   "id": "1c3b6d2d",
   "metadata": {},
   "outputs": [
    {
     "name": "stdout",
     "output_type": "stream",
     "text": [
      "Epoch 1/10\n",
      "608/610 [============================>.] - ETA: 0s - loss: 1.2174 - accuracy: 0.6228"
     ]
    },
    {
     "name": "stderr",
     "output_type": "stream",
     "text": [
      "WARNING:absl:Found untraced functions such as _jit_compiled_convolution_op, _jit_compiled_convolution_op, _jit_compiled_convolution_op while saving (showing 3 of 3). These functions will not be directly callable after loading.\n"
     ]
    },
    {
     "name": "stdout",
     "output_type": "stream",
     "text": [
      "INFO:tensorflow:Assets written to: models\\experiment-fmaps-1\\assets\n"
     ]
    },
    {
     "name": "stderr",
     "output_type": "stream",
     "text": [
      "INFO:tensorflow:Assets written to: models\\experiment-fmaps-1\\assets\n"
     ]
    },
    {
     "name": "stdout",
     "output_type": "stream",
     "text": [
      "610/610 [==============================] - 17s 26ms/step - loss: 1.2152 - accuracy: 0.6235 - val_loss: 0.4020 - val_accuracy: 0.8606\n",
      "Epoch 2/10\n",
      "607/610 [============================>.] - ETA: 0s - loss: 0.1174 - accuracy: 0.9669"
     ]
    },
    {
     "name": "stderr",
     "output_type": "stream",
     "text": [
      "WARNING:absl:Found untraced functions such as _jit_compiled_convolution_op, _jit_compiled_convolution_op, _jit_compiled_convolution_op while saving (showing 3 of 3). These functions will not be directly callable after loading.\n"
     ]
    },
    {
     "name": "stdout",
     "output_type": "stream",
     "text": [
      "INFO:tensorflow:Assets written to: models\\experiment-fmaps-1\\assets\n"
     ]
    },
    {
     "name": "stderr",
     "output_type": "stream",
     "text": [
      "INFO:tensorflow:Assets written to: models\\experiment-fmaps-1\\assets\n"
     ]
    },
    {
     "name": "stdout",
     "output_type": "stream",
     "text": [
      "610/610 [==============================] - 16s 26ms/step - loss: 0.1171 - accuracy: 0.9670 - val_loss: 0.0363 - val_accuracy: 0.9940\n",
      "Epoch 3/10\n",
      "608/610 [============================>.] - ETA: 0s - loss: 0.0309 - accuracy: 0.9930"
     ]
    },
    {
     "name": "stderr",
     "output_type": "stream",
     "text": [
      "WARNING:absl:Found untraced functions such as _jit_compiled_convolution_op, _jit_compiled_convolution_op, _jit_compiled_convolution_op while saving (showing 3 of 3). These functions will not be directly callable after loading.\n"
     ]
    },
    {
     "name": "stdout",
     "output_type": "stream",
     "text": [
      "INFO:tensorflow:Assets written to: models\\experiment-fmaps-1\\assets\n"
     ]
    },
    {
     "name": "stderr",
     "output_type": "stream",
     "text": [
      "INFO:tensorflow:Assets written to: models\\experiment-fmaps-1\\assets\n"
     ]
    },
    {
     "name": "stdout",
     "output_type": "stream",
     "text": [
      "610/610 [==============================] - 16s 27ms/step - loss: 0.0308 - accuracy: 0.9930 - val_loss: 0.0053 - val_accuracy: 0.9999\n",
      "Epoch 4/10\n",
      "608/610 [============================>.] - ETA: 0s - loss: 0.0025 - accuracy: 1.0000"
     ]
    },
    {
     "name": "stderr",
     "output_type": "stream",
     "text": [
      "WARNING:absl:Found untraced functions such as _jit_compiled_convolution_op, _jit_compiled_convolution_op, _jit_compiled_convolution_op while saving (showing 3 of 3). These functions will not be directly callable after loading.\n"
     ]
    },
    {
     "name": "stdout",
     "output_type": "stream",
     "text": [
      "INFO:tensorflow:Assets written to: models\\experiment-fmaps-1\\assets\n"
     ]
    },
    {
     "name": "stderr",
     "output_type": "stream",
     "text": [
      "INFO:tensorflow:Assets written to: models\\experiment-fmaps-1\\assets\n"
     ]
    },
    {
     "name": "stdout",
     "output_type": "stream",
     "text": [
      "610/610 [==============================] - 16s 26ms/step - loss: 0.0025 - accuracy: 1.0000 - val_loss: 0.0019 - val_accuracy: 1.0000\n",
      "Epoch 5/10\n",
      "610/610 [==============================] - 13s 22ms/step - loss: 0.0528 - accuracy: 0.9851 - val_loss: 0.0709 - val_accuracy: 0.9781\n",
      "Epoch 6/10\n",
      "607/610 [============================>.] - ETA: 0s - loss: 0.0231 - accuracy: 0.9940"
     ]
    },
    {
     "name": "stderr",
     "output_type": "stream",
     "text": [
      "WARNING:absl:Found untraced functions such as _jit_compiled_convolution_op, _jit_compiled_convolution_op, _jit_compiled_convolution_op while saving (showing 3 of 3). These functions will not be directly callable after loading.\n"
     ]
    },
    {
     "name": "stdout",
     "output_type": "stream",
     "text": [
      "INFO:tensorflow:Assets written to: models\\experiment-fmaps-1\\assets\n"
     ]
    },
    {
     "name": "stderr",
     "output_type": "stream",
     "text": [
      "INFO:tensorflow:Assets written to: models\\experiment-fmaps-1\\assets\n"
     ]
    },
    {
     "name": "stdout",
     "output_type": "stream",
     "text": [
      "610/610 [==============================] - 15s 25ms/step - loss: 0.0230 - accuracy: 0.9941 - val_loss: 0.0013 - val_accuracy: 1.0000\n",
      "Epoch 7/10\n",
      "609/610 [============================>.] - ETA: 0s - loss: 6.2933e-04 - accuracy: 1.0000"
     ]
    },
    {
     "name": "stderr",
     "output_type": "stream",
     "text": [
      "WARNING:absl:Found untraced functions such as _jit_compiled_convolution_op, _jit_compiled_convolution_op, _jit_compiled_convolution_op while saving (showing 3 of 3). These functions will not be directly callable after loading.\n"
     ]
    },
    {
     "name": "stdout",
     "output_type": "stream",
     "text": [
      "INFO:tensorflow:Assets written to: models\\experiment-fmaps-1\\assets\n"
     ]
    },
    {
     "name": "stderr",
     "output_type": "stream",
     "text": [
      "INFO:tensorflow:Assets written to: models\\experiment-fmaps-1\\assets\n"
     ]
    },
    {
     "name": "stdout",
     "output_type": "stream",
     "text": [
      "610/610 [==============================] - 15s 25ms/step - loss: 6.2899e-04 - accuracy: 1.0000 - val_loss: 5.0958e-04 - val_accuracy: 1.0000\n",
      "Epoch 8/10\n",
      "610/610 [==============================] - ETA: 0s - loss: 2.9645e-04 - accuracy: 1.0000"
     ]
    },
    {
     "name": "stderr",
     "output_type": "stream",
     "text": [
      "WARNING:absl:Found untraced functions such as _jit_compiled_convolution_op, _jit_compiled_convolution_op, _jit_compiled_convolution_op while saving (showing 3 of 3). These functions will not be directly callable after loading.\n"
     ]
    },
    {
     "name": "stdout",
     "output_type": "stream",
     "text": [
      "INFO:tensorflow:Assets written to: models\\experiment-fmaps-1\\assets\n"
     ]
    },
    {
     "name": "stderr",
     "output_type": "stream",
     "text": [
      "INFO:tensorflow:Assets written to: models\\experiment-fmaps-1\\assets\n"
     ]
    },
    {
     "name": "stdout",
     "output_type": "stream",
     "text": [
      "610/610 [==============================] - 15s 25ms/step - loss: 2.9645e-04 - accuracy: 1.0000 - val_loss: 3.2335e-04 - val_accuracy: 1.0000\n",
      "Epoch 9/10\n",
      "608/610 [============================>.] - ETA: 0s - loss: 1.9266e-04 - accuracy: 1.0000"
     ]
    },
    {
     "name": "stderr",
     "output_type": "stream",
     "text": [
      "WARNING:absl:Found untraced functions such as _jit_compiled_convolution_op, _jit_compiled_convolution_op, _jit_compiled_convolution_op while saving (showing 3 of 3). These functions will not be directly callable after loading.\n"
     ]
    },
    {
     "name": "stdout",
     "output_type": "stream",
     "text": [
      "INFO:tensorflow:Assets written to: models\\experiment-fmaps-1\\assets\n"
     ]
    },
    {
     "name": "stderr",
     "output_type": "stream",
     "text": [
      "INFO:tensorflow:Assets written to: models\\experiment-fmaps-1\\assets\n"
     ]
    },
    {
     "name": "stdout",
     "output_type": "stream",
     "text": [
      "610/610 [==============================] - 15s 25ms/step - loss: 1.9239e-04 - accuracy: 1.0000 - val_loss: 2.1318e-04 - val_accuracy: 1.0000\n",
      "Epoch 10/10\n",
      "609/610 [============================>.] - ETA: 0s - loss: 1.3200e-04 - accuracy: 1.0000"
     ]
    },
    {
     "name": "stderr",
     "output_type": "stream",
     "text": [
      "WARNING:absl:Found untraced functions such as _jit_compiled_convolution_op, _jit_compiled_convolution_op, _jit_compiled_convolution_op while saving (showing 3 of 3). These functions will not be directly callable after loading.\n"
     ]
    },
    {
     "name": "stdout",
     "output_type": "stream",
     "text": [
      "INFO:tensorflow:Assets written to: models\\experiment-fmaps-1\\assets\n"
     ]
    },
    {
     "name": "stderr",
     "output_type": "stream",
     "text": [
      "INFO:tensorflow:Assets written to: models\\experiment-fmaps-1\\assets\n"
     ]
    },
    {
     "name": "stdout",
     "output_type": "stream",
     "text": [
      "610/610 [==============================] - 15s 25ms/step - loss: 1.3204e-04 - accuracy: 1.0000 - val_loss: 1.7380e-04 - val_accuracy: 1.0000\n",
      "Epoch 1/10\n",
      "608/610 [============================>.] - ETA: 0s - loss: 1.0675 - accuracy: 0.6702"
     ]
    },
    {
     "name": "stderr",
     "output_type": "stream",
     "text": [
      "WARNING:absl:Found untraced functions such as _jit_compiled_convolution_op, _jit_compiled_convolution_op, _jit_compiled_convolution_op while saving (showing 3 of 3). These functions will not be directly callable after loading.\n"
     ]
    },
    {
     "name": "stdout",
     "output_type": "stream",
     "text": [
      "INFO:tensorflow:Assets written to: models\\experiment-fmaps-2\\assets\n"
     ]
    },
    {
     "name": "stderr",
     "output_type": "stream",
     "text": [
      "INFO:tensorflow:Assets written to: models\\experiment-fmaps-2\\assets\n"
     ]
    },
    {
     "name": "stdout",
     "output_type": "stream",
     "text": [
      "610/610 [==============================] - 22s 35ms/step - loss: 1.0654 - accuracy: 0.6709 - val_loss: 0.2204 - val_accuracy: 0.9280\n",
      "Epoch 2/10\n",
      "609/610 [============================>.] - ETA: 0s - loss: 0.0711 - accuracy: 0.9794"
     ]
    },
    {
     "name": "stderr",
     "output_type": "stream",
     "text": [
      "WARNING:absl:Found untraced functions such as _jit_compiled_convolution_op, _jit_compiled_convolution_op, _jit_compiled_convolution_op while saving (showing 3 of 3). These functions will not be directly callable after loading.\n"
     ]
    },
    {
     "name": "stdout",
     "output_type": "stream",
     "text": [
      "INFO:tensorflow:Assets written to: models\\experiment-fmaps-2\\assets\n"
     ]
    },
    {
     "name": "stderr",
     "output_type": "stream",
     "text": [
      "INFO:tensorflow:Assets written to: models\\experiment-fmaps-2\\assets\n"
     ]
    },
    {
     "name": "stdout",
     "output_type": "stream",
     "text": [
      "610/610 [==============================] - 21s 34ms/step - loss: 0.0710 - accuracy: 0.9794 - val_loss: 0.0114 - val_accuracy: 0.9996\n",
      "Epoch 3/10\n",
      "610/610 [==============================] - 19s 32ms/step - loss: 0.0033 - accuracy: 0.9999 - val_loss: 0.0129 - val_accuracy: 0.9965\n",
      "Epoch 4/10\n",
      "608/610 [============================>.] - ETA: 0s - loss: 0.0342 - accuracy: 0.9891"
     ]
    },
    {
     "name": "stderr",
     "output_type": "stream",
     "text": [
      "WARNING:absl:Found untraced functions such as _jit_compiled_convolution_op, _jit_compiled_convolution_op, _jit_compiled_convolution_op while saving (showing 3 of 3). These functions will not be directly callable after loading.\n"
     ]
    },
    {
     "name": "stdout",
     "output_type": "stream",
     "text": [
      "INFO:tensorflow:Assets written to: models\\experiment-fmaps-2\\assets\n"
     ]
    },
    {
     "name": "stderr",
     "output_type": "stream",
     "text": [
      "INFO:tensorflow:Assets written to: models\\experiment-fmaps-2\\assets\n"
     ]
    },
    {
     "name": "stdout",
     "output_type": "stream",
     "text": [
      "610/610 [==============================] - 21s 34ms/step - loss: 0.0341 - accuracy: 0.9891 - val_loss: 7.8293e-04 - val_accuracy: 1.0000\n",
      "Epoch 5/10\n",
      "609/610 [============================>.] - ETA: 0s - loss: 4.2415e-04 - accuracy: 1.0000"
     ]
    },
    {
     "name": "stderr",
     "output_type": "stream",
     "text": [
      "WARNING:absl:Found untraced functions such as _jit_compiled_convolution_op, _jit_compiled_convolution_op, _jit_compiled_convolution_op while saving (showing 3 of 3). These functions will not be directly callable after loading.\n"
     ]
    },
    {
     "name": "stdout",
     "output_type": "stream",
     "text": [
      "INFO:tensorflow:Assets written to: models\\experiment-fmaps-2\\assets\n"
     ]
    },
    {
     "name": "stderr",
     "output_type": "stream",
     "text": [
      "INFO:tensorflow:Assets written to: models\\experiment-fmaps-2\\assets\n"
     ]
    },
    {
     "name": "stdout",
     "output_type": "stream",
     "text": [
      "610/610 [==============================] - 21s 34ms/step - loss: 4.2403e-04 - accuracy: 1.0000 - val_loss: 2.8219e-04 - val_accuracy: 1.0000\n",
      "Epoch 6/10\n",
      "609/610 [============================>.] - ETA: 0s - loss: 1.9328e-04 - accuracy: 1.0000"
     ]
    },
    {
     "name": "stderr",
     "output_type": "stream",
     "text": [
      "WARNING:absl:Found untraced functions such as _jit_compiled_convolution_op, _jit_compiled_convolution_op, _jit_compiled_convolution_op while saving (showing 3 of 3). These functions will not be directly callable after loading.\n"
     ]
    },
    {
     "name": "stdout",
     "output_type": "stream",
     "text": [
      "INFO:tensorflow:Assets written to: models\\experiment-fmaps-2\\assets\n"
     ]
    },
    {
     "name": "stderr",
     "output_type": "stream",
     "text": [
      "INFO:tensorflow:Assets written to: models\\experiment-fmaps-2\\assets\n"
     ]
    },
    {
     "name": "stdout",
     "output_type": "stream",
     "text": [
      "610/610 [==============================] - 21s 34ms/step - loss: 1.9318e-04 - accuracy: 1.0000 - val_loss: 1.6165e-04 - val_accuracy: 1.0000\n",
      "Epoch 7/10\n",
      "609/610 [============================>.] - ETA: 0s - loss: 1.1785e-04 - accuracy: 1.0000"
     ]
    },
    {
     "name": "stderr",
     "output_type": "stream",
     "text": [
      "WARNING:absl:Found untraced functions such as _jit_compiled_convolution_op, _jit_compiled_convolution_op, _jit_compiled_convolution_op while saving (showing 3 of 3). These functions will not be directly callable after loading.\n"
     ]
    },
    {
     "name": "stdout",
     "output_type": "stream",
     "text": [
      "INFO:tensorflow:Assets written to: models\\experiment-fmaps-2\\assets\n"
     ]
    },
    {
     "name": "stderr",
     "output_type": "stream",
     "text": [
      "INFO:tensorflow:Assets written to: models\\experiment-fmaps-2\\assets\n"
     ]
    },
    {
     "name": "stdout",
     "output_type": "stream",
     "text": [
      "610/610 [==============================] - 20s 33ms/step - loss: 1.1784e-04 - accuracy: 1.0000 - val_loss: 1.0883e-04 - val_accuracy: 1.0000\n",
      "Epoch 8/10\n",
      "609/610 [============================>.] - ETA: 0s - loss: 7.9492e-05 - accuracy: 1.0000"
     ]
    },
    {
     "name": "stderr",
     "output_type": "stream",
     "text": [
      "WARNING:absl:Found untraced functions such as _jit_compiled_convolution_op, _jit_compiled_convolution_op, _jit_compiled_convolution_op while saving (showing 3 of 3). These functions will not be directly callable after loading.\n"
     ]
    },
    {
     "name": "stdout",
     "output_type": "stream",
     "text": [
      "INFO:tensorflow:Assets written to: models\\experiment-fmaps-2\\assets\n"
     ]
    },
    {
     "name": "stderr",
     "output_type": "stream",
     "text": [
      "INFO:tensorflow:Assets written to: models\\experiment-fmaps-2\\assets\n"
     ]
    },
    {
     "name": "stdout",
     "output_type": "stream",
     "text": [
      "610/610 [==============================] - 20s 34ms/step - loss: 7.9471e-05 - accuracy: 1.0000 - val_loss: 7.3943e-05 - val_accuracy: 1.0000\n",
      "Epoch 9/10\n",
      "608/610 [============================>.] - ETA: 0s - loss: 5.5833e-05 - accuracy: 1.0000"
     ]
    },
    {
     "name": "stderr",
     "output_type": "stream",
     "text": [
      "WARNING:absl:Found untraced functions such as _jit_compiled_convolution_op, _jit_compiled_convolution_op, _jit_compiled_convolution_op while saving (showing 3 of 3). These functions will not be directly callable after loading.\n"
     ]
    },
    {
     "name": "stdout",
     "output_type": "stream",
     "text": [
      "INFO:tensorflow:Assets written to: models\\experiment-fmaps-2\\assets\n"
     ]
    },
    {
     "name": "stderr",
     "output_type": "stream",
     "text": [
      "INFO:tensorflow:Assets written to: models\\experiment-fmaps-2\\assets\n"
     ]
    },
    {
     "name": "stdout",
     "output_type": "stream",
     "text": [
      "610/610 [==============================] - 20s 33ms/step - loss: 5.5802e-05 - accuracy: 1.0000 - val_loss: 5.4876e-05 - val_accuracy: 1.0000\n",
      "Epoch 10/10\n",
      "608/610 [============================>.] - ETA: 0s - loss: 3.8862e-05 - accuracy: 1.0000"
     ]
    },
    {
     "name": "stderr",
     "output_type": "stream",
     "text": [
      "WARNING:absl:Found untraced functions such as _jit_compiled_convolution_op, _jit_compiled_convolution_op, _jit_compiled_convolution_op while saving (showing 3 of 3). These functions will not be directly callable after loading.\n"
     ]
    },
    {
     "name": "stdout",
     "output_type": "stream",
     "text": [
      "INFO:tensorflow:Assets written to: models\\experiment-fmaps-2\\assets\n"
     ]
    },
    {
     "name": "stderr",
     "output_type": "stream",
     "text": [
      "INFO:tensorflow:Assets written to: models\\experiment-fmaps-2\\assets\n"
     ]
    },
    {
     "name": "stdout",
     "output_type": "stream",
     "text": [
      "610/610 [==============================] - 20s 33ms/step - loss: 3.8878e-05 - accuracy: 1.0000 - val_loss: 3.8269e-05 - val_accuracy: 1.0000\n",
      "Epoch 1/10\n",
      "609/610 [============================>.] - ETA: 0s - loss: 0.9737 - accuracy: 0.6989"
     ]
    },
    {
     "name": "stderr",
     "output_type": "stream",
     "text": [
      "WARNING:absl:Found untraced functions such as _jit_compiled_convolution_op, _jit_compiled_convolution_op, _jit_compiled_convolution_op while saving (showing 3 of 3). These functions will not be directly callable after loading.\n"
     ]
    },
    {
     "name": "stdout",
     "output_type": "stream",
     "text": [
      "INFO:tensorflow:Assets written to: models\\experiment-fmaps-3\\assets\n"
     ]
    },
    {
     "name": "stderr",
     "output_type": "stream",
     "text": [
      "INFO:tensorflow:Assets written to: models\\experiment-fmaps-3\\assets\n"
     ]
    },
    {
     "name": "stdout",
     "output_type": "stream",
     "text": [
      "610/610 [==============================] - 30s 49ms/step - loss: 0.9731 - accuracy: 0.6991 - val_loss: 0.1319 - val_accuracy: 0.9633\n",
      "Epoch 2/10\n",
      "609/610 [============================>.] - ETA: 0s - loss: 0.0355 - accuracy: 0.9922"
     ]
    },
    {
     "name": "stderr",
     "output_type": "stream",
     "text": [
      "WARNING:absl:Found untraced functions such as _jit_compiled_convolution_op, _jit_compiled_convolution_op, _jit_compiled_convolution_op while saving (showing 3 of 3). These functions will not be directly callable after loading.\n"
     ]
    },
    {
     "name": "stdout",
     "output_type": "stream",
     "text": [
      "INFO:tensorflow:Assets written to: models\\experiment-fmaps-3\\assets\n"
     ]
    },
    {
     "name": "stderr",
     "output_type": "stream",
     "text": [
      "INFO:tensorflow:Assets written to: models\\experiment-fmaps-3\\assets\n"
     ]
    },
    {
     "name": "stdout",
     "output_type": "stream",
     "text": [
      "610/610 [==============================] - 29s 47ms/step - loss: 0.0355 - accuracy: 0.9922 - val_loss: 0.0113 - val_accuracy: 0.9981\n",
      "Epoch 3/10\n",
      "609/610 [============================>.] - ETA: 0s - loss: 0.0102 - accuracy: 0.9981"
     ]
    },
    {
     "name": "stderr",
     "output_type": "stream",
     "text": [
      "WARNING:absl:Found untraced functions such as _jit_compiled_convolution_op, _jit_compiled_convolution_op, _jit_compiled_convolution_op while saving (showing 3 of 3). These functions will not be directly callable after loading.\n"
     ]
    },
    {
     "name": "stdout",
     "output_type": "stream",
     "text": [
      "INFO:tensorflow:Assets written to: models\\experiment-fmaps-3\\assets\n"
     ]
    },
    {
     "name": "stderr",
     "output_type": "stream",
     "text": [
      "INFO:tensorflow:Assets written to: models\\experiment-fmaps-3\\assets\n"
     ]
    },
    {
     "name": "stdout",
     "output_type": "stream",
     "text": [
      "610/610 [==============================] - 29s 48ms/step - loss: 0.0102 - accuracy: 0.9981 - val_loss: 0.0085 - val_accuracy: 0.9986\n",
      "Epoch 4/10\n",
      "610/610 [==============================] - 27s 44ms/step - loss: 0.0335 - accuracy: 0.9894 - val_loss: 0.0121 - val_accuracy: 0.9966\n",
      "Epoch 5/10\n",
      "609/610 [============================>.] - ETA: 0s - loss: 0.0071 - accuracy: 0.9978"
     ]
    },
    {
     "name": "stderr",
     "output_type": "stream",
     "text": [
      "WARNING:absl:Found untraced functions such as _jit_compiled_convolution_op, _jit_compiled_convolution_op, _jit_compiled_convolution_op while saving (showing 3 of 3). These functions will not be directly callable after loading.\n"
     ]
    },
    {
     "name": "stdout",
     "output_type": "stream",
     "text": [
      "INFO:tensorflow:Assets written to: models\\experiment-fmaps-3\\assets\n"
     ]
    },
    {
     "name": "stderr",
     "output_type": "stream",
     "text": [
      "INFO:tensorflow:Assets written to: models\\experiment-fmaps-3\\assets\n"
     ]
    },
    {
     "name": "stdout",
     "output_type": "stream",
     "text": [
      "610/610 [==============================] - 28s 46ms/step - loss: 0.0071 - accuracy: 0.9978 - val_loss: 1.6747e-04 - val_accuracy: 1.0000\n",
      "Epoch 6/10\n",
      "609/610 [============================>.] - ETA: 0s - loss: 1.0783e-04 - accuracy: 1.0000"
     ]
    },
    {
     "name": "stderr",
     "output_type": "stream",
     "text": [
      "WARNING:absl:Found untraced functions such as _jit_compiled_convolution_op, _jit_compiled_convolution_op, _jit_compiled_convolution_op while saving (showing 3 of 3). These functions will not be directly callable after loading.\n"
     ]
    },
    {
     "name": "stdout",
     "output_type": "stream",
     "text": [
      "INFO:tensorflow:Assets written to: models\\experiment-fmaps-3\\assets\n"
     ]
    },
    {
     "name": "stderr",
     "output_type": "stream",
     "text": [
      "INFO:tensorflow:Assets written to: models\\experiment-fmaps-3\\assets\n"
     ]
    },
    {
     "name": "stdout",
     "output_type": "stream",
     "text": [
      "610/610 [==============================] - 29s 47ms/step - loss: 1.0781e-04 - accuracy: 1.0000 - val_loss: 7.7380e-05 - val_accuracy: 1.0000\n",
      "Epoch 7/10\n",
      "609/610 [============================>.] - ETA: 0s - loss: 5.5698e-05 - accuracy: 1.0000"
     ]
    },
    {
     "name": "stderr",
     "output_type": "stream",
     "text": [
      "WARNING:absl:Found untraced functions such as _jit_compiled_convolution_op, _jit_compiled_convolution_op, _jit_compiled_convolution_op while saving (showing 3 of 3). These functions will not be directly callable after loading.\n"
     ]
    },
    {
     "name": "stdout",
     "output_type": "stream",
     "text": [
      "INFO:tensorflow:Assets written to: models\\experiment-fmaps-3\\assets\n"
     ]
    },
    {
     "name": "stderr",
     "output_type": "stream",
     "text": [
      "INFO:tensorflow:Assets written to: models\\experiment-fmaps-3\\assets\n"
     ]
    },
    {
     "name": "stdout",
     "output_type": "stream",
     "text": [
      "610/610 [==============================] - 28s 46ms/step - loss: 5.5664e-05 - accuracy: 1.0000 - val_loss: 4.6144e-05 - val_accuracy: 1.0000\n",
      "Epoch 8/10\n",
      "609/610 [============================>.] - ETA: 0s - loss: 3.4487e-05 - accuracy: 1.0000"
     ]
    },
    {
     "name": "stderr",
     "output_type": "stream",
     "text": [
      "WARNING:absl:Found untraced functions such as _jit_compiled_convolution_op, _jit_compiled_convolution_op, _jit_compiled_convolution_op while saving (showing 3 of 3). These functions will not be directly callable after loading.\n"
     ]
    },
    {
     "name": "stdout",
     "output_type": "stream",
     "text": [
      "INFO:tensorflow:Assets written to: models\\experiment-fmaps-3\\assets\n"
     ]
    },
    {
     "name": "stderr",
     "output_type": "stream",
     "text": [
      "INFO:tensorflow:Assets written to: models\\experiment-fmaps-3\\assets\n"
     ]
    },
    {
     "name": "stdout",
     "output_type": "stream",
     "text": [
      "610/610 [==============================] - 27s 45ms/step - loss: 3.4473e-05 - accuracy: 1.0000 - val_loss: 3.0598e-05 - val_accuracy: 1.0000\n",
      "Epoch 9/10\n",
      "610/610 [==============================] - ETA: 0s - loss: 2.3353e-05 - accuracy: 1.0000"
     ]
    },
    {
     "name": "stderr",
     "output_type": "stream",
     "text": [
      "WARNING:absl:Found untraced functions such as _jit_compiled_convolution_op, _jit_compiled_convolution_op, _jit_compiled_convolution_op while saving (showing 3 of 3). These functions will not be directly callable after loading.\n"
     ]
    },
    {
     "name": "stdout",
     "output_type": "stream",
     "text": [
      "INFO:tensorflow:Assets written to: models\\experiment-fmaps-3\\assets\n"
     ]
    },
    {
     "name": "stderr",
     "output_type": "stream",
     "text": [
      "INFO:tensorflow:Assets written to: models\\experiment-fmaps-3\\assets\n"
     ]
    },
    {
     "name": "stdout",
     "output_type": "stream",
     "text": [
      "610/610 [==============================] - 28s 45ms/step - loss: 2.3353e-05 - accuracy: 1.0000 - val_loss: 2.1576e-05 - val_accuracy: 1.0000\n",
      "Epoch 10/10\n",
      "610/610 [==============================] - ETA: 0s - loss: 1.6175e-05 - accuracy: 1.0000"
     ]
    },
    {
     "name": "stderr",
     "output_type": "stream",
     "text": [
      "WARNING:absl:Found untraced functions such as _jit_compiled_convolution_op, _jit_compiled_convolution_op, _jit_compiled_convolution_op while saving (showing 3 of 3). These functions will not be directly callable after loading.\n"
     ]
    },
    {
     "name": "stdout",
     "output_type": "stream",
     "text": [
      "INFO:tensorflow:Assets written to: models\\experiment-fmaps-3\\assets\n"
     ]
    },
    {
     "name": "stderr",
     "output_type": "stream",
     "text": [
      "INFO:tensorflow:Assets written to: models\\experiment-fmaps-3\\assets\n"
     ]
    },
    {
     "name": "stdout",
     "output_type": "stream",
     "text": [
      "610/610 [==============================] - 31s 52ms/step - loss: 1.6175e-05 - accuracy: 1.0000 - val_loss: 1.5572e-05 - val_accuracy: 1.0000\n"
     ]
    }
   ],
   "source": [
    "# Models\n",
    "# 'models/experiment-fmaps-1'\n",
    "# 'models/experiment-fmaps-2'\n",
    "# 'models/experiment-fmaps-3'\n",
    "\n",
    "# History objects\n",
    "# 'models/experiment-fmaps-1-history'\n",
    "# 'models/experiment-fmaps-2-history'\n",
    "# 'models/experiment-fmaps-3-history'\n",
    "\n",
    "n_tests = 3\n",
    "\n",
    "models = []\n",
    "early_stopping_cb = keras.callbacks.EarlyStopping(patience=5)\n",
    "\n",
    "\n",
    "for i in range(n_tests):\n",
    "    model = keras.models.Sequential()\n",
    "    models.append(model)\n",
    "    model.add(keras.layers.Input(shape=(28, 28, 1)))\n",
    "    for pairs in range(3):\n",
    "        model.add(keras.layers.Conv2D((8*(i+1))*(2**pairs), (5, 5), padding='same', activation='relu'))\n",
    "        model.add(keras.layers.MaxPooling2D(pool_size=(2, 2)))\n",
    "    model.add(keras.layers.Flatten())\n",
    "    model.add(keras.layers.Dense(128, activation='relu'))\n",
    "    model.add(keras.layers.Dense(24, activation='softmax'))\n",
    "    model.compile(loss='categorical_crossentropy', optimizer='adam', metrics=['accuracy'])\n",
    "    save_best_cb = keras.callbacks.ModelCheckpoint(f'models/experiment-fmaps-{i+1}', save_best_only=True)\n",
    "    history = model.fit(X_train, y_train, epochs=10, validation_data=(X_valid, y_valid), callbacks=[save_best_cb, early_stopping_cb])\n",
    "    with open(f'models/experiment-fmaps-{i+1}-history', 'wb') as history_file:\n",
    "        pickle.dump(history.history, history_file)"
   ]
  },
  {
   "cell_type": "code",
   "execution_count": 62,
   "id": "4decc92b",
   "metadata": {},
   "outputs": [
    {
     "name": "stdout",
     "output_type": "stream",
     "text": [
      "Model: \"sequential_4\"\n",
      "_________________________________________________________________\n",
      " Layer (type)                Output Shape              Param #   \n",
      "=================================================================\n",
      " conv2d_9 (Conv2D)           (None, 28, 28, 8)         208       \n",
      "                                                                 \n",
      " max_pooling2d_9 (MaxPooling  (None, 14, 14, 8)        0         \n",
      " 2D)                                                             \n",
      "                                                                 \n",
      " conv2d_10 (Conv2D)          (None, 14, 14, 16)        3216      \n",
      "                                                                 \n",
      " max_pooling2d_10 (MaxPoolin  (None, 7, 7, 16)         0         \n",
      " g2D)                                                            \n",
      "                                                                 \n",
      " conv2d_11 (Conv2D)          (None, 7, 7, 32)          12832     \n",
      "                                                                 \n",
      " max_pooling2d_11 (MaxPoolin  (None, 3, 3, 32)         0         \n",
      " g2D)                                                            \n",
      "                                                                 \n",
      " flatten_4 (Flatten)         (None, 288)               0         \n",
      "                                                                 \n",
      " dense_8 (Dense)             (None, 128)               36992     \n",
      "                                                                 \n",
      " dense_9 (Dense)             (None, 24)                3096      \n",
      "                                                                 \n",
      "=================================================================\n",
      "Total params: 56,344\n",
      "Trainable params: 56,344\n",
      "Non-trainable params: 0\n",
      "_________________________________________________________________\n"
     ]
    }
   ],
   "source": [
    "models[0].summary()"
   ]
  },
  {
   "cell_type": "code",
   "execution_count": 63,
   "id": "ae348cac",
   "metadata": {},
   "outputs": [
    {
     "name": "stdout",
     "output_type": "stream",
     "text": [
      "Model: \"sequential_5\"\n",
      "_________________________________________________________________\n",
      " Layer (type)                Output Shape              Param #   \n",
      "=================================================================\n",
      " conv2d_12 (Conv2D)          (None, 28, 28, 16)        416       \n",
      "                                                                 \n",
      " max_pooling2d_12 (MaxPoolin  (None, 14, 14, 16)       0         \n",
      " g2D)                                                            \n",
      "                                                                 \n",
      " conv2d_13 (Conv2D)          (None, 14, 14, 32)        12832     \n",
      "                                                                 \n",
      " max_pooling2d_13 (MaxPoolin  (None, 7, 7, 32)         0         \n",
      " g2D)                                                            \n",
      "                                                                 \n",
      " conv2d_14 (Conv2D)          (None, 7, 7, 64)          51264     \n",
      "                                                                 \n",
      " max_pooling2d_14 (MaxPoolin  (None, 3, 3, 64)         0         \n",
      " g2D)                                                            \n",
      "                                                                 \n",
      " flatten_5 (Flatten)         (None, 576)               0         \n",
      "                                                                 \n",
      " dense_10 (Dense)            (None, 128)               73856     \n",
      "                                                                 \n",
      " dense_11 (Dense)            (None, 24)                3096      \n",
      "                                                                 \n",
      "=================================================================\n",
      "Total params: 141,464\n",
      "Trainable params: 141,464\n",
      "Non-trainable params: 0\n",
      "_________________________________________________________________\n"
     ]
    }
   ],
   "source": [
    "models[1].summary()"
   ]
  },
  {
   "cell_type": "code",
   "execution_count": 64,
   "id": "79295820",
   "metadata": {},
   "outputs": [
    {
     "name": "stdout",
     "output_type": "stream",
     "text": [
      "Model: \"sequential_6\"\n",
      "_________________________________________________________________\n",
      " Layer (type)                Output Shape              Param #   \n",
      "=================================================================\n",
      " conv2d_15 (Conv2D)          (None, 28, 28, 24)        624       \n",
      "                                                                 \n",
      " max_pooling2d_15 (MaxPoolin  (None, 14, 14, 24)       0         \n",
      " g2D)                                                            \n",
      "                                                                 \n",
      " conv2d_16 (Conv2D)          (None, 14, 14, 48)        28848     \n",
      "                                                                 \n",
      " max_pooling2d_16 (MaxPoolin  (None, 7, 7, 48)         0         \n",
      " g2D)                                                            \n",
      "                                                                 \n",
      " conv2d_17 (Conv2D)          (None, 7, 7, 96)          115296    \n",
      "                                                                 \n",
      " max_pooling2d_17 (MaxPoolin  (None, 3, 3, 96)         0         \n",
      " g2D)                                                            \n",
      "                                                                 \n",
      " flatten_6 (Flatten)         (None, 864)               0         \n",
      "                                                                 \n",
      " dense_12 (Dense)            (None, 128)               110720    \n",
      "                                                                 \n",
      " dense_13 (Dense)            (None, 24)                3096      \n",
      "                                                                 \n",
      "=================================================================\n",
      "Total params: 258,584\n",
      "Trainable params: 258,584\n",
      "Non-trainable params: 0\n",
      "_________________________________________________________________\n"
     ]
    }
   ],
   "source": [
    "models[2].summary()"
   ]
  },
  {
   "cell_type": "code",
   "execution_count": 65,
   "id": "d4646320",
   "metadata": {},
   "outputs": [
    {
     "name": "stdout",
     "output_type": "stream",
     "text": [
      "249/249 [==============================] - 4s 15ms/step - loss: 1.7380e-04 - accuracy: 1.0000\n",
      "249/249 [==============================] - 3s 10ms/step - loss: 3.8269e-05 - accuracy: 1.0000\n",
      "249/249 [==============================] - 3s 10ms/step - loss: 1.5572e-05 - accuracy: 1.0000\n"
     ]
    }
   ],
   "source": [
    "for index in range(n_tests):\n",
    "    model = keras.models.load_model(f'models/experiment-fmaps-{index+1}')\n",
    "    model.evaluate(X_valid, y_valid)\n"
   ]
  },
  {
   "cell_type": "code",
   "execution_count": 66,
   "id": "479a3d9c",
   "metadata": {},
   "outputs": [],
   "source": [
    "h_2_1 = np.load('models/experiment-fmaps-1-history', allow_pickle=True)\n",
    "h_2_2 = np.load('models/experiment-fmaps-2-history', allow_pickle=True)\n",
    "h_2_3 = np.load('models/experiment-fmaps-3-history', allow_pickle=True)"
   ]
  },
  {
   "cell_type": "code",
   "execution_count": 67,
   "id": "ccc79022",
   "metadata": {
    "scrolled": false
   },
   "outputs": [
    {
     "data": {
      "image/png": "[encoded data removed]",
      "text/plain": [
       "<Figure size 720x360 with 1 Axes>"
      ]
     },
     "metadata": {
      "needs_background": "light"
     },
     "output_type": "display_data"
    },
    {
     "data": {
      "image/png": "[encoded data removed]",
      "text/plain": [
       "<Figure size 720x360 with 1 Axes>"
      ]
     },
     "metadata": {
      "needs_background": "light"
     },
     "output_type": "display_data"
    },
    {
     "data": {
      "image/png": "[encoded data removed]",
      "text/plain": [
       "<Figure size 720x360 with 1 Axes>"
      ]
     },
     "metadata": {
      "needs_background": "light"
     },
     "output_type": "display_data"
    }
   ],
   "source": [
    "get_train_val_plots(h_2_1, yticks=np.arange(0, 1.2, 0.1))\n",
    "get_train_val_plots(h_2_2, yticks=np.arange(0, 1.2, 0.1))\n",
    "get_train_val_plots(h_2_3, yticks=np.arange(0, 1.2, 0.1))"
   ]
  },
  {
   "cell_type": "markdown",
   "id": "28aca084",
   "metadata": {},
   "source": [
    "#### Choose Model 3\n",
    "#### Filter Size"
   ]
  },
  {
   "cell_type": "code",
   "execution_count": 68,
   "id": "109e404a",
   "metadata": {},
   "outputs": [
    {
     "name": "stdout",
     "output_type": "stream",
     "text": [
      "Epoch 1/10\n",
      "609/610 [============================>.] - ETA: 0s - loss: 1.0432 - accuracy: 0.6808"
     ]
    },
    {
     "name": "stderr",
     "output_type": "stream",
     "text": [
      "WARNING:absl:Found untraced functions such as _jit_compiled_convolution_op, _jit_compiled_convolution_op, _jit_compiled_convolution_op while saving (showing 3 of 3). These functions will not be directly callable after loading.\n"
     ]
    },
    {
     "name": "stdout",
     "output_type": "stream",
     "text": [
      "INFO:tensorflow:Assets written to: models\\experiment-fiters-1\\assets\n"
     ]
    },
    {
     "name": "stderr",
     "output_type": "stream",
     "text": [
      "INFO:tensorflow:Assets written to: models\\experiment-fiters-1\\assets\n"
     ]
    },
    {
     "name": "stdout",
     "output_type": "stream",
     "text": [
      "610/610 [==============================] - 19s 29ms/step - loss: 1.0426 - accuracy: 0.6810 - val_loss: 0.1666 - val_accuracy: 0.9519\n",
      "Epoch 2/10\n",
      "609/610 [============================>.] - ETA: 0s - loss: 0.0584 - accuracy: 0.9854"
     ]
    },
    {
     "name": "stderr",
     "output_type": "stream",
     "text": [
      "WARNING:absl:Found untraced functions such as _jit_compiled_convolution_op, _jit_compiled_convolution_op, _jit_compiled_convolution_op while saving (showing 3 of 3). These functions will not be directly callable after loading.\n"
     ]
    },
    {
     "name": "stdout",
     "output_type": "stream",
     "text": [
      "INFO:tensorflow:Assets written to: models\\experiment-fiters-1\\assets\n"
     ]
    },
    {
     "name": "stderr",
     "output_type": "stream",
     "text": [
      "INFO:tensorflow:Assets written to: models\\experiment-fiters-1\\assets\n"
     ]
    },
    {
     "name": "stdout",
     "output_type": "stream",
     "text": [
      "610/610 [==============================] - 17s 28ms/step - loss: 0.0586 - accuracy: 0.9854 - val_loss: 0.0342 - val_accuracy: 0.9921\n",
      "Epoch 3/10\n",
      "610/610 [==============================] - ETA: 0s - loss: 0.0085 - accuracy: 0.9990"
     ]
    },
    {
     "name": "stderr",
     "output_type": "stream",
     "text": [
      "WARNING:absl:Found untraced functions such as _jit_compiled_convolution_op, _jit_compiled_convolution_op, _jit_compiled_convolution_op while saving (showing 3 of 3). These functions will not be directly callable after loading.\n"
     ]
    },
    {
     "name": "stdout",
     "output_type": "stream",
     "text": [
      "INFO:tensorflow:Assets written to: models\\experiment-fiters-1\\assets\n"
     ]
    },
    {
     "name": "stderr",
     "output_type": "stream",
     "text": [
      "INFO:tensorflow:Assets written to: models\\experiment-fiters-1\\assets\n"
     ]
    },
    {
     "name": "stdout",
     "output_type": "stream",
     "text": [
      "610/610 [==============================] - 18s 30ms/step - loss: 0.0085 - accuracy: 0.9990 - val_loss: 0.0117 - val_accuracy: 0.9971\n",
      "Epoch 4/10\n",
      "610/610 [==============================] - 16s 26ms/step - loss: 0.0268 - accuracy: 0.9931 - val_loss: 0.0382 - val_accuracy: 0.9916\n",
      "Epoch 5/10\n",
      "609/610 [============================>.] - ETA: 0s - loss: 0.0075 - accuracy: 0.9978"
     ]
    },
    {
     "name": "stderr",
     "output_type": "stream",
     "text": [
      "WARNING:absl:Found untraced functions such as _jit_compiled_convolution_op, _jit_compiled_convolution_op, _jit_compiled_convolution_op while saving (showing 3 of 3). These functions will not be directly callable after loading.\n"
     ]
    },
    {
     "name": "stdout",
     "output_type": "stream",
     "text": [
      "INFO:tensorflow:Assets written to: models\\experiment-fiters-1\\assets\n"
     ]
    },
    {
     "name": "stderr",
     "output_type": "stream",
     "text": [
      "INFO:tensorflow:Assets written to: models\\experiment-fiters-1\\assets\n"
     ]
    },
    {
     "name": "stdout",
     "output_type": "stream",
     "text": [
      "610/610 [==============================] - 18s 29ms/step - loss: 0.0075 - accuracy: 0.9978 - val_loss: 4.5194e-04 - val_accuracy: 1.0000\n",
      "Epoch 6/10\n",
      "608/610 [============================>.] - ETA: 0s - loss: 2.5915e-04 - accuracy: 1.0000"
     ]
    },
    {
     "name": "stderr",
     "output_type": "stream",
     "text": [
      "WARNING:absl:Found untraced functions such as _jit_compiled_convolution_op, _jit_compiled_convolution_op, _jit_compiled_convolution_op while saving (showing 3 of 3). These functions will not be directly callable after loading.\n"
     ]
    },
    {
     "name": "stdout",
     "output_type": "stream",
     "text": [
      "INFO:tensorflow:Assets written to: models\\experiment-fiters-1\\assets\n"
     ]
    },
    {
     "name": "stderr",
     "output_type": "stream",
     "text": [
      "INFO:tensorflow:Assets written to: models\\experiment-fiters-1\\assets\n"
     ]
    },
    {
     "name": "stdout",
     "output_type": "stream",
     "text": [
      "610/610 [==============================] - 16s 26ms/step - loss: 2.5891e-04 - accuracy: 1.0000 - val_loss: 2.2755e-04 - val_accuracy: 1.0000\n",
      "Epoch 7/10\n",
      "609/610 [============================>.] - ETA: 0s - loss: 1.4417e-04 - accuracy: 1.0000"
     ]
    },
    {
     "name": "stderr",
     "output_type": "stream",
     "text": [
      "WARNING:absl:Found untraced functions such as _jit_compiled_convolution_op, _jit_compiled_convolution_op, _jit_compiled_convolution_op while saving (showing 3 of 3). These functions will not be directly callable after loading.\n"
     ]
    },
    {
     "name": "stdout",
     "output_type": "stream",
     "text": [
      "INFO:tensorflow:Assets written to: models\\experiment-fiters-1\\assets\n"
     ]
    },
    {
     "name": "stderr",
     "output_type": "stream",
     "text": [
      "INFO:tensorflow:Assets written to: models\\experiment-fiters-1\\assets\n"
     ]
    },
    {
     "name": "stdout",
     "output_type": "stream",
     "text": [
      "610/610 [==============================] - 18s 29ms/step - loss: 1.4410e-04 - accuracy: 1.0000 - val_loss: 1.5565e-04 - val_accuracy: 1.0000\n",
      "Epoch 8/10\n",
      "610/610 [==============================] - ETA: 0s - loss: 9.9205e-05 - accuracy: 1.0000"
     ]
    },
    {
     "name": "stderr",
     "output_type": "stream",
     "text": [
      "WARNING:absl:Found untraced functions such as _jit_compiled_convolution_op, _jit_compiled_convolution_op, _jit_compiled_convolution_op while saving (showing 3 of 3). These functions will not be directly callable after loading.\n"
     ]
    },
    {
     "name": "stdout",
     "output_type": "stream",
     "text": [
      "INFO:tensorflow:Assets written to: models\\experiment-fiters-1\\assets\n"
     ]
    },
    {
     "name": "stderr",
     "output_type": "stream",
     "text": [
      "INFO:tensorflow:Assets written to: models\\experiment-fiters-1\\assets\n"
     ]
    },
    {
     "name": "stdout",
     "output_type": "stream",
     "text": [
      "610/610 [==============================] - 18s 29ms/step - loss: 9.9205e-05 - accuracy: 1.0000 - val_loss: 1.1515e-04 - val_accuracy: 1.0000\n",
      "Epoch 9/10\n",
      "608/610 [============================>.] - ETA: 0s - loss: 7.1056e-05 - accuracy: 1.0000"
     ]
    },
    {
     "name": "stderr",
     "output_type": "stream",
     "text": [
      "WARNING:absl:Found untraced functions such as _jit_compiled_convolution_op, _jit_compiled_convolution_op, _jit_compiled_convolution_op while saving (showing 3 of 3). These functions will not be directly callable after loading.\n"
     ]
    },
    {
     "name": "stdout",
     "output_type": "stream",
     "text": [
      "INFO:tensorflow:Assets written to: models\\experiment-fiters-1\\assets\n"
     ]
    },
    {
     "name": "stderr",
     "output_type": "stream",
     "text": [
      "INFO:tensorflow:Assets written to: models\\experiment-fiters-1\\assets\n"
     ]
    },
    {
     "name": "stdout",
     "output_type": "stream",
     "text": [
      "610/610 [==============================] - 18s 30ms/step - loss: 7.0946e-05 - accuracy: 1.0000 - val_loss: 8.8302e-05 - val_accuracy: 1.0000\n",
      "Epoch 10/10\n",
      "608/610 [============================>.] - ETA: 0s - loss: 5.0733e-05 - accuracy: 1.0000"
     ]
    },
    {
     "name": "stderr",
     "output_type": "stream",
     "text": [
      "WARNING:absl:Found untraced functions such as _jit_compiled_convolution_op, _jit_compiled_convolution_op, _jit_compiled_convolution_op while saving (showing 3 of 3). These functions will not be directly callable after loading.\n"
     ]
    },
    {
     "name": "stdout",
     "output_type": "stream",
     "text": [
      "INFO:tensorflow:Assets written to: models\\experiment-fiters-1\\assets\n"
     ]
    },
    {
     "name": "stderr",
     "output_type": "stream",
     "text": [
      "INFO:tensorflow:Assets written to: models\\experiment-fiters-1\\assets\n"
     ]
    },
    {
     "name": "stdout",
     "output_type": "stream",
     "text": [
      "610/610 [==============================] - 18s 29ms/step - loss: 5.0726e-05 - accuracy: 1.0000 - val_loss: 6.8893e-05 - val_accuracy: 1.0000\n"
     ]
    }
   ],
   "source": [
    "# Models\n",
    "# 'models/experiment-fiters-1'\n",
    "\n",
    "# History objects\n",
    "# 'models/experiment-filters-1-history'\n",
    "\n",
    "save_best_cb = keras.callbacks.ModelCheckpoint(f'models/experiment-fiters-1', save_best_only=True)\n",
    "early_stopping_cb = keras.callbacks.EarlyStopping(patience=5)\n",
    "\n",
    "model = keras.models.Sequential()\n",
    "model.add(keras.layers.Conv2D(24, (3, 3), padding='same', activation='relu'))\n",
    "model.add(keras.layers.MaxPooling2D(pool_size=(2, 2)))\n",
    "model.add(keras.layers.Conv2D(48, (3, 3), padding='same', activation='relu'))\n",
    "model.add(keras.layers.MaxPooling2D(pool_size=(2, 2)))\n",
    "model.add(keras.layers.Conv2D(96, (3, 3), padding='same', activation='relu'))\n",
    "model.add(keras.layers.MaxPooling2D(pool_size=(2, 2)))\n",
    "model.add(keras.layers.Flatten())\n",
    "model.add(keras.layers.Dense(128, activation='relu'))\n",
    "model.add(keras.layers.Dense(24, activation='softmax'))\n",
    "model.compile(loss='categorical_crossentropy', optimizer='adam', metrics=['accuracy'])\n",
    "history = model.fit(X_train, y_train, epochs=10, validation_data=(X_valid, y_valid), callbacks=[save_best_cb, early_stopping_cb])\n",
    "with open(f'models/experiment-filters-1-history', 'wb') as history_file:\n",
    "    pickle.dump(history.history, history_file)"
   ]
  },
  {
   "cell_type": "code",
   "execution_count": 69,
   "id": "fd949a0f",
   "metadata": {},
   "outputs": [
    {
     "name": "stdout",
     "output_type": "stream",
     "text": [
      "249/249 [==============================] - 3s 11ms/step - loss: 6.8893e-05 - accuracy: 1.0000\n"
     ]
    },
    {
     "data": {
      "text/plain": [
       "[6.889300129842013e-05, 1.0]"
      ]
     },
     "execution_count": 69,
     "metadata": {},
     "output_type": "execute_result"
    }
   ],
   "source": [
    "model = keras.models.load_model('models/experiment-fiters-1/')\n",
    "model.evaluate(X_valid, y_valid)"
   ]
  },
  {
   "cell_type": "code",
   "execution_count": 70,
   "id": "90c2306d",
   "metadata": {
    "scrolled": false
   },
   "outputs": [
    {
     "data": {
      "image/png": "[encoded data removed]",
      "text/plain": [
       "<Figure size 720x360 with 1 Axes>"
      ]
     },
     "metadata": {
      "needs_background": "light"
     },
     "output_type": "display_data"
    },
    {
     "data": {
      "image/png": "[encoded data removed]",
      "text/plain": [
       "<Figure size 720x360 with 1 Axes>"
      ]
     },
     "metadata": {
      "needs_background": "light"
     },
     "output_type": "display_data"
    }
   ],
   "source": [
    "h_2_3 = np.load('models/experiment-fmaps-3-history', allow_pickle=True)\n",
    "h = np.load('models/experiment-filters-1-history', allow_pickle=True)\n",
    "get_train_val_plots(h, yticks=np.arange(0, 1.2, 0.1))\n",
    "get_train_val_plots(h_2_3, yticks=np.arange(0, 1.2, 0.1))"
   ]
  },
  {
   "cell_type": "markdown",
   "id": "907e562e",
   "metadata": {},
   "source": [
    "#### We choose to use filter sizes of (5x5)\n",
    "#### Dropout"
   ]
  },
  {
   "cell_type": "code",
   "execution_count": 71,
   "id": "d1174492",
   "metadata": {},
   "outputs": [
    {
     "name": "stdout",
     "output_type": "stream",
     "text": [
      "Epoch 1/10\n",
      "609/610 [============================>.] - ETA: 0s - loss: 1.6012 - accuracy: 0.4987"
     ]
    },
    {
     "name": "stderr",
     "output_type": "stream",
     "text": [
      "WARNING:absl:Found untraced functions such as _jit_compiled_convolution_op, _jit_compiled_convolution_op, _jit_compiled_convolution_op while saving (showing 3 of 3). These functions will not be directly callable after loading.\n"
     ]
    },
    {
     "name": "stdout",
     "output_type": "stream",
     "text": [
      "INFO:tensorflow:Assets written to: models\\experiment-dropout-0\\assets\n"
     ]
    },
    {
     "name": "stderr",
     "output_type": "stream",
     "text": [
      "INFO:tensorflow:Assets written to: models\\experiment-dropout-0\\assets\n"
     ]
    },
    {
     "name": "stdout",
     "output_type": "stream",
     "text": [
      "610/610 [==============================] - 32s 50ms/step - loss: 1.6005 - accuracy: 0.4989 - val_loss: 0.2593 - val_accuracy: 0.9130\n",
      "Epoch 2/10\n",
      "610/610 [==============================] - ETA: 0s - loss: 0.3124 - accuracy: 0.8923"
     ]
    },
    {
     "name": "stderr",
     "output_type": "stream",
     "text": [
      "WARNING:absl:Found untraced functions such as _jit_compiled_convolution_op, _jit_compiled_convolution_op, _jit_compiled_convolution_op while saving (showing 3 of 3). These functions will not be directly callable after loading.\n"
     ]
    },
    {
     "name": "stdout",
     "output_type": "stream",
     "text": [
      "INFO:tensorflow:Assets written to: models\\experiment-dropout-0\\assets\n"
     ]
    },
    {
     "name": "stderr",
     "output_type": "stream",
     "text": [
      "INFO:tensorflow:Assets written to: models\\experiment-dropout-0\\assets\n"
     ]
    },
    {
     "name": "stdout",
     "output_type": "stream",
     "text": [
      "610/610 [==============================] - 31s 51ms/step - loss: 0.3124 - accuracy: 0.8923 - val_loss: 0.0466 - val_accuracy: 0.9966\n",
      "Epoch 3/10\n",
      "610/610 [==============================] - ETA: 0s - loss: 0.1455 - accuracy: 0.9505"
     ]
    },
    {
     "name": "stderr",
     "output_type": "stream",
     "text": [
      "WARNING:absl:Found untraced functions such as _jit_compiled_convolution_op, _jit_compiled_convolution_op, _jit_compiled_convolution_op while saving (showing 3 of 3). These functions will not be directly callable after loading.\n"
     ]
    },
    {
     "name": "stdout",
     "output_type": "stream",
     "text": [
      "INFO:tensorflow:Assets written to: models\\experiment-dropout-0\\assets\n"
     ]
    },
    {
     "name": "stderr",
     "output_type": "stream",
     "text": [
      "INFO:tensorflow:Assets written to: models\\experiment-dropout-0\\assets\n"
     ]
    },
    {
     "name": "stdout",
     "output_type": "stream",
     "text": [
      "610/610 [==============================] - 30s 50ms/step - loss: 0.1455 - accuracy: 0.9505 - val_loss: 0.0144 - val_accuracy: 0.9991\n",
      "Epoch 4/10\n",
      "610/610 [==============================] - ETA: 0s - loss: 0.0889 - accuracy: 0.9710"
     ]
    },
    {
     "name": "stderr",
     "output_type": "stream",
     "text": [
      "WARNING:absl:Found untraced functions such as _jit_compiled_convolution_op, _jit_compiled_convolution_op, _jit_compiled_convolution_op while saving (showing 3 of 3). These functions will not be directly callable after loading.\n"
     ]
    },
    {
     "name": "stdout",
     "output_type": "stream",
     "text": [
      "INFO:tensorflow:Assets written to: models\\experiment-dropout-0\\assets\n"
     ]
    },
    {
     "name": "stderr",
     "output_type": "stream",
     "text": [
      "INFO:tensorflow:Assets written to: models\\experiment-dropout-0\\assets\n"
     ]
    },
    {
     "name": "stdout",
     "output_type": "stream",
     "text": [
      "610/610 [==============================] - 31s 51ms/step - loss: 0.0889 - accuracy: 0.9710 - val_loss: 0.0031 - val_accuracy: 0.9999\n",
      "Epoch 5/10\n",
      "610/610 [==============================] - 29s 47ms/step - loss: 0.0653 - accuracy: 0.9778 - val_loss: 0.0052 - val_accuracy: 0.9999\n",
      "Epoch 6/10\n",
      "609/610 [============================>.] - ETA: 0s - loss: 0.0604 - accuracy: 0.9811"
     ]
    },
    {
     "name": "stderr",
     "output_type": "stream",
     "text": [
      "WARNING:absl:Found untraced functions such as _jit_compiled_convolution_op, _jit_compiled_convolution_op, _jit_compiled_convolution_op while saving (showing 3 of 3). These functions will not be directly callable after loading.\n"
     ]
    },
    {
     "name": "stdout",
     "output_type": "stream",
     "text": [
      "INFO:tensorflow:Assets written to: models\\experiment-dropout-0\\assets\n"
     ]
    },
    {
     "name": "stderr",
     "output_type": "stream",
     "text": [
      "INFO:tensorflow:Assets written to: models\\experiment-dropout-0\\assets\n"
     ]
    },
    {
     "name": "stdout",
     "output_type": "stream",
     "text": [
      "610/610 [==============================] - 31s 50ms/step - loss: 0.0604 - accuracy: 0.9811 - val_loss: 0.0029 - val_accuracy: 0.9999\n",
      "Epoch 7/10\n",
      "609/610 [============================>.] - ETA: 0s - loss: 0.0472 - accuracy: 0.9848"
     ]
    },
    {
     "name": "stderr",
     "output_type": "stream",
     "text": [
      "WARNING:absl:Found untraced functions such as _jit_compiled_convolution_op, _jit_compiled_convolution_op, _jit_compiled_convolution_op while saving (showing 3 of 3). These functions will not be directly callable after loading.\n"
     ]
    },
    {
     "name": "stdout",
     "output_type": "stream",
     "text": [
      "INFO:tensorflow:Assets written to: models\\experiment-dropout-0\\assets\n"
     ]
    },
    {
     "name": "stderr",
     "output_type": "stream",
     "text": [
      "INFO:tensorflow:Assets written to: models\\experiment-dropout-0\\assets\n"
     ]
    },
    {
     "name": "stdout",
     "output_type": "stream",
     "text": [
      "610/610 [==============================] - 31s 51ms/step - loss: 0.0472 - accuracy: 0.9848 - val_loss: 3.1899e-04 - val_accuracy: 1.0000\n",
      "Epoch 8/10\n",
      "610/610 [==============================] - ETA: 0s - loss: 0.0471 - accuracy: 0.9844"
     ]
    },
    {
     "name": "stderr",
     "output_type": "stream",
     "text": [
      "WARNING:absl:Found untraced functions such as _jit_compiled_convolution_op, _jit_compiled_convolution_op, _jit_compiled_convolution_op while saving (showing 3 of 3). These functions will not be directly callable after loading.\n"
     ]
    },
    {
     "name": "stdout",
     "output_type": "stream",
     "text": [
      "INFO:tensorflow:Assets written to: models\\experiment-dropout-0\\assets\n"
     ]
    },
    {
     "name": "stderr",
     "output_type": "stream",
     "text": [
      "INFO:tensorflow:Assets written to: models\\experiment-dropout-0\\assets\n"
     ]
    },
    {
     "name": "stdout",
     "output_type": "stream",
     "text": [
      "610/610 [==============================] - 32s 52ms/step - loss: 0.0471 - accuracy: 0.9844 - val_loss: 2.7324e-04 - val_accuracy: 1.0000\n",
      "Epoch 9/10\n",
      "610/610 [==============================] - 28s 46ms/step - loss: 0.0357 - accuracy: 0.9876 - val_loss: 0.0021 - val_accuracy: 0.9992\n",
      "Epoch 10/10\n",
      "610/610 [==============================] - 28s 47ms/step - loss: 0.0412 - accuracy: 0.9871 - val_loss: 5.6607e-04 - val_accuracy: 0.9997\n",
      "Epoch 1/10\n",
      "610/610 [==============================] - ETA: 0s - loss: 2.2141 - accuracy: 0.3093"
     ]
    },
    {
     "name": "stderr",
     "output_type": "stream",
     "text": [
      "WARNING:absl:Found untraced functions such as _jit_compiled_convolution_op, _jit_compiled_convolution_op, _jit_compiled_convolution_op while saving (showing 3 of 3). These functions will not be directly callable after loading.\n"
     ]
    },
    {
     "name": "stdout",
     "output_type": "stream",
     "text": [
      "INFO:tensorflow:Assets written to: models\\experiment-dropout-1\\assets\n"
     ]
    },
    {
     "name": "stderr",
     "output_type": "stream",
     "text": [
      "INFO:tensorflow:Assets written to: models\\experiment-dropout-1\\assets\n"
     ]
    },
    {
     "name": "stdout",
     "output_type": "stream",
     "text": [
      "610/610 [==============================] - 32s 52ms/step - loss: 2.2141 - accuracy: 0.3093 - val_loss: 0.5078 - val_accuracy: 0.8758\n",
      "Epoch 2/10\n",
      "609/610 [============================>.] - ETA: 0s - loss: 0.5916 - accuracy: 0.7948"
     ]
    },
    {
     "name": "stderr",
     "output_type": "stream",
     "text": [
      "WARNING:absl:Found untraced functions such as _jit_compiled_convolution_op, _jit_compiled_convolution_op, _jit_compiled_convolution_op while saving (showing 3 of 3). These functions will not be directly callable after loading.\n"
     ]
    },
    {
     "name": "stdout",
     "output_type": "stream",
     "text": [
      "INFO:tensorflow:Assets written to: models\\experiment-dropout-1\\assets\n"
     ]
    },
    {
     "name": "stderr",
     "output_type": "stream",
     "text": [
      "INFO:tensorflow:Assets written to: models\\experiment-dropout-1\\assets\n"
     ]
    },
    {
     "name": "stdout",
     "output_type": "stream",
     "text": [
      "610/610 [==============================] - 31s 51ms/step - loss: 0.5916 - accuracy: 0.7949 - val_loss: 0.1179 - val_accuracy: 0.9776\n",
      "Epoch 3/10\n",
      "609/610 [============================>.] - ETA: 0s - loss: 0.3188 - accuracy: 0.8884"
     ]
    },
    {
     "name": "stderr",
     "output_type": "stream",
     "text": [
      "WARNING:absl:Found untraced functions such as _jit_compiled_convolution_op, _jit_compiled_convolution_op, _jit_compiled_convolution_op while saving (showing 3 of 3). These functions will not be directly callable after loading.\n"
     ]
    },
    {
     "name": "stdout",
     "output_type": "stream",
     "text": [
      "INFO:tensorflow:Assets written to: models\\experiment-dropout-1\\assets\n"
     ]
    },
    {
     "name": "stderr",
     "output_type": "stream",
     "text": [
      "INFO:tensorflow:Assets written to: models\\experiment-dropout-1\\assets\n"
     ]
    },
    {
     "name": "stdout",
     "output_type": "stream",
     "text": [
      "610/610 [==============================] - 34s 55ms/step - loss: 0.3187 - accuracy: 0.8884 - val_loss: 0.0466 - val_accuracy: 0.9938\n",
      "Epoch 4/10\n",
      "610/610 [==============================] - ETA: 0s - loss: 0.2088 - accuracy: 0.9287"
     ]
    },
    {
     "name": "stderr",
     "output_type": "stream",
     "text": [
      "WARNING:absl:Found untraced functions such as _jit_compiled_convolution_op, _jit_compiled_convolution_op, _jit_compiled_convolution_op while saving (showing 3 of 3). These functions will not be directly callable after loading.\n"
     ]
    },
    {
     "name": "stdout",
     "output_type": "stream",
     "text": [
      "INFO:tensorflow:Assets written to: models\\experiment-dropout-1\\assets\n"
     ]
    },
    {
     "name": "stderr",
     "output_type": "stream",
     "text": [
      "INFO:tensorflow:Assets written to: models\\experiment-dropout-1\\assets\n"
     ]
    },
    {
     "name": "stdout",
     "output_type": "stream",
     "text": [
      "610/610 [==============================] - 31s 50ms/step - loss: 0.2088 - accuracy: 0.9287 - val_loss: 0.0161 - val_accuracy: 0.9990\n",
      "Epoch 5/10\n",
      "610/610 [==============================] - ETA: 0s - loss: 0.1634 - accuracy: 0.9440"
     ]
    },
    {
     "name": "stderr",
     "output_type": "stream",
     "text": [
      "WARNING:absl:Found untraced functions such as _jit_compiled_convolution_op, _jit_compiled_convolution_op, _jit_compiled_convolution_op while saving (showing 3 of 3). These functions will not be directly callable after loading.\n"
     ]
    },
    {
     "name": "stdout",
     "output_type": "stream",
     "text": [
      "INFO:tensorflow:Assets written to: models\\experiment-dropout-1\\assets\n"
     ]
    },
    {
     "name": "stderr",
     "output_type": "stream",
     "text": [
      "INFO:tensorflow:Assets written to: models\\experiment-dropout-1\\assets\n"
     ]
    },
    {
     "name": "stdout",
     "output_type": "stream",
     "text": [
      "610/610 [==============================] - 31s 50ms/step - loss: 0.1634 - accuracy: 0.9440 - val_loss: 0.0086 - val_accuracy: 0.9996\n",
      "Epoch 6/10\n",
      "609/610 [============================>.] - ETA: 0s - loss: 0.1386 - accuracy: 0.9548"
     ]
    },
    {
     "name": "stderr",
     "output_type": "stream",
     "text": [
      "WARNING:absl:Found untraced functions such as _jit_compiled_convolution_op, _jit_compiled_convolution_op, _jit_compiled_convolution_op while saving (showing 3 of 3). These functions will not be directly callable after loading.\n"
     ]
    },
    {
     "name": "stdout",
     "output_type": "stream",
     "text": [
      "INFO:tensorflow:Assets written to: models\\experiment-dropout-1\\assets\n"
     ]
    },
    {
     "name": "stderr",
     "output_type": "stream",
     "text": [
      "INFO:tensorflow:Assets written to: models\\experiment-dropout-1\\assets\n"
     ]
    },
    {
     "name": "stdout",
     "output_type": "stream",
     "text": [
      "610/610 [==============================] - 30s 49ms/step - loss: 0.1386 - accuracy: 0.9548 - val_loss: 0.0031 - val_accuracy: 0.9999\n",
      "Epoch 7/10\n",
      "609/610 [============================>.] - ETA: 0s - loss: 0.1109 - accuracy: 0.9621"
     ]
    },
    {
     "name": "stderr",
     "output_type": "stream",
     "text": [
      "WARNING:absl:Found untraced functions such as _jit_compiled_convolution_op, _jit_compiled_convolution_op, _jit_compiled_convolution_op while saving (showing 3 of 3). These functions will not be directly callable after loading.\n"
     ]
    },
    {
     "name": "stdout",
     "output_type": "stream",
     "text": [
      "INFO:tensorflow:Assets written to: models\\experiment-dropout-1\\assets\n"
     ]
    },
    {
     "name": "stderr",
     "output_type": "stream",
     "text": [
      "INFO:tensorflow:Assets written to: models\\experiment-dropout-1\\assets\n"
     ]
    },
    {
     "name": "stdout",
     "output_type": "stream",
     "text": [
      "610/610 [==============================] - 30s 50ms/step - loss: 0.1109 - accuracy: 0.9621 - val_loss: 0.0022 - val_accuracy: 1.0000\n",
      "Epoch 8/10\n",
      "610/610 [==============================] - 29s 48ms/step - loss: 0.1005 - accuracy: 0.9680 - val_loss: 0.0024 - val_accuracy: 1.0000\n",
      "Epoch 9/10\n",
      "609/610 [============================>.] - ETA: 0s - loss: 0.1008 - accuracy: 0.9654"
     ]
    },
    {
     "name": "stderr",
     "output_type": "stream",
     "text": [
      "WARNING:absl:Found untraced functions such as _jit_compiled_convolution_op, _jit_compiled_convolution_op, _jit_compiled_convolution_op while saving (showing 3 of 3). These functions will not be directly callable after loading.\n"
     ]
    },
    {
     "name": "stdout",
     "output_type": "stream",
     "text": [
      "INFO:tensorflow:Assets written to: models\\experiment-dropout-1\\assets\n"
     ]
    },
    {
     "name": "stderr",
     "output_type": "stream",
     "text": [
      "INFO:tensorflow:Assets written to: models\\experiment-dropout-1\\assets\n"
     ]
    },
    {
     "name": "stdout",
     "output_type": "stream",
     "text": [
      "610/610 [==============================] - 30s 50ms/step - loss: 0.1008 - accuracy: 0.9654 - val_loss: 0.0014 - val_accuracy: 1.0000\n",
      "Epoch 10/10\n",
      "609/610 [============================>.] - ETA: 0s - loss: 0.0845 - accuracy: 0.9704"
     ]
    },
    {
     "name": "stderr",
     "output_type": "stream",
     "text": [
      "WARNING:absl:Found untraced functions such as _jit_compiled_convolution_op, _jit_compiled_convolution_op, _jit_compiled_convolution_op while saving (showing 3 of 3). These functions will not be directly callable after loading.\n"
     ]
    },
    {
     "name": "stdout",
     "output_type": "stream",
     "text": [
      "INFO:tensorflow:Assets written to: models\\experiment-dropout-1\\assets\n"
     ]
    },
    {
     "name": "stderr",
     "output_type": "stream",
     "text": [
      "INFO:tensorflow:Assets written to: models\\experiment-dropout-1\\assets\n"
     ]
    },
    {
     "name": "stdout",
     "output_type": "stream",
     "text": [
      "610/610 [==============================] - 35s 58ms/step - loss: 0.0844 - accuracy: 0.9705 - val_loss: 4.9845e-04 - val_accuracy: 1.0000\n",
      "Epoch 1/10\n",
      "610/610 [==============================] - ETA: 0s - loss: 2.5837 - accuracy: 0.2004"
     ]
    },
    {
     "name": "stderr",
     "output_type": "stream",
     "text": [
      "WARNING:absl:Found untraced functions such as _jit_compiled_convolution_op, _jit_compiled_convolution_op, _jit_compiled_convolution_op while saving (showing 3 of 3). These functions will not be directly callable after loading.\n"
     ]
    },
    {
     "name": "stdout",
     "output_type": "stream",
     "text": [
      "INFO:tensorflow:Assets written to: models\\experiment-dropout-2\\assets\n"
     ]
    },
    {
     "name": "stderr",
     "output_type": "stream",
     "text": [
      "INFO:tensorflow:Assets written to: models\\experiment-dropout-2\\assets\n"
     ]
    },
    {
     "name": "stdout",
     "output_type": "stream",
     "text": [
      "610/610 [==============================] - 34s 54ms/step - loss: 2.5837 - accuracy: 0.2004 - val_loss: 1.0219 - val_accuracy: 0.7443\n",
      "Epoch 2/10\n",
      "610/610 [==============================] - ETA: 0s - loss: 1.1156 - accuracy: 0.6194"
     ]
    },
    {
     "name": "stderr",
     "output_type": "stream",
     "text": [
      "WARNING:absl:Found untraced functions such as _jit_compiled_convolution_op, _jit_compiled_convolution_op, _jit_compiled_convolution_op while saving (showing 3 of 3). These functions will not be directly callable after loading.\n"
     ]
    },
    {
     "name": "stdout",
     "output_type": "stream",
     "text": [
      "INFO:tensorflow:Assets written to: models\\experiment-dropout-2\\assets\n"
     ]
    },
    {
     "name": "stderr",
     "output_type": "stream",
     "text": [
      "INFO:tensorflow:Assets written to: models\\experiment-dropout-2\\assets\n"
     ]
    },
    {
     "name": "stdout",
     "output_type": "stream",
     "text": [
      "610/610 [==============================] - 30s 49ms/step - loss: 1.1156 - accuracy: 0.6194 - val_loss: 0.3684 - val_accuracy: 0.9257\n",
      "Epoch 3/10\n",
      "610/610 [==============================] - ETA: 0s - loss: 0.6717 - accuracy: 0.7620"
     ]
    },
    {
     "name": "stderr",
     "output_type": "stream",
     "text": [
      "WARNING:absl:Found untraced functions such as _jit_compiled_convolution_op, _jit_compiled_convolution_op, _jit_compiled_convolution_op while saving (showing 3 of 3). These functions will not be directly callable after loading.\n"
     ]
    },
    {
     "name": "stdout",
     "output_type": "stream",
     "text": [
      "INFO:tensorflow:Assets written to: models\\experiment-dropout-2\\assets\n"
     ]
    },
    {
     "name": "stderr",
     "output_type": "stream",
     "text": [
      "INFO:tensorflow:Assets written to: models\\experiment-dropout-2\\assets\n"
     ]
    },
    {
     "name": "stdout",
     "output_type": "stream",
     "text": [
      "610/610 [==============================] - 30s 50ms/step - loss: 0.6717 - accuracy: 0.7620 - val_loss: 0.1732 - val_accuracy: 0.9750\n",
      "Epoch 4/10\n",
      "609/610 [============================>.] - ETA: 0s - loss: 0.4892 - accuracy: 0.8308"
     ]
    },
    {
     "name": "stderr",
     "output_type": "stream",
     "text": [
      "WARNING:absl:Found untraced functions such as _jit_compiled_convolution_op, _jit_compiled_convolution_op, _jit_compiled_convolution_op while saving (showing 3 of 3). These functions will not be directly callable after loading.\n"
     ]
    },
    {
     "name": "stdout",
     "output_type": "stream",
     "text": [
      "INFO:tensorflow:Assets written to: models\\experiment-dropout-2\\assets\n"
     ]
    },
    {
     "name": "stderr",
     "output_type": "stream",
     "text": [
      "INFO:tensorflow:Assets written to: models\\experiment-dropout-2\\assets\n"
     ]
    },
    {
     "name": "stdout",
     "output_type": "stream",
     "text": [
      "610/610 [==============================] - 33s 54ms/step - loss: 0.4892 - accuracy: 0.8308 - val_loss: 0.1020 - val_accuracy: 0.9845\n",
      "Epoch 5/10\n",
      "610/610 [==============================] - ETA: 0s - loss: 0.4003 - accuracy: 0.8646"
     ]
    },
    {
     "name": "stderr",
     "output_type": "stream",
     "text": [
      "WARNING:absl:Found untraced functions such as _jit_compiled_convolution_op, _jit_compiled_convolution_op, _jit_compiled_convolution_op while saving (showing 3 of 3). These functions will not be directly callable after loading.\n"
     ]
    },
    {
     "name": "stdout",
     "output_type": "stream",
     "text": [
      "INFO:tensorflow:Assets written to: models\\experiment-dropout-2\\assets\n"
     ]
    },
    {
     "name": "stderr",
     "output_type": "stream",
     "text": [
      "INFO:tensorflow:Assets written to: models\\experiment-dropout-2\\assets\n"
     ]
    },
    {
     "name": "stdout",
     "output_type": "stream",
     "text": [
      "610/610 [==============================] - 30s 49ms/step - loss: 0.4003 - accuracy: 0.8646 - val_loss: 0.0500 - val_accuracy: 0.9927\n",
      "Epoch 6/10\n",
      "609/610 [============================>.] - ETA: 0s - loss: 0.3371 - accuracy: 0.8861"
     ]
    },
    {
     "name": "stderr",
     "output_type": "stream",
     "text": [
      "WARNING:absl:Found untraced functions such as _jit_compiled_convolution_op, _jit_compiled_convolution_op, _jit_compiled_convolution_op while saving (showing 3 of 3). These functions will not be directly callable after loading.\n"
     ]
    },
    {
     "name": "stdout",
     "output_type": "stream",
     "text": [
      "INFO:tensorflow:Assets written to: models\\experiment-dropout-2\\assets\n"
     ]
    },
    {
     "name": "stderr",
     "output_type": "stream",
     "text": [
      "INFO:tensorflow:Assets written to: models\\experiment-dropout-2\\assets\n"
     ]
    },
    {
     "name": "stdout",
     "output_type": "stream",
     "text": [
      "610/610 [==============================] - 30s 50ms/step - loss: 0.3371 - accuracy: 0.8861 - val_loss: 0.0433 - val_accuracy: 0.9979\n",
      "Epoch 7/10\n",
      "610/610 [==============================] - ETA: 0s - loss: 0.2811 - accuracy: 0.9041"
     ]
    },
    {
     "name": "stderr",
     "output_type": "stream",
     "text": [
      "WARNING:absl:Found untraced functions such as _jit_compiled_convolution_op, _jit_compiled_convolution_op, _jit_compiled_convolution_op while saving (showing 3 of 3). These functions will not be directly callable after loading.\n"
     ]
    },
    {
     "name": "stdout",
     "output_type": "stream",
     "text": [
      "INFO:tensorflow:Assets written to: models\\experiment-dropout-2\\assets\n"
     ]
    },
    {
     "name": "stderr",
     "output_type": "stream",
     "text": [
      "INFO:tensorflow:Assets written to: models\\experiment-dropout-2\\assets\n"
     ]
    },
    {
     "name": "stdout",
     "output_type": "stream",
     "text": [
      "610/610 [==============================] - 34s 56ms/step - loss: 0.2811 - accuracy: 0.9041 - val_loss: 0.0202 - val_accuracy: 0.9990\n",
      "Epoch 8/10\n",
      "610/610 [==============================] - ETA: 0s - loss: 0.2606 - accuracy: 0.9135"
     ]
    },
    {
     "name": "stderr",
     "output_type": "stream",
     "text": [
      "WARNING:absl:Found untraced functions such as _jit_compiled_convolution_op, _jit_compiled_convolution_op, _jit_compiled_convolution_op while saving (showing 3 of 3). These functions will not be directly callable after loading.\n"
     ]
    },
    {
     "name": "stdout",
     "output_type": "stream",
     "text": [
      "INFO:tensorflow:Assets written to: models\\experiment-dropout-2\\assets\n"
     ]
    },
    {
     "name": "stderr",
     "output_type": "stream",
     "text": [
      "INFO:tensorflow:Assets written to: models\\experiment-dropout-2\\assets\n"
     ]
    },
    {
     "name": "stdout",
     "output_type": "stream",
     "text": [
      "610/610 [==============================] - 34s 56ms/step - loss: 0.2606 - accuracy: 0.9135 - val_loss: 0.0160 - val_accuracy: 0.9997\n",
      "Epoch 9/10\n",
      "610/610 [==============================] - ETA: 0s - loss: 0.2314 - accuracy: 0.9218"
     ]
    },
    {
     "name": "stderr",
     "output_type": "stream",
     "text": [
      "WARNING:absl:Found untraced functions such as _jit_compiled_convolution_op, _jit_compiled_convolution_op, _jit_compiled_convolution_op while saving (showing 3 of 3). These functions will not be directly callable after loading.\n"
     ]
    },
    {
     "name": "stdout",
     "output_type": "stream",
     "text": [
      "INFO:tensorflow:Assets written to: models\\experiment-dropout-2\\assets\n"
     ]
    },
    {
     "name": "stderr",
     "output_type": "stream",
     "text": [
      "INFO:tensorflow:Assets written to: models\\experiment-dropout-2\\assets\n"
     ]
    },
    {
     "name": "stdout",
     "output_type": "stream",
     "text": [
      "610/610 [==============================] - 32s 53ms/step - loss: 0.2314 - accuracy: 0.9218 - val_loss: 0.0121 - val_accuracy: 0.9981\n",
      "Epoch 10/10\n",
      "609/610 [============================>.] - ETA: 0s - loss: 0.2281 - accuracy: 0.9246"
     ]
    },
    {
     "name": "stderr",
     "output_type": "stream",
     "text": [
      "WARNING:absl:Found untraced functions such as _jit_compiled_convolution_op, _jit_compiled_convolution_op, _jit_compiled_convolution_op while saving (showing 3 of 3). These functions will not be directly callable after loading.\n"
     ]
    },
    {
     "name": "stdout",
     "output_type": "stream",
     "text": [
      "INFO:tensorflow:Assets written to: models\\experiment-dropout-2\\assets\n"
     ]
    },
    {
     "name": "stderr",
     "output_type": "stream",
     "text": [
      "INFO:tensorflow:Assets written to: models\\experiment-dropout-2\\assets\n"
     ]
    },
    {
     "name": "stdout",
     "output_type": "stream",
     "text": [
      "610/610 [==============================] - 30s 50ms/step - loss: 0.2280 - accuracy: 0.9247 - val_loss: 0.0088 - val_accuracy: 1.0000\n"
     ]
    }
   ],
   "source": [
    "# Models\n",
    "# 'models/experiment-dropout-0'\n",
    "# 'models/experiment-dropout-1'\n",
    "# 'models/experiment-dropout-2'\n",
    "\n",
    "# History objects\n",
    "# 'models/experiment-dropout-0-history'\n",
    "# 'models/experiment-dropout-1-history'\n",
    "# 'models/experiment-dropout-2-history'\n",
    "\n",
    "early_stopping_cb = keras.callbacks.EarlyStopping(patience=5)\n",
    "\n",
    "dropout_rates = [0.3, 0.4, 0.5]\n",
    "\n",
    "for index, i in enumerate(dropout_rates):\n",
    "    model = keras.models.Sequential()\n",
    "    model.add(keras.layers.Conv2D(24, (5, 5), padding='same', activation='relu'))\n",
    "    model.add(keras.layers.MaxPooling2D(pool_size=(2, 2)))\n",
    "    model.add(keras.layers.Dropout(i))\n",
    "    model.add(keras.layers.Conv2D(48, (5, 5), padding='same', activation='relu'))\n",
    "    model.add(keras.layers.MaxPooling2D(pool_size=(2, 2)))\n",
    "    model.add(keras.layers.Dropout(i))\n",
    "    model.add(keras.layers.Conv2D(96, (5, 5), padding='same', activation='relu'))\n",
    "    model.add(keras.layers.MaxPooling2D(pool_size=(2, 2)))\n",
    "    model.add(keras.layers.Dropout(i))\n",
    "    model.add(keras.layers.Flatten())\n",
    "    model.add(keras.layers.Dense(128, activation='relu'))\n",
    "    model.add(keras.layers.Dropout(i))\n",
    "    model.add(keras.layers.Dense(24, activation='softmax'))\n",
    "    model.compile(loss='categorical_crossentropy', optimizer='adam', metrics=['accuracy'])\n",
    "    save_best_cb = keras.callbacks.ModelCheckpoint(f'models/experiment-dropout-{index}', save_best_only=True)\n",
    "    history = model.fit(X_train, y_train, epochs=10, validation_data=(X_valid, y_valid), callbacks=[save_best_cb, early_stopping_cb])\n",
    "    with open(f'models/experiment-dropout-{index}-history', 'wb') as history_file:\n",
    "        pickle.dump(history.history, history_file)"
   ]
  },
  {
   "cell_type": "code",
   "execution_count": 72,
   "id": "74118290",
   "metadata": {},
   "outputs": [
    {
     "name": "stdout",
     "output_type": "stream",
     "text": [
      "249/249 [==============================] - 3s 8ms/step - loss: 2.7324e-04 - accuracy: 1.0000\n",
      "249/249 [==============================] - 2s 8ms/step - loss: 4.9845e-04 - accuracy: 1.0000\n",
      "249/249 [==============================] - 2s 9ms/step - loss: 0.0088 - accuracy: 1.0000\n"
     ]
    }
   ],
   "source": [
    "for index in range(3):\n",
    "    model = keras.models.load_model(f'models/experiment-dropout-{index}')\n",
    "    model.evaluate(X_valid, y_valid)"
   ]
  },
  {
   "cell_type": "code",
   "execution_count": 73,
   "id": "e012bd84",
   "metadata": {
    "scrolled": true
   },
   "outputs": [
    {
     "data": {
      "image/png": "[encoded data removed]",
      "text/plain": [
       "<Figure size 720x360 with 1 Axes>"
      ]
     },
     "metadata": {
      "needs_background": "light"
     },
     "output_type": "display_data"
    },
    {
     "data": {
      "image/png": "[encoded data removed]",
      "text/plain": [
       "<Figure size 720x360 with 1 Axes>"
      ]
     },
     "metadata": {
      "needs_background": "light"
     },
     "output_type": "display_data"
    },
    {
     "data": {
      "image/png": "[encoded data removed]",
      "text/plain": [
       "<Figure size 720x360 with 1 Axes>"
      ]
     },
     "metadata": {
      "needs_background": "light"
     },
     "output_type": "display_data"
    }
   ],
   "source": [
    "h_0 = np.load('models/experiment-dropout-0-history', allow_pickle=True)\n",
    "h_1 = np.load('models/experiment-dropout-1-history', allow_pickle=True)\n",
    "h_2 = np.load('models/experiment-dropout-2-history', allow_pickle=True)\n",
    "\n",
    "get_train_val_plots(h_0)\n",
    "get_train_val_plots(h_1)\n",
    "get_train_val_plots(h_2)"
   ]
  },
  {
   "cell_type": "markdown",
   "id": "244888e0",
   "metadata": {},
   "source": [
    "#### Select Model 1\n",
    "#### Data Augmentation"
   ]
  },
  {
   "cell_type": "code",
   "execution_count": 74,
   "id": "c52dad7f",
   "metadata": {},
   "outputs": [],
   "source": [
    "# Sample Code\n",
    "\n",
    "data_augmentation = keras.models.Sequential()\n",
    "data_augmentation.add(keras.layers.RandomRotation(0.1, fill_mode='nearest', input_shape=(28, 28, 1)))\n",
    "data_augmentation.add(keras.layers.RandomZoom((0.15, 0.2), fill_mode='nearest'))\n",
    "data_augmentation.add(keras.layers.RandomTranslation(0.1, 0.1, fill_mode='nearest'))\n",
    "\n",
    "model = keras.models.Sequential()\n",
    "# Add the layers from the above model"
   ]
  },
  {
   "cell_type": "markdown",
   "id": "0b43351d",
   "metadata": {},
   "source": [
    "#### Improves the models performance by decreasing the tendency to overfit\n",
    "\n",
    "#### Other Hyperparameters to try\n",
    "#### Batch Normalization - It normalizes the layer inputs\n",
    "#### Deeper networks work well - Replacing the single convolution layer of filter size (5X5) with two successive consecutive convolution layers of filter size (3X3)\n",
    "#### Number of units in the dense layer and number of dense layers\n",
    "#### Replacing the MaxPooling Layer with a convolution layer having a stride > 1\n",
    "#### Optimizers\n",
    "#### Learning rate of the optimizer\n",
    "#### Visualising the final model"
   ]
  },
  {
   "cell_type": "code",
   "execution_count": 87,
   "id": "9d3327e6",
   "metadata": {},
   "outputs": [],
   "source": [
    "best_model = keras.models.load_model('models/experiment-dropout-0/')"
   ]
  },
  {
   "cell_type": "markdown",
   "id": "3c4f6056",
   "metadata": {},
   "source": [
    "### Performance on the Test Set"
   ]
  },
  {
   "cell_type": "code",
   "execution_count": 77,
   "id": "91a5a3e0",
   "metadata": {},
   "outputs": [],
   "source": [
    "test_df = pd.read_csv('sign_mnist_test.csv')\n",
    "X_test, y_test = test_df.drop('label', axis=1), test_df['label']"
   ]
  },
  {
   "cell_type": "code",
   "execution_count": 78,
   "id": "7efa3290",
   "metadata": {},
   "outputs": [],
   "source": [
    "best_model = keras.models.load_model('models/experiment-dropout-0/')"
   ]
  },
  {
   "cell_type": "code",
   "execution_count": 79,
   "id": "ecb6ed2b",
   "metadata": {},
   "outputs": [
    {
     "name": "stdout",
     "output_type": "stream",
     "text": [
      "225/225 [==============================] - 2s 8ms/step - loss: 12.6057 - accuracy: 0.9732\n",
      "Loss: 12.606 Accuracy: 0.973\n"
     ]
    }
   ],
   "source": [
    "evaluate_model(best_model, X_test, y_test, label_binarizer)\n"
   ]
  },
  {
   "cell_type": "markdown",
   "id": "7b45a0d2",
   "metadata": {},
   "source": [
    "### Accuracy :97%"
   ]
  },
  {
   "cell_type": "code",
   "execution_count": 81,
   "id": "e3ad6594",
   "metadata": {},
   "outputs": [],
   "source": [
    "test_df = pd.read_csv('sign_mnist_test.csv')\n",
    "X_test, y_test = test_df.drop('label', axis=1), test_df['label']"
   ]
  },
  {
   "cell_type": "code",
   "execution_count": 82,
   "id": "2b40cc26",
   "metadata": {},
   "outputs": [],
   "source": [
    "# Applying normalisation which is applied for X_train\n",
    "X_test /= 255.0"
   ]
  },
  {
   "cell_type": "code",
   "execution_count": 83,
   "id": "47eb5e34",
   "metadata": {},
   "outputs": [],
   "source": [
    "best_model = keras.models.load_model('models/experiment-dropout-0/')"
   ]
  },
  {
   "cell_type": "code",
   "execution_count": 84,
   "id": "80c7ecac",
   "metadata": {
    "scrolled": true
   },
   "outputs": [
    {
     "name": "stdout",
     "output_type": "stream",
     "text": [
      "225/225 [==============================] - 2s 8ms/step - loss: 0.0543 - accuracy: 0.9809\n",
      "Loss: 0.054 Accuracy: 0.981\n"
     ]
    }
   ],
   "source": [
    "evaluate_model(best_model, X_test, y_test, label_binarizer)"
   ]
  },
  {
   "cell_type": "markdown",
   "id": "3901e4b3",
   "metadata": {},
   "source": [
    "### Accuracy:98%\n"
   ]
  },
  {
   "cell_type": "code",
   "execution_count": null,
   "id": "2d707dfb",
   "metadata": {},
   "outputs": [],
   "source": []
  }
 ],
 "metadata": {
  "kernelspec": {
   "display_name": "Python 3",
   "language": "python",
   "name": "python3"
  },
  "language_info": {
   "codemirror_mode": {
    "name": "ipython",
    "version": 3
   },
   "file_extension": ".py",
   "mimetype": "text/x-python",
   "name": "python",
   "nbconvert_exporter": "python",
   "pygments_lexer": "ipython3",
   "version": "3.8.8"
  }
 },
 "nbformat": 4,
 "nbformat_minor": 5
}
